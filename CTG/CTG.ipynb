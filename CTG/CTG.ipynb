{
 "cells": [
  {
   "cell_type": "code",
   "execution_count": 1,
   "id": "186720fc",
   "metadata": {},
   "outputs": [],
   "source": [
    "import pandas as pd"
   ]
  },
  {
   "cell_type": "code",
   "execution_count": 2,
   "id": "8117a40d",
   "metadata": {},
   "outputs": [],
   "source": [
    "ctg = pd.read_csv('CTG.csv')"
   ]
  },
  {
   "cell_type": "code",
   "execution_count": 3,
   "id": "dbb4f859",
   "metadata": {},
   "outputs": [
    {
     "data": {
      "text/html": [
       "<div>\n",
       "<style scoped>\n",
       "    .dataframe tbody tr th:only-of-type {\n",
       "        vertical-align: middle;\n",
       "    }\n",
       "\n",
       "    .dataframe tbody tr th {\n",
       "        vertical-align: top;\n",
       "    }\n",
       "\n",
       "    .dataframe thead th {\n",
       "        text-align: right;\n",
       "    }\n",
       "</style>\n",
       "<table border=\"1\" class=\"dataframe\">\n",
       "  <thead>\n",
       "    <tr style=\"text-align: right;\">\n",
       "      <th></th>\n",
       "      <th>LB</th>\n",
       "      <th>AC</th>\n",
       "      <th>FM</th>\n",
       "      <th>NSP</th>\n",
       "    </tr>\n",
       "  </thead>\n",
       "  <tbody>\n",
       "    <tr>\n",
       "      <th>0</th>\n",
       "      <td>120</td>\n",
       "      <td>0.000</td>\n",
       "      <td>0.0</td>\n",
       "      <td>2</td>\n",
       "    </tr>\n",
       "    <tr>\n",
       "      <th>1</th>\n",
       "      <td>132</td>\n",
       "      <td>0.006</td>\n",
       "      <td>0.0</td>\n",
       "      <td>1</td>\n",
       "    </tr>\n",
       "    <tr>\n",
       "      <th>2</th>\n",
       "      <td>133</td>\n",
       "      <td>0.003</td>\n",
       "      <td>0.0</td>\n",
       "      <td>1</td>\n",
       "    </tr>\n",
       "    <tr>\n",
       "      <th>3</th>\n",
       "      <td>134</td>\n",
       "      <td>0.003</td>\n",
       "      <td>0.0</td>\n",
       "      <td>1</td>\n",
       "    </tr>\n",
       "    <tr>\n",
       "      <th>4</th>\n",
       "      <td>132</td>\n",
       "      <td>0.007</td>\n",
       "      <td>0.0</td>\n",
       "      <td>1</td>\n",
       "    </tr>\n",
       "  </tbody>\n",
       "</table>\n",
       "</div>"
      ],
      "text/plain": [
       "    LB     AC   FM  NSP\n",
       "0  120  0.000  0.0    2\n",
       "1  132  0.006  0.0    1\n",
       "2  133  0.003  0.0    1\n",
       "3  134  0.003  0.0    1\n",
       "4  132  0.007  0.0    1"
      ]
     },
     "execution_count": 3,
     "metadata": {},
     "output_type": "execute_result"
    }
   ],
   "source": [
    "ctg.head()"
   ]
  },
  {
   "cell_type": "code",
   "execution_count": 4,
   "id": "a4a4b5de",
   "metadata": {},
   "outputs": [
    {
     "data": {
      "text/plain": [
       "(2126, 4)"
      ]
     },
     "execution_count": 4,
     "metadata": {},
     "output_type": "execute_result"
    }
   ],
   "source": [
    "ctg.shape"
   ]
  },
  {
   "cell_type": "code",
   "execution_count": 5,
   "id": "0f61e1ff",
   "metadata": {},
   "outputs": [
    {
     "data": {
      "text/plain": [
       "LB     0\n",
       "AC     0\n",
       "FM     0\n",
       "NSP    0\n",
       "dtype: int64"
      ]
     },
     "execution_count": 5,
     "metadata": {},
     "output_type": "execute_result"
    }
   ],
   "source": [
    "ctg.isnull().sum()"
   ]
  },
  {
   "cell_type": "code",
   "execution_count": 6,
   "id": "c003df38",
   "metadata": {},
   "outputs": [
    {
     "data": {
      "text/plain": [
       "Index([], dtype='object')"
      ]
     },
     "execution_count": 6,
     "metadata": {},
     "output_type": "execute_result"
    }
   ],
   "source": [
    "ctg.select_dtypes(include='object').columns"
   ]
  },
  {
   "cell_type": "markdown",
   "id": "6368d5ea",
   "metadata": {},
   "source": [
    "### Sampling"
   ]
  },
  {
   "cell_type": "code",
   "execution_count": 7,
   "id": "5d8f719f",
   "metadata": {},
   "outputs": [],
   "source": [
    "from sklearn.model_selection import train_test_split"
   ]
  },
  {
   "cell_type": "code",
   "execution_count": 8,
   "id": "a81926ed",
   "metadata": {},
   "outputs": [],
   "source": [
    "train_ctg,test_ctg = train_test_split(ctg,test_size=0.2)"
   ]
  },
  {
   "cell_type": "markdown",
   "id": "3b18009e",
   "metadata": {},
   "source": [
    "### Over Sampling"
   ]
  },
  {
   "cell_type": "code",
   "execution_count": 9,
   "id": "539233d3",
   "metadata": {},
   "outputs": [],
   "source": [
    "df3 = train_ctg[train_ctg.NSP == 3]\n",
    "train_ctg = pd.concat([train_ctg,df3,df3])"
   ]
  },
  {
   "cell_type": "code",
   "execution_count": 10,
   "id": "fbc51676",
   "metadata": {},
   "outputs": [],
   "source": [
    "train_ctg_x = train_ctg.iloc[:,:-1]\n",
    "train_ctg_y = train_ctg.iloc[:,-1]"
   ]
  },
  {
   "cell_type": "code",
   "execution_count": 11,
   "id": "22c35905",
   "metadata": {},
   "outputs": [],
   "source": [
    "test_ctg_x = test_ctg.iloc[:,:-1]\n",
    "test_ctg_y = test_ctg.iloc[:,-1]"
   ]
  },
  {
   "cell_type": "markdown",
   "id": "f30d8fe5",
   "metadata": {},
   "source": [
    "### Model Building"
   ]
  },
  {
   "cell_type": "code",
   "execution_count": 12,
   "id": "4f57ead9",
   "metadata": {},
   "outputs": [],
   "source": [
    "from sklearn.tree import DecisionTreeClassifier"
   ]
  },
  {
   "cell_type": "code",
   "execution_count": 13,
   "id": "5098801d",
   "metadata": {},
   "outputs": [],
   "source": [
    "dt = DecisionTreeClassifier()"
   ]
  },
  {
   "cell_type": "code",
   "execution_count": 14,
   "id": "255baa97",
   "metadata": {},
   "outputs": [
    {
     "data": {
      "text/plain": [
       "DecisionTreeClassifier()"
      ]
     },
     "execution_count": 14,
     "metadata": {},
     "output_type": "execute_result"
    }
   ],
   "source": [
    "dt.fit(train_ctg_x,train_ctg_y)"
   ]
  },
  {
   "cell_type": "markdown",
   "id": "6c0c950e",
   "metadata": {},
   "source": [
    "### Prediction"
   ]
  },
  {
   "cell_type": "code",
   "execution_count": 15,
   "id": "b3b8bc77",
   "metadata": {},
   "outputs": [
    {
     "data": {
      "text/plain": [
       "array([2, 1, 1, 1, 1, 3, 3, 1, 2, 2, 1, 1, 1, 1, 1, 3, 2, 2, 1, 1, 1, 1,\n",
       "       1, 1, 1, 1, 1, 1, 1, 1, 1, 1, 1, 1, 1, 3, 1, 1, 1, 1, 1, 2, 1, 1,\n",
       "       1, 3, 2, 3, 1, 2, 2, 1, 1, 1, 1, 2, 1, 3, 1, 1, 1, 2, 2, 1, 1, 1,\n",
       "       2, 1, 1, 1, 1, 1, 3, 1, 3, 1, 3, 1, 1, 1, 1, 1, 1, 2, 1, 1, 1, 1,\n",
       "       1, 1, 2, 2, 1, 1, 1, 1, 1, 1, 1, 1, 1, 1, 1, 1, 2, 1, 1, 2, 1, 3,\n",
       "       1, 1, 1, 1, 1, 1, 1, 1, 2, 3, 1, 1, 1, 1, 1, 1, 1, 1, 1, 1, 1, 3,\n",
       "       2, 3, 1, 3, 3, 2, 1, 1, 1, 1, 1, 1, 1, 1, 1, 2, 1, 1, 1, 3, 1, 1,\n",
       "       3, 1, 1, 1, 1, 1, 3, 1, 1, 1, 1, 1, 1, 1, 1, 1, 1, 2, 2, 2, 1, 3,\n",
       "       3, 1, 1, 1, 1, 2, 1, 3, 3, 2, 1, 1, 1, 1, 1, 3, 3, 2, 3, 1, 1, 1,\n",
       "       1, 1, 1, 1, 2, 1, 2, 1, 1, 2, 3, 1, 1, 1, 3, 1, 2, 1, 3, 1, 1, 1,\n",
       "       1, 1, 1, 2, 1, 1, 1, 1, 1, 3, 1, 1, 1, 3, 1, 2, 1, 1, 1, 1, 1, 1,\n",
       "       3, 1, 1, 2, 2, 1, 1, 1, 2, 1, 1, 1, 1, 2, 1, 1, 1, 2, 1, 1, 1, 1,\n",
       "       1, 1, 2, 1, 1, 1, 1, 2, 1, 1, 3, 1, 1, 1, 1, 1, 1, 2, 3, 1, 1, 1,\n",
       "       1, 1, 1, 1, 3, 1, 1, 1, 1, 3, 1, 3, 1, 1, 3, 3, 1, 1, 1, 2, 2, 1,\n",
       "       1, 1, 1, 1, 1, 2, 1, 1, 1, 1, 1, 1, 1, 3, 1, 1, 1, 1, 1, 1, 2, 1,\n",
       "       1, 1, 1, 1, 1, 1, 1, 1, 1, 1, 1, 3, 1, 1, 1, 1, 1, 1, 1, 1, 1, 1,\n",
       "       2, 1, 1, 1, 1, 1, 1, 1, 1, 1, 3, 2, 3, 1, 1, 1, 1, 1, 1, 1, 1, 3,\n",
       "       1, 1, 1, 1, 1, 1, 3, 2, 1, 1, 1, 3, 3, 1, 1, 1, 1, 3, 2, 2, 1, 1,\n",
       "       1, 3, 1, 1, 1, 1, 3, 1, 1, 1, 1, 1, 3, 1, 1, 1, 1, 2, 3, 1, 1, 1,\n",
       "       1, 1, 1, 1, 1, 2, 1, 1], dtype=int64)"
      ]
     },
     "execution_count": 15,
     "metadata": {},
     "output_type": "execute_result"
    }
   ],
   "source": [
    "dt_pred = dt.predict(test_ctg_x)\n",
    "dt_pred"
   ]
  },
  {
   "cell_type": "markdown",
   "id": "dd499ca7",
   "metadata": {},
   "source": [
    "### Cofusion Matrics"
   ]
  },
  {
   "cell_type": "code",
   "execution_count": 16,
   "id": "0f04d576",
   "metadata": {},
   "outputs": [],
   "source": [
    "from sklearn.metrics import confusion_matrix"
   ]
  },
  {
   "cell_type": "code",
   "execution_count": 17,
   "id": "3df8526b",
   "metadata": {},
   "outputs": [],
   "source": [
    "tab = confusion_matrix(test_ctg_y,dt_pred)"
   ]
  },
  {
   "cell_type": "code",
   "execution_count": 18,
   "id": "bb7bbbf5",
   "metadata": {},
   "outputs": [
    {
     "data": {
      "text/plain": [
       "array([[298,  14,  21],\n",
       "       [ 18,  35,   4],\n",
       "       [  5,   4,  27]], dtype=int64)"
      ]
     },
     "execution_count": 18,
     "metadata": {},
     "output_type": "execute_result"
    }
   ],
   "source": [
    "tab"
   ]
  },
  {
   "cell_type": "markdown",
   "id": "5061af3c",
   "metadata": {},
   "source": [
    "### model is good for predict the normal patients only \n"
   ]
  },
  {
   "cell_type": "markdown",
   "id": "2b1cf181",
   "metadata": {},
   "source": [
    "### but model is not predicting those paitents which are actually required tretment"
   ]
  },
  {
   "cell_type": "code",
   "execution_count": null,
   "id": "7c2478c6",
   "metadata": {},
   "outputs": [],
   "source": []
  }
 ],
 "metadata": {
  "kernelspec": {
   "display_name": "Python 3 (ipykernel)",
   "language": "python",
   "name": "python3"
  },
  "language_info": {
   "codemirror_mode": {
    "name": "ipython",
    "version": 3
   },
   "file_extension": ".py",
   "mimetype": "text/x-python",
   "name": "python",
   "nbconvert_exporter": "python",
   "pygments_lexer": "ipython3",
   "version": "3.9.13"
  }
 },
 "nbformat": 4,
 "nbformat_minor": 5
}

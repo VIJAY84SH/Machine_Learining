{
 "cells": [
  {
   "cell_type": "code",
   "execution_count": null,
   "id": "31c817f9",
   "metadata": {},
   "outputs": [],
   "source": [
    "W saha, I kishan, S yadav, V shankar, S Gill ('c'), C Green('vc'), P Chawla, M Shami, Rashid-Khan, N Ahmad, A Madhwal"
   ]
  },
  {
   "cell_type": "code",
   "execution_count": null,
   "id": "8041d69f",
   "metadata": {},
   "outputs": [],
   "source": [
    "W saha, I kishan, S yadav, V shankar, S Gill ('c'), C Green('vc'), P Chawla, M Shami, Rashid-Khan, N Ahmad, A Madhwal"
   ]
  }
 ],
 "metadata": {
  "kernelspec": {
   "display_name": "Python 3 (ipykernel)",
   "language": "python",
   "name": "python3"
  },
  "language_info": {
   "codemirror_mode": {
    "name": "ipython",
    "version": 3
   },
   "file_extension": ".py",
   "mimetype": "text/x-python",
   "name": "python",
   "nbconvert_exporter": "python",
   "pygments_lexer": "ipython3",
   "version": "3.9.13"
  }
 },
 "nbformat": 4,
 "nbformat_minor": 5
}

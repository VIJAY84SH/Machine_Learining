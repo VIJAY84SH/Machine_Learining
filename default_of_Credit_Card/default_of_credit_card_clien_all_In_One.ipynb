{
 "cells": [
  {
   "cell_type": "code",
   "execution_count": 51,
   "id": "b959e7c5",
   "metadata": {},
   "outputs": [],
   "source": [
    "import pandas as pd"
   ]
  },
  {
   "cell_type": "code",
   "execution_count": 52,
   "id": "ffd93266",
   "metadata": {},
   "outputs": [],
   "source": [
    "import warnings\n",
    "warnings.filterwarnings(\"ignore\")"
   ]
  },
  {
   "cell_type": "code",
   "execution_count": 53,
   "id": "ccd18537",
   "metadata": {},
   "outputs": [],
   "source": [
    "cc = pd.read_excel('default of credit card clients.xls',)"
   ]
  },
  {
   "cell_type": "code",
   "execution_count": 54,
   "id": "4fe0e207",
   "metadata": {},
   "outputs": [],
   "source": [
    "cc.columns = cc.iloc[0]"
   ]
  },
  {
   "cell_type": "code",
   "execution_count": 55,
   "id": "67418130",
   "metadata": {
    "scrolled": true
   },
   "outputs": [],
   "source": [
    "cc = cc.iloc[1::]"
   ]
  },
  {
   "cell_type": "code",
   "execution_count": 56,
   "id": "f880ee7a",
   "metadata": {},
   "outputs": [],
   "source": [
    "cc = cc.astype(float)"
   ]
  },
  {
   "cell_type": "code",
   "execution_count": 57,
   "id": "06fad9a1",
   "metadata": {},
   "outputs": [],
   "source": [
    "cc[cc <0] = 0"
   ]
  },
  {
   "cell_type": "code",
   "execution_count": 58,
   "id": "076c8089",
   "metadata": {},
   "outputs": [
    {
     "data": {
      "text/html": [
       "<div>\n",
       "<style scoped>\n",
       "    .dataframe tbody tr th:only-of-type {\n",
       "        vertical-align: middle;\n",
       "    }\n",
       "\n",
       "    .dataframe tbody tr th {\n",
       "        vertical-align: top;\n",
       "    }\n",
       "\n",
       "    .dataframe thead th {\n",
       "        text-align: right;\n",
       "    }\n",
       "</style>\n",
       "<table border=\"1\" class=\"dataframe\">\n",
       "  <thead>\n",
       "    <tr style=\"text-align: right;\">\n",
       "      <th></th>\n",
       "      <th>ID</th>\n",
       "      <th>LIMIT_BAL</th>\n",
       "      <th>SEX</th>\n",
       "      <th>EDUCATION</th>\n",
       "      <th>MARRIAGE</th>\n",
       "      <th>AGE</th>\n",
       "      <th>PAY_0</th>\n",
       "      <th>PAY_2</th>\n",
       "      <th>PAY_3</th>\n",
       "      <th>PAY_4</th>\n",
       "      <th>...</th>\n",
       "      <th>BILL_AMT4</th>\n",
       "      <th>BILL_AMT5</th>\n",
       "      <th>BILL_AMT6</th>\n",
       "      <th>PAY_AMT1</th>\n",
       "      <th>PAY_AMT2</th>\n",
       "      <th>PAY_AMT3</th>\n",
       "      <th>PAY_AMT4</th>\n",
       "      <th>PAY_AMT5</th>\n",
       "      <th>PAY_AMT6</th>\n",
       "      <th>default payment next month</th>\n",
       "    </tr>\n",
       "  </thead>\n",
       "  <tbody>\n",
       "    <tr>\n",
       "      <th>1</th>\n",
       "      <td>1.0</td>\n",
       "      <td>20000.0</td>\n",
       "      <td>2.0</td>\n",
       "      <td>2.0</td>\n",
       "      <td>1.0</td>\n",
       "      <td>24.0</td>\n",
       "      <td>2.0</td>\n",
       "      <td>2.0</td>\n",
       "      <td>0.0</td>\n",
       "      <td>0.0</td>\n",
       "      <td>...</td>\n",
       "      <td>0.0</td>\n",
       "      <td>0.0</td>\n",
       "      <td>0.0</td>\n",
       "      <td>0.0</td>\n",
       "      <td>689.0</td>\n",
       "      <td>0.0</td>\n",
       "      <td>0.0</td>\n",
       "      <td>0.0</td>\n",
       "      <td>0.0</td>\n",
       "      <td>1.0</td>\n",
       "    </tr>\n",
       "    <tr>\n",
       "      <th>2</th>\n",
       "      <td>2.0</td>\n",
       "      <td>120000.0</td>\n",
       "      <td>2.0</td>\n",
       "      <td>2.0</td>\n",
       "      <td>2.0</td>\n",
       "      <td>26.0</td>\n",
       "      <td>0.0</td>\n",
       "      <td>2.0</td>\n",
       "      <td>0.0</td>\n",
       "      <td>0.0</td>\n",
       "      <td>...</td>\n",
       "      <td>3272.0</td>\n",
       "      <td>3455.0</td>\n",
       "      <td>3261.0</td>\n",
       "      <td>0.0</td>\n",
       "      <td>1000.0</td>\n",
       "      <td>1000.0</td>\n",
       "      <td>1000.0</td>\n",
       "      <td>0.0</td>\n",
       "      <td>2000.0</td>\n",
       "      <td>1.0</td>\n",
       "    </tr>\n",
       "    <tr>\n",
       "      <th>3</th>\n",
       "      <td>3.0</td>\n",
       "      <td>90000.0</td>\n",
       "      <td>2.0</td>\n",
       "      <td>2.0</td>\n",
       "      <td>2.0</td>\n",
       "      <td>34.0</td>\n",
       "      <td>0.0</td>\n",
       "      <td>0.0</td>\n",
       "      <td>0.0</td>\n",
       "      <td>0.0</td>\n",
       "      <td>...</td>\n",
       "      <td>14331.0</td>\n",
       "      <td>14948.0</td>\n",
       "      <td>15549.0</td>\n",
       "      <td>1518.0</td>\n",
       "      <td>1500.0</td>\n",
       "      <td>1000.0</td>\n",
       "      <td>1000.0</td>\n",
       "      <td>1000.0</td>\n",
       "      <td>5000.0</td>\n",
       "      <td>0.0</td>\n",
       "    </tr>\n",
       "    <tr>\n",
       "      <th>4</th>\n",
       "      <td>4.0</td>\n",
       "      <td>50000.0</td>\n",
       "      <td>2.0</td>\n",
       "      <td>2.0</td>\n",
       "      <td>1.0</td>\n",
       "      <td>37.0</td>\n",
       "      <td>0.0</td>\n",
       "      <td>0.0</td>\n",
       "      <td>0.0</td>\n",
       "      <td>0.0</td>\n",
       "      <td>...</td>\n",
       "      <td>28314.0</td>\n",
       "      <td>28959.0</td>\n",
       "      <td>29547.0</td>\n",
       "      <td>2000.0</td>\n",
       "      <td>2019.0</td>\n",
       "      <td>1200.0</td>\n",
       "      <td>1100.0</td>\n",
       "      <td>1069.0</td>\n",
       "      <td>1000.0</td>\n",
       "      <td>0.0</td>\n",
       "    </tr>\n",
       "    <tr>\n",
       "      <th>5</th>\n",
       "      <td>5.0</td>\n",
       "      <td>50000.0</td>\n",
       "      <td>1.0</td>\n",
       "      <td>2.0</td>\n",
       "      <td>1.0</td>\n",
       "      <td>57.0</td>\n",
       "      <td>0.0</td>\n",
       "      <td>0.0</td>\n",
       "      <td>0.0</td>\n",
       "      <td>0.0</td>\n",
       "      <td>...</td>\n",
       "      <td>20940.0</td>\n",
       "      <td>19146.0</td>\n",
       "      <td>19131.0</td>\n",
       "      <td>2000.0</td>\n",
       "      <td>36681.0</td>\n",
       "      <td>10000.0</td>\n",
       "      <td>9000.0</td>\n",
       "      <td>689.0</td>\n",
       "      <td>679.0</td>\n",
       "      <td>0.0</td>\n",
       "    </tr>\n",
       "    <tr>\n",
       "      <th>...</th>\n",
       "      <td>...</td>\n",
       "      <td>...</td>\n",
       "      <td>...</td>\n",
       "      <td>...</td>\n",
       "      <td>...</td>\n",
       "      <td>...</td>\n",
       "      <td>...</td>\n",
       "      <td>...</td>\n",
       "      <td>...</td>\n",
       "      <td>...</td>\n",
       "      <td>...</td>\n",
       "      <td>...</td>\n",
       "      <td>...</td>\n",
       "      <td>...</td>\n",
       "      <td>...</td>\n",
       "      <td>...</td>\n",
       "      <td>...</td>\n",
       "      <td>...</td>\n",
       "      <td>...</td>\n",
       "      <td>...</td>\n",
       "      <td>...</td>\n",
       "    </tr>\n",
       "    <tr>\n",
       "      <th>29996</th>\n",
       "      <td>29996.0</td>\n",
       "      <td>220000.0</td>\n",
       "      <td>1.0</td>\n",
       "      <td>3.0</td>\n",
       "      <td>1.0</td>\n",
       "      <td>39.0</td>\n",
       "      <td>0.0</td>\n",
       "      <td>0.0</td>\n",
       "      <td>0.0</td>\n",
       "      <td>0.0</td>\n",
       "      <td>...</td>\n",
       "      <td>88004.0</td>\n",
       "      <td>31237.0</td>\n",
       "      <td>15980.0</td>\n",
       "      <td>8500.0</td>\n",
       "      <td>20000.0</td>\n",
       "      <td>5003.0</td>\n",
       "      <td>3047.0</td>\n",
       "      <td>5000.0</td>\n",
       "      <td>1000.0</td>\n",
       "      <td>0.0</td>\n",
       "    </tr>\n",
       "    <tr>\n",
       "      <th>29997</th>\n",
       "      <td>29997.0</td>\n",
       "      <td>150000.0</td>\n",
       "      <td>1.0</td>\n",
       "      <td>3.0</td>\n",
       "      <td>2.0</td>\n",
       "      <td>43.0</td>\n",
       "      <td>0.0</td>\n",
       "      <td>0.0</td>\n",
       "      <td>0.0</td>\n",
       "      <td>0.0</td>\n",
       "      <td>...</td>\n",
       "      <td>8979.0</td>\n",
       "      <td>5190.0</td>\n",
       "      <td>0.0</td>\n",
       "      <td>1837.0</td>\n",
       "      <td>3526.0</td>\n",
       "      <td>8998.0</td>\n",
       "      <td>129.0</td>\n",
       "      <td>0.0</td>\n",
       "      <td>0.0</td>\n",
       "      <td>0.0</td>\n",
       "    </tr>\n",
       "    <tr>\n",
       "      <th>29998</th>\n",
       "      <td>29998.0</td>\n",
       "      <td>30000.0</td>\n",
       "      <td>1.0</td>\n",
       "      <td>2.0</td>\n",
       "      <td>2.0</td>\n",
       "      <td>37.0</td>\n",
       "      <td>4.0</td>\n",
       "      <td>3.0</td>\n",
       "      <td>2.0</td>\n",
       "      <td>0.0</td>\n",
       "      <td>...</td>\n",
       "      <td>20878.0</td>\n",
       "      <td>20582.0</td>\n",
       "      <td>19357.0</td>\n",
       "      <td>0.0</td>\n",
       "      <td>0.0</td>\n",
       "      <td>22000.0</td>\n",
       "      <td>4200.0</td>\n",
       "      <td>2000.0</td>\n",
       "      <td>3100.0</td>\n",
       "      <td>1.0</td>\n",
       "    </tr>\n",
       "    <tr>\n",
       "      <th>29999</th>\n",
       "      <td>29999.0</td>\n",
       "      <td>80000.0</td>\n",
       "      <td>1.0</td>\n",
       "      <td>3.0</td>\n",
       "      <td>1.0</td>\n",
       "      <td>41.0</td>\n",
       "      <td>1.0</td>\n",
       "      <td>0.0</td>\n",
       "      <td>0.0</td>\n",
       "      <td>0.0</td>\n",
       "      <td>...</td>\n",
       "      <td>52774.0</td>\n",
       "      <td>11855.0</td>\n",
       "      <td>48944.0</td>\n",
       "      <td>85900.0</td>\n",
       "      <td>3409.0</td>\n",
       "      <td>1178.0</td>\n",
       "      <td>1926.0</td>\n",
       "      <td>52964.0</td>\n",
       "      <td>1804.0</td>\n",
       "      <td>1.0</td>\n",
       "    </tr>\n",
       "    <tr>\n",
       "      <th>30000</th>\n",
       "      <td>30000.0</td>\n",
       "      <td>50000.0</td>\n",
       "      <td>1.0</td>\n",
       "      <td>2.0</td>\n",
       "      <td>1.0</td>\n",
       "      <td>46.0</td>\n",
       "      <td>0.0</td>\n",
       "      <td>0.0</td>\n",
       "      <td>0.0</td>\n",
       "      <td>0.0</td>\n",
       "      <td>...</td>\n",
       "      <td>36535.0</td>\n",
       "      <td>32428.0</td>\n",
       "      <td>15313.0</td>\n",
       "      <td>2078.0</td>\n",
       "      <td>1800.0</td>\n",
       "      <td>1430.0</td>\n",
       "      <td>1000.0</td>\n",
       "      <td>1000.0</td>\n",
       "      <td>1000.0</td>\n",
       "      <td>1.0</td>\n",
       "    </tr>\n",
       "  </tbody>\n",
       "</table>\n",
       "<p>30000 rows × 25 columns</p>\n",
       "</div>"
      ],
      "text/plain": [
       "0           ID  LIMIT_BAL  SEX  EDUCATION  MARRIAGE   AGE  PAY_0  PAY_2  \\\n",
       "1          1.0    20000.0  2.0        2.0       1.0  24.0    2.0    2.0   \n",
       "2          2.0   120000.0  2.0        2.0       2.0  26.0    0.0    2.0   \n",
       "3          3.0    90000.0  2.0        2.0       2.0  34.0    0.0    0.0   \n",
       "4          4.0    50000.0  2.0        2.0       1.0  37.0    0.0    0.0   \n",
       "5          5.0    50000.0  1.0        2.0       1.0  57.0    0.0    0.0   \n",
       "...        ...        ...  ...        ...       ...   ...    ...    ...   \n",
       "29996  29996.0   220000.0  1.0        3.0       1.0  39.0    0.0    0.0   \n",
       "29997  29997.0   150000.0  1.0        3.0       2.0  43.0    0.0    0.0   \n",
       "29998  29998.0    30000.0  1.0        2.0       2.0  37.0    4.0    3.0   \n",
       "29999  29999.0    80000.0  1.0        3.0       1.0  41.0    1.0    0.0   \n",
       "30000  30000.0    50000.0  1.0        2.0       1.0  46.0    0.0    0.0   \n",
       "\n",
       "0      PAY_3  PAY_4  ...  BILL_AMT4  BILL_AMT5  BILL_AMT6  PAY_AMT1  PAY_AMT2  \\\n",
       "1        0.0    0.0  ...        0.0        0.0        0.0       0.0     689.0   \n",
       "2        0.0    0.0  ...     3272.0     3455.0     3261.0       0.0    1000.0   \n",
       "3        0.0    0.0  ...    14331.0    14948.0    15549.0    1518.0    1500.0   \n",
       "4        0.0    0.0  ...    28314.0    28959.0    29547.0    2000.0    2019.0   \n",
       "5        0.0    0.0  ...    20940.0    19146.0    19131.0    2000.0   36681.0   \n",
       "...      ...    ...  ...        ...        ...        ...       ...       ...   \n",
       "29996    0.0    0.0  ...    88004.0    31237.0    15980.0    8500.0   20000.0   \n",
       "29997    0.0    0.0  ...     8979.0     5190.0        0.0    1837.0    3526.0   \n",
       "29998    2.0    0.0  ...    20878.0    20582.0    19357.0       0.0       0.0   \n",
       "29999    0.0    0.0  ...    52774.0    11855.0    48944.0   85900.0    3409.0   \n",
       "30000    0.0    0.0  ...    36535.0    32428.0    15313.0    2078.0    1800.0   \n",
       "\n",
       "0      PAY_AMT3  PAY_AMT4  PAY_AMT5  PAY_AMT6  default payment next month  \n",
       "1           0.0       0.0       0.0       0.0                         1.0  \n",
       "2        1000.0    1000.0       0.0    2000.0                         1.0  \n",
       "3        1000.0    1000.0    1000.0    5000.0                         0.0  \n",
       "4        1200.0    1100.0    1069.0    1000.0                         0.0  \n",
       "5       10000.0    9000.0     689.0     679.0                         0.0  \n",
       "...         ...       ...       ...       ...                         ...  \n",
       "29996    5003.0    3047.0    5000.0    1000.0                         0.0  \n",
       "29997    8998.0     129.0       0.0       0.0                         0.0  \n",
       "29998   22000.0    4200.0    2000.0    3100.0                         1.0  \n",
       "29999    1178.0    1926.0   52964.0    1804.0                         1.0  \n",
       "30000    1430.0    1000.0    1000.0    1000.0                         1.0  \n",
       "\n",
       "[30000 rows x 25 columns]"
      ]
     },
     "execution_count": 58,
     "metadata": {},
     "output_type": "execute_result"
    }
   ],
   "source": [
    "cc"
   ]
  },
  {
   "cell_type": "markdown",
   "id": "5beac8ba",
   "metadata": {},
   "source": [
    "### Sampling"
   ]
  },
  {
   "cell_type": "code",
   "execution_count": 59,
   "id": "e6d1105b",
   "metadata": {},
   "outputs": [],
   "source": [
    "from sklearn.model_selection import train_test_split"
   ]
  },
  {
   "cell_type": "code",
   "execution_count": 60,
   "id": "9c15008d",
   "metadata": {},
   "outputs": [],
   "source": [
    "train_cc, test_cc = train_test_split(cc,test_size=0.2)"
   ]
  },
  {
   "cell_type": "code",
   "execution_count": 61,
   "id": "ae7fdbb1",
   "metadata": {},
   "outputs": [
    {
     "name": "stdout",
     "output_type": "stream",
     "text": [
      "(30000, 25)   (24000, 25)   (6000, 25)\n"
     ]
    }
   ],
   "source": [
    "print(cc.shape,\" \",train_cc.shape,\" \",test_cc.shape)"
   ]
  },
  {
   "cell_type": "code",
   "execution_count": 62,
   "id": "a6958a13",
   "metadata": {},
   "outputs": [],
   "source": [
    "train_cc_x = train_cc.iloc[:,:-1]\n",
    "train_cc_y = train_cc.iloc[:,-1]"
   ]
  },
  {
   "cell_type": "code",
   "execution_count": 63,
   "id": "4565d25e",
   "metadata": {},
   "outputs": [],
   "source": [
    "test_cc_x = test_cc.iloc[:,:-1]\n",
    "test_cc_y = test_cc.iloc[:,-1]"
   ]
  },
  {
   "cell_type": "markdown",
   "id": "85747eec",
   "metadata": {},
   "source": [
    "### Model Building"
   ]
  },
  {
   "cell_type": "code",
   "execution_count": 64,
   "id": "599652a8",
   "metadata": {},
   "outputs": [],
   "source": [
    "from sklearn.naive_bayes import MultinomialNB"
   ]
  },
  {
   "cell_type": "code",
   "execution_count": 65,
   "id": "d20d4de8",
   "metadata": {},
   "outputs": [],
   "source": [
    "nb = MultinomialNB()"
   ]
  },
  {
   "cell_type": "code",
   "execution_count": 66,
   "id": "9c1c7dc8",
   "metadata": {},
   "outputs": [
    {
     "data": {
      "text/plain": [
       "MultinomialNB()"
      ]
     },
     "execution_count": 66,
     "metadata": {},
     "output_type": "execute_result"
    }
   ],
   "source": [
    "nb.fit(train_cc_x,train_cc_y)"
   ]
  },
  {
   "cell_type": "markdown",
   "id": "c858092e",
   "metadata": {},
   "source": [
    "### Prediction"
   ]
  },
  {
   "cell_type": "code",
   "execution_count": 67,
   "id": "8e10d757",
   "metadata": {},
   "outputs": [
    {
     "data": {
      "text/plain": [
       "array([1., 1., 0., ..., 0., 1., 0.])"
      ]
     },
     "execution_count": 67,
     "metadata": {},
     "output_type": "execute_result"
    }
   ],
   "source": [
    "pred_nb = nb.predict(test_cc_x)\n",
    "pred_nb"
   ]
  },
  {
   "cell_type": "markdown",
   "id": "a0bd2a83",
   "metadata": {},
   "source": [
    "### Confusion Matrics"
   ]
  },
  {
   "cell_type": "code",
   "execution_count": 68,
   "id": "c31d0ebf",
   "metadata": {},
   "outputs": [],
   "source": [
    "from sklearn.metrics import confusion_matrix,f1_score,precision_score"
   ]
  },
  {
   "cell_type": "code",
   "execution_count": 69,
   "id": "946fbfff",
   "metadata": {},
   "outputs": [
    {
     "data": {
      "text/plain": [
       "array([[2671, 2057],\n",
       "       [ 518,  754]], dtype=int64)"
      ]
     },
     "execution_count": 69,
     "metadata": {},
     "output_type": "execute_result"
    }
   ],
   "source": [
    "confusion_matrix(test_cc_y,pred_nb)"
   ]
  },
  {
   "cell_type": "code",
   "execution_count": 70,
   "id": "a6752713",
   "metadata": {},
   "outputs": [
    {
     "data": {
      "text/plain": [
       "0.3693362723487632"
      ]
     },
     "execution_count": 70,
     "metadata": {},
     "output_type": "execute_result"
    }
   ],
   "source": [
    "f1_score(test_cc_y,pred_nb)"
   ]
  },
  {
   "cell_type": "code",
   "execution_count": 71,
   "id": "a8e2fdaf",
   "metadata": {},
   "outputs": [
    {
     "data": {
      "text/plain": [
       "0.26823194592671645"
      ]
     },
     "execution_count": 71,
     "metadata": {},
     "output_type": "execute_result"
    }
   ],
   "source": [
    "precision_score(test_cc_y,pred_nb)"
   ]
  },
  {
   "cell_type": "code",
   "execution_count": 72,
   "id": "e386b68e",
   "metadata": {},
   "outputs": [
    {
     "name": "stdout",
     "output_type": "stream",
     "text": [
      "Logistic Regression\n",
      "_________________________________\n",
      "\n",
      "[[4727    1]\n",
      " [1272    0]]\n",
      "\n",
      "Accuracy =  78.78333333333333\n",
      "f1_score :  0.0\n",
      "Precision : 0.0\n",
      "\n",
      "\n",
      " Decision Tree\n",
      "_________________________________\n",
      "\n",
      "[[3848  880]\n",
      " [ 754  518]]\n",
      "\n",
      "Accuracy =  72.76666666666667\n",
      "f1_score :  0.3880149812734082\n",
      "Precision : 0.37052932761087265\n",
      "\n",
      "\n",
      "Random Forest\n",
      "_________________________________\n",
      "\n",
      "[[4468  260]\n",
      " [ 818  454]]\n",
      "\n",
      "Accuracy =  82.03333333333333\n",
      "f1_score :  0.45720040281973817\n",
      "Precision : 0.6358543417366946\n",
      "\n",
      "\n",
      "KNN\n",
      "_________________________________\n",
      "\n",
      "[[4263  465]\n",
      " [1039  233]]\n",
      "\n",
      "Accuracy =  74.93333333333334\n",
      "f1_score :  0.23654822335025377\n",
      "Precision : 0.333810888252149\n",
      "\n"
     ]
    }
   ],
   "source": [
    "print(\"Logistic Regression\")\n",
    "print(\"_________________________________\")\n",
    "print()\n",
    "from sklearn.linear_model import LogisticRegression\n",
    "logreg = LogisticRegression()\n",
    "logreg.fit(train_cc_x,train_cc_y)\n",
    "pred = logreg.predict(test_cc_x)\n",
    "tab = confusion_matrix(test_cc_y,pred)\n",
    "print(tab)\n",
    "print()\n",
    "Accuracy = tab.diagonal().sum()*100/tab.sum()\n",
    "print(\"Accuracy = \",Accuracy)\n",
    "print(\"f1_score : \",f1_score(test_cc_y,pred))\n",
    "print(\"Precision :\",precision_score(test_cc_y,pred))\n",
    "print()\n",
    "print()\n",
    "\n",
    "\n",
    "print(\" Decision Tree\")\n",
    "print(\"_________________________________\")\n",
    "print()\n",
    "from sklearn.tree import DecisionTreeClassifier\n",
    "dt = DecisionTreeClassifier()\n",
    "dt.fit(train_cc_x,train_cc_y)\n",
    "pred = dt.predict(test_cc_x)\n",
    "tab = confusion_matrix(test_cc_y,pred)\n",
    "print(tab)\n",
    "print()\n",
    "Accuracy = tab.diagonal().sum()*100/tab.sum()\n",
    "print(\"Accuracy = \",Accuracy)\n",
    "print(\"f1_score : \",f1_score(test_cc_y,pred))\n",
    "print(\"Precision :\",precision_score(test_cc_y,pred))\n",
    "print()\n",
    "print()\n",
    "\n",
    "\n",
    "print(\"Random Forest\")\n",
    "print(\"_________________________________\")\n",
    "print()\n",
    "from sklearn.ensemble import RandomForestClassifier\n",
    "rf = RandomForestClassifier()\n",
    "rf.fit(train_cc_x,train_cc_y)\n",
    "pred = rf.predict(test_cc_x)\n",
    "tab = confusion_matrix(test_cc_y,pred)\n",
    "print(tab)\n",
    "print()\n",
    "Accuracy = tab.diagonal().sum()*100/tab.sum()\n",
    "print(\"Accuracy = \",Accuracy)\n",
    "print(\"f1_score : \",f1_score(test_cc_y,pred))\n",
    "print(\"Precision :\",precision_score(test_cc_y,pred))\n",
    "print()\n",
    "print()\n",
    "\n",
    "\n",
    "print(\"KNN\")\n",
    "print(\"_________________________________\")\n",
    "print()\n",
    "from sklearn.neighbors import KNeighborsClassifier\n",
    "knn = KNeighborsClassifier()\n",
    "knn.fit(train_cc_x,train_cc_y)\n",
    "pred = knn.predict(test_cc_x)\n",
    "tab = confusion_matrix(test_cc_y,pred)\n",
    "print(tab)\n",
    "print()\n",
    "Accuracy = tab.diagonal().sum()*100/tab.sum()\n",
    "print(\"Accuracy = \",Accuracy)\n",
    "print(\"f1_score : \",f1_score(test_cc_y,pred))\n",
    "print(\"Precision :\",precision_score(test_cc_y,pred))\n",
    "print()\n",
    "\n",
    "\n",
    "\n"
   ]
  },
  {
   "cell_type": "code",
   "execution_count": null,
   "id": "774907c0",
   "metadata": {},
   "outputs": [],
   "source": []
  },
  {
   "cell_type": "code",
   "execution_count": null,
   "id": "d25af10c",
   "metadata": {},
   "outputs": [],
   "source": []
  }
 ],
 "metadata": {
  "kernelspec": {
   "display_name": "Python 3 (ipykernel)",
   "language": "python",
   "name": "python3"
  },
  "language_info": {
   "codemirror_mode": {
    "name": "ipython",
    "version": 3
   },
   "file_extension": ".py",
   "mimetype": "text/x-python",
   "name": "python",
   "nbconvert_exporter": "python",
   "pygments_lexer": "ipython3",
   "version": "3.9.13"
  }
 },
 "nbformat": 4,
 "nbformat_minor": 5
}

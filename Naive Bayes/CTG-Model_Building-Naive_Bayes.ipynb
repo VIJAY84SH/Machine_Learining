{
 "cells": [
  {
   "cell_type": "code",
   "execution_count": 1,
   "id": "55088463",
   "metadata": {},
   "outputs": [],
   "source": [
    "import pandas as pd\n",
    "import numpy as np\n",
    "import warnings"
   ]
  },
  {
   "cell_type": "code",
   "execution_count": 2,
   "id": "6180f92e",
   "metadata": {},
   "outputs": [
    {
     "data": {
      "text/html": [
       "<div>\n",
       "<style scoped>\n",
       "    .dataframe tbody tr th:only-of-type {\n",
       "        vertical-align: middle;\n",
       "    }\n",
       "\n",
       "    .dataframe tbody tr th {\n",
       "        vertical-align: top;\n",
       "    }\n",
       "\n",
       "    .dataframe thead th {\n",
       "        text-align: right;\n",
       "    }\n",
       "</style>\n",
       "<table border=\"1\" class=\"dataframe\">\n",
       "  <thead>\n",
       "    <tr style=\"text-align: right;\">\n",
       "      <th></th>\n",
       "      <th>LB</th>\n",
       "      <th>AC</th>\n",
       "      <th>FM</th>\n",
       "      <th>NSP</th>\n",
       "    </tr>\n",
       "  </thead>\n",
       "  <tbody>\n",
       "    <tr>\n",
       "      <th>0</th>\n",
       "      <td>120</td>\n",
       "      <td>0.000</td>\n",
       "      <td>0.000</td>\n",
       "      <td>2</td>\n",
       "    </tr>\n",
       "    <tr>\n",
       "      <th>1</th>\n",
       "      <td>132</td>\n",
       "      <td>0.006</td>\n",
       "      <td>0.000</td>\n",
       "      <td>1</td>\n",
       "    </tr>\n",
       "    <tr>\n",
       "      <th>2</th>\n",
       "      <td>133</td>\n",
       "      <td>0.003</td>\n",
       "      <td>0.000</td>\n",
       "      <td>1</td>\n",
       "    </tr>\n",
       "    <tr>\n",
       "      <th>3</th>\n",
       "      <td>134</td>\n",
       "      <td>0.003</td>\n",
       "      <td>0.000</td>\n",
       "      <td>1</td>\n",
       "    </tr>\n",
       "    <tr>\n",
       "      <th>4</th>\n",
       "      <td>132</td>\n",
       "      <td>0.007</td>\n",
       "      <td>0.000</td>\n",
       "      <td>1</td>\n",
       "    </tr>\n",
       "    <tr>\n",
       "      <th>...</th>\n",
       "      <td>...</td>\n",
       "      <td>...</td>\n",
       "      <td>...</td>\n",
       "      <td>...</td>\n",
       "    </tr>\n",
       "    <tr>\n",
       "      <th>2121</th>\n",
       "      <td>140</td>\n",
       "      <td>0.000</td>\n",
       "      <td>0.000</td>\n",
       "      <td>2</td>\n",
       "    </tr>\n",
       "    <tr>\n",
       "      <th>2122</th>\n",
       "      <td>140</td>\n",
       "      <td>0.001</td>\n",
       "      <td>0.000</td>\n",
       "      <td>2</td>\n",
       "    </tr>\n",
       "    <tr>\n",
       "      <th>2123</th>\n",
       "      <td>140</td>\n",
       "      <td>0.001</td>\n",
       "      <td>0.000</td>\n",
       "      <td>2</td>\n",
       "    </tr>\n",
       "    <tr>\n",
       "      <th>2124</th>\n",
       "      <td>140</td>\n",
       "      <td>0.001</td>\n",
       "      <td>0.000</td>\n",
       "      <td>2</td>\n",
       "    </tr>\n",
       "    <tr>\n",
       "      <th>2125</th>\n",
       "      <td>142</td>\n",
       "      <td>0.002</td>\n",
       "      <td>0.002</td>\n",
       "      <td>1</td>\n",
       "    </tr>\n",
       "  </tbody>\n",
       "</table>\n",
       "<p>2126 rows × 4 columns</p>\n",
       "</div>"
      ],
      "text/plain": [
       "       LB     AC     FM  NSP\n",
       "0     120  0.000  0.000    2\n",
       "1     132  0.006  0.000    1\n",
       "2     133  0.003  0.000    1\n",
       "3     134  0.003  0.000    1\n",
       "4     132  0.007  0.000    1\n",
       "...   ...    ...    ...  ...\n",
       "2121  140  0.000  0.000    2\n",
       "2122  140  0.001  0.000    2\n",
       "2123  140  0.001  0.000    2\n",
       "2124  140  0.001  0.000    2\n",
       "2125  142  0.002  0.002    1\n",
       "\n",
       "[2126 rows x 4 columns]"
      ]
     },
     "execution_count": 2,
     "metadata": {},
     "output_type": "execute_result"
    }
   ],
   "source": [
    "ctg = pd.read_csv(\"CTG.csv\")\n",
    "ctg"
   ]
  },
  {
   "cell_type": "code",
   "execution_count": 3,
   "id": "fb96573f",
   "metadata": {},
   "outputs": [],
   "source": [
    "\n",
    "#LB : beats per second\n",
    "#AC : acceleration per second\n",
    "#FM : fetal movement per second\n",
    "#NSP (Normal , suspect, pathalogical)"
   ]
  },
  {
   "cell_type": "code",
   "execution_count": 4,
   "id": "f512004f",
   "metadata": {},
   "outputs": [],
   "source": [
    "from sklearn.model_selection import train_test_split"
   ]
  },
  {
   "cell_type": "code",
   "execution_count": 5,
   "id": "cc765323",
   "metadata": {},
   "outputs": [
    {
     "data": {
      "text/plain": [
       "((2126, 4), (1488, 4), (638, 4))"
      ]
     },
     "execution_count": 5,
     "metadata": {},
     "output_type": "execute_result"
    }
   ],
   "source": [
    "train_ctg , test_ctg = train_test_split(ctg, test_size = 0.3)\n",
    "\n",
    "ctg.shape, train_ctg.shape, test_ctg.shape"
   ]
  },
  {
   "cell_type": "code",
   "execution_count": 6,
   "id": "6d095b9d",
   "metadata": {},
   "outputs": [],
   "source": [
    "# Seperating the x and y variables from the train data set\n",
    "\n",
    "train_ctg_x = train_ctg.iloc[:,0:-1]\n",
    "train_ctg_y = train_ctg.iloc[:,-1]\n",
    "\n",
    "# Seperating the x and y variables from the train data set\n",
    "\n",
    "test_ctg_x = test_ctg.iloc[:,0:-1]\n",
    "test_ctg_y = test_ctg.iloc[:,-1]"
   ]
  },
  {
   "cell_type": "code",
   "execution_count": 7,
   "id": "23ccd8a4",
   "metadata": {},
   "outputs": [],
   "source": [
    "from sklearn.naive_bayes import MultinomialNB"
   ]
  },
  {
   "cell_type": "code",
   "execution_count": 8,
   "id": "638b2c59",
   "metadata": {},
   "outputs": [],
   "source": [
    "nb = MultinomialNB()"
   ]
  },
  {
   "cell_type": "code",
   "execution_count": 9,
   "id": "de0a9bb9",
   "metadata": {},
   "outputs": [
    {
     "data": {
      "text/plain": [
       "MultinomialNB()"
      ]
     },
     "execution_count": 9,
     "metadata": {},
     "output_type": "execute_result"
    }
   ],
   "source": [
    "nb.fit(train_ctg_x,train_ctg_y)"
   ]
  },
  {
   "cell_type": "markdown",
   "id": "e49d8a79",
   "metadata": {},
   "source": [
    "### Prediction"
   ]
  },
  {
   "cell_type": "code",
   "execution_count": 10,
   "id": "a0d4e033",
   "metadata": {},
   "outputs": [],
   "source": [
    "pred_nb = nb.predict(test_ctg_x)"
   ]
  },
  {
   "cell_type": "code",
   "execution_count": 11,
   "id": "e6b1fae4",
   "metadata": {},
   "outputs": [],
   "source": [
    "from sklearn.metrics import confusion_matrix"
   ]
  },
  {
   "cell_type": "code",
   "execution_count": 12,
   "id": "d41ed1b2",
   "metadata": {},
   "outputs": [
    {
     "data": {
      "text/plain": [
       "array([[486,   0,   0],\n",
       "       [ 96,   0,   0],\n",
       "       [ 56,   0,   0]], dtype=int64)"
      ]
     },
     "execution_count": 12,
     "metadata": {},
     "output_type": "execute_result"
    }
   ],
   "source": [
    "confusion_matrix(test_ctg_y,pred_nb)"
   ]
  },
  {
   "cell_type": "code",
   "execution_count": null,
   "id": "e2afbf50",
   "metadata": {},
   "outputs": [],
   "source": []
  },
  {
   "cell_type": "code",
   "execution_count": null,
   "id": "daf5b7a7",
   "metadata": {},
   "outputs": [],
   "source": []
  }
 ],
 "metadata": {
  "kernelspec": {
   "display_name": "Python 3 (ipykernel)",
   "language": "python",
   "name": "python3"
  },
  "language_info": {
   "codemirror_mode": {
    "name": "ipython",
    "version": 3
   },
   "file_extension": ".py",
   "mimetype": "text/x-python",
   "name": "python",
   "nbconvert_exporter": "python",
   "pygments_lexer": "ipython3",
   "version": "3.9.13"
  }
 },
 "nbformat": 4,
 "nbformat_minor": 5
}

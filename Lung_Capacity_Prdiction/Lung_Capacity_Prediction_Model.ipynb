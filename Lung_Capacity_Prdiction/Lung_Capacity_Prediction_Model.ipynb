{
 "cells": [
  {
   "cell_type": "code",
   "execution_count": 1,
   "id": "4662c506",
   "metadata": {},
   "outputs": [],
   "source": [
    "import pandas as pd"
   ]
  },
  {
   "cell_type": "code",
   "execution_count": 2,
   "id": "650a2ba1",
   "metadata": {},
   "outputs": [],
   "source": [
    "lcn = pd.read_csv('LungCapData.csv')"
   ]
  },
  {
   "cell_type": "code",
   "execution_count": 3,
   "id": "9ec296bb",
   "metadata": {},
   "outputs": [
    {
     "data": {
      "text/html": [
       "<div>\n",
       "<style scoped>\n",
       "    .dataframe tbody tr th:only-of-type {\n",
       "        vertical-align: middle;\n",
       "    }\n",
       "\n",
       "    .dataframe tbody tr th {\n",
       "        vertical-align: top;\n",
       "    }\n",
       "\n",
       "    .dataframe thead th {\n",
       "        text-align: right;\n",
       "    }\n",
       "</style>\n",
       "<table border=\"1\" class=\"dataframe\">\n",
       "  <thead>\n",
       "    <tr style=\"text-align: right;\">\n",
       "      <th></th>\n",
       "      <th>LungCap</th>\n",
       "      <th>Age</th>\n",
       "      <th>Height</th>\n",
       "      <th>Smoke</th>\n",
       "      <th>Gender</th>\n",
       "      <th>Caesarean</th>\n",
       "    </tr>\n",
       "  </thead>\n",
       "  <tbody>\n",
       "    <tr>\n",
       "      <th>0</th>\n",
       "      <td>6.475</td>\n",
       "      <td>6</td>\n",
       "      <td>62.1</td>\n",
       "      <td>no</td>\n",
       "      <td>male</td>\n",
       "      <td>no</td>\n",
       "    </tr>\n",
       "    <tr>\n",
       "      <th>1</th>\n",
       "      <td>10.125</td>\n",
       "      <td>18</td>\n",
       "      <td>74.7</td>\n",
       "      <td>yes</td>\n",
       "      <td>female</td>\n",
       "      <td>no</td>\n",
       "    </tr>\n",
       "    <tr>\n",
       "      <th>2</th>\n",
       "      <td>9.550</td>\n",
       "      <td>16</td>\n",
       "      <td>69.7</td>\n",
       "      <td>no</td>\n",
       "      <td>female</td>\n",
       "      <td>yes</td>\n",
       "    </tr>\n",
       "    <tr>\n",
       "      <th>3</th>\n",
       "      <td>11.125</td>\n",
       "      <td>14</td>\n",
       "      <td>71.0</td>\n",
       "      <td>no</td>\n",
       "      <td>male</td>\n",
       "      <td>no</td>\n",
       "    </tr>\n",
       "    <tr>\n",
       "      <th>4</th>\n",
       "      <td>4.800</td>\n",
       "      <td>5</td>\n",
       "      <td>56.9</td>\n",
       "      <td>no</td>\n",
       "      <td>male</td>\n",
       "      <td>no</td>\n",
       "    </tr>\n",
       "  </tbody>\n",
       "</table>\n",
       "</div>"
      ],
      "text/plain": [
       "   LungCap  Age  Height Smoke  Gender Caesarean\n",
       "0    6.475    6    62.1    no    male        no\n",
       "1   10.125   18    74.7   yes  female        no\n",
       "2    9.550   16    69.7    no  female       yes\n",
       "3   11.125   14    71.0    no    male        no\n",
       "4    4.800    5    56.9    no    male        no"
      ]
     },
     "execution_count": 3,
     "metadata": {},
     "output_type": "execute_result"
    }
   ],
   "source": [
    "lcn.head()"
   ]
  },
  {
   "cell_type": "code",
   "execution_count": 4,
   "id": "b58c544b",
   "metadata": {},
   "outputs": [
    {
     "data": {
      "text/plain": [
       "(725, 6)"
      ]
     },
     "execution_count": 4,
     "metadata": {},
     "output_type": "execute_result"
    }
   ],
   "source": [
    "lcn.shape"
   ]
  },
  {
   "cell_type": "markdown",
   "id": "6b416b20",
   "metadata": {},
   "source": [
    "### To build predictive model which can predict lung capacity of the person"
   ]
  },
  {
   "cell_type": "code",
   "execution_count": 5,
   "id": "6f5c01ca",
   "metadata": {},
   "outputs": [],
   "source": [
    "# Data Gathering\n",
    "# Data cleaning\n",
    "# sampling"
   ]
  },
  {
   "cell_type": "code",
   "execution_count": 6,
   "id": "2dee4c67",
   "metadata": {},
   "outputs": [
    {
     "data": {
      "text/plain": [
       "LungCap      0\n",
       "Age          0\n",
       "Height       0\n",
       "Smoke        0\n",
       "Gender       0\n",
       "Caesarean    0\n",
       "dtype: int64"
      ]
     },
     "execution_count": 6,
     "metadata": {},
     "output_type": "execute_result"
    }
   ],
   "source": [
    "lcn.isnull().sum()"
   ]
  },
  {
   "cell_type": "code",
   "execution_count": 7,
   "id": "50d9ff44",
   "metadata": {},
   "outputs": [],
   "source": [
    "lcn.Smoke = lcn.Smoke.replace({'no':0,'yes':1})\n",
    "lcn.Caesarean = lcn.Caesarean.replace({'no':0,'yes':1})\n",
    "lcn.Gender = lcn.Gender.replace({'male':1,'female':0})"
   ]
  },
  {
   "cell_type": "code",
   "execution_count": 8,
   "id": "67c44b0d",
   "metadata": {
    "scrolled": true
   },
   "outputs": [
    {
     "data": {
      "text/html": [
       "<div>\n",
       "<style scoped>\n",
       "    .dataframe tbody tr th:only-of-type {\n",
       "        vertical-align: middle;\n",
       "    }\n",
       "\n",
       "    .dataframe tbody tr th {\n",
       "        vertical-align: top;\n",
       "    }\n",
       "\n",
       "    .dataframe thead th {\n",
       "        text-align: right;\n",
       "    }\n",
       "</style>\n",
       "<table border=\"1\" class=\"dataframe\">\n",
       "  <thead>\n",
       "    <tr style=\"text-align: right;\">\n",
       "      <th></th>\n",
       "      <th>LungCap</th>\n",
       "      <th>Age</th>\n",
       "      <th>Height</th>\n",
       "      <th>Smoke</th>\n",
       "      <th>Gender</th>\n",
       "      <th>Caesarean</th>\n",
       "    </tr>\n",
       "  </thead>\n",
       "  <tbody>\n",
       "    <tr>\n",
       "      <th>0</th>\n",
       "      <td>6.475</td>\n",
       "      <td>6</td>\n",
       "      <td>62.1</td>\n",
       "      <td>0</td>\n",
       "      <td>1</td>\n",
       "      <td>0</td>\n",
       "    </tr>\n",
       "    <tr>\n",
       "      <th>1</th>\n",
       "      <td>10.125</td>\n",
       "      <td>18</td>\n",
       "      <td>74.7</td>\n",
       "      <td>1</td>\n",
       "      <td>0</td>\n",
       "      <td>0</td>\n",
       "    </tr>\n",
       "    <tr>\n",
       "      <th>2</th>\n",
       "      <td>9.550</td>\n",
       "      <td>16</td>\n",
       "      <td>69.7</td>\n",
       "      <td>0</td>\n",
       "      <td>0</td>\n",
       "      <td>1</td>\n",
       "    </tr>\n",
       "    <tr>\n",
       "      <th>3</th>\n",
       "      <td>11.125</td>\n",
       "      <td>14</td>\n",
       "      <td>71.0</td>\n",
       "      <td>0</td>\n",
       "      <td>1</td>\n",
       "      <td>0</td>\n",
       "    </tr>\n",
       "    <tr>\n",
       "      <th>4</th>\n",
       "      <td>4.800</td>\n",
       "      <td>5</td>\n",
       "      <td>56.9</td>\n",
       "      <td>0</td>\n",
       "      <td>1</td>\n",
       "      <td>0</td>\n",
       "    </tr>\n",
       "  </tbody>\n",
       "</table>\n",
       "</div>"
      ],
      "text/plain": [
       "   LungCap  Age  Height  Smoke  Gender  Caesarean\n",
       "0    6.475    6    62.1      0       1          0\n",
       "1   10.125   18    74.7      1       0          0\n",
       "2    9.550   16    69.7      0       0          1\n",
       "3   11.125   14    71.0      0       1          0\n",
       "4    4.800    5    56.9      0       1          0"
      ]
     },
     "execution_count": 8,
     "metadata": {},
     "output_type": "execute_result"
    }
   ],
   "source": [
    "lcn.head()"
   ]
  },
  {
   "cell_type": "markdown",
   "id": "d0a67570",
   "metadata": {},
   "source": [
    "### Sampling"
   ]
  },
  {
   "cell_type": "code",
   "execution_count": 9,
   "id": "19187aee",
   "metadata": {},
   "outputs": [],
   "source": [
    "from sklearn.model_selection import train_test_split"
   ]
  },
  {
   "cell_type": "code",
   "execution_count": 10,
   "id": "2a1d038e",
   "metadata": {},
   "outputs": [],
   "source": [
    "lcn_train,lcn_test = train_test_split(lcn,test_size=.2)"
   ]
  },
  {
   "cell_type": "code",
   "execution_count": 11,
   "id": "684c67d6",
   "metadata": {},
   "outputs": [
    {
     "data": {
      "text/plain": [
       "(580, 6)"
      ]
     },
     "execution_count": 11,
     "metadata": {},
     "output_type": "execute_result"
    }
   ],
   "source": [
    "lcn_train.shape"
   ]
  },
  {
   "cell_type": "code",
   "execution_count": 12,
   "id": "42eaf48a",
   "metadata": {},
   "outputs": [
    {
     "data": {
      "text/plain": [
       "(145, 6)"
      ]
     },
     "execution_count": 12,
     "metadata": {},
     "output_type": "execute_result"
    }
   ],
   "source": [
    "lcn_test.shape"
   ]
  },
  {
   "cell_type": "code",
   "execution_count": 13,
   "id": "53963486",
   "metadata": {},
   "outputs": [],
   "source": [
    "lcn_train_x = lcn_train.iloc[ : , 1::]\n",
    "lcn_train_y = lcn_train.iloc[ : , 0 ]"
   ]
  },
  {
   "cell_type": "code",
   "execution_count": 14,
   "id": "92c7f63c",
   "metadata": {},
   "outputs": [],
   "source": [
    "lcn_test_x = lcn_test.iloc[ : , 1::]\n",
    "lcn_test_y = lcn_test.iloc[ : , 0 ]"
   ]
  },
  {
   "cell_type": "code",
   "execution_count": 15,
   "id": "7981b815",
   "metadata": {},
   "outputs": [],
   "source": [
    "#Label Encodel\n",
    "#from sklearn.preprocessing import la"
   ]
  },
  {
   "cell_type": "code",
   "execution_count": 16,
   "id": "d786e688",
   "metadata": {},
   "outputs": [
    {
     "data": {
      "text/html": [
       "<div>\n",
       "<style scoped>\n",
       "    .dataframe tbody tr th:only-of-type {\n",
       "        vertical-align: middle;\n",
       "    }\n",
       "\n",
       "    .dataframe tbody tr th {\n",
       "        vertical-align: top;\n",
       "    }\n",
       "\n",
       "    .dataframe thead th {\n",
       "        text-align: right;\n",
       "    }\n",
       "</style>\n",
       "<table border=\"1\" class=\"dataframe\">\n",
       "  <thead>\n",
       "    <tr style=\"text-align: right;\">\n",
       "      <th></th>\n",
       "      <th>Age</th>\n",
       "      <th>Height</th>\n",
       "      <th>Smoke</th>\n",
       "      <th>Gender</th>\n",
       "      <th>Caesarean</th>\n",
       "    </tr>\n",
       "  </thead>\n",
       "  <tbody>\n",
       "    <tr>\n",
       "      <th>621</th>\n",
       "      <td>16</td>\n",
       "      <td>74.2</td>\n",
       "      <td>1</td>\n",
       "      <td>1</td>\n",
       "      <td>1</td>\n",
       "    </tr>\n",
       "    <tr>\n",
       "      <th>157</th>\n",
       "      <td>5</td>\n",
       "      <td>55.8</td>\n",
       "      <td>0</td>\n",
       "      <td>0</td>\n",
       "      <td>1</td>\n",
       "    </tr>\n",
       "    <tr>\n",
       "      <th>661</th>\n",
       "      <td>10</td>\n",
       "      <td>55.7</td>\n",
       "      <td>0</td>\n",
       "      <td>0</td>\n",
       "      <td>0</td>\n",
       "    </tr>\n",
       "    <tr>\n",
       "      <th>586</th>\n",
       "      <td>11</td>\n",
       "      <td>65.6</td>\n",
       "      <td>1</td>\n",
       "      <td>1</td>\n",
       "      <td>1</td>\n",
       "    </tr>\n",
       "    <tr>\n",
       "      <th>705</th>\n",
       "      <td>19</td>\n",
       "      <td>73.6</td>\n",
       "      <td>0</td>\n",
       "      <td>0</td>\n",
       "      <td>1</td>\n",
       "    </tr>\n",
       "    <tr>\n",
       "      <th>...</th>\n",
       "      <td>...</td>\n",
       "      <td>...</td>\n",
       "      <td>...</td>\n",
       "      <td>...</td>\n",
       "      <td>...</td>\n",
       "    </tr>\n",
       "    <tr>\n",
       "      <th>686</th>\n",
       "      <td>16</td>\n",
       "      <td>66.0</td>\n",
       "      <td>0</td>\n",
       "      <td>0</td>\n",
       "      <td>1</td>\n",
       "    </tr>\n",
       "    <tr>\n",
       "      <th>319</th>\n",
       "      <td>16</td>\n",
       "      <td>79.3</td>\n",
       "      <td>0</td>\n",
       "      <td>1</td>\n",
       "      <td>1</td>\n",
       "    </tr>\n",
       "    <tr>\n",
       "      <th>718</th>\n",
       "      <td>17</td>\n",
       "      <td>68.8</td>\n",
       "      <td>0</td>\n",
       "      <td>1</td>\n",
       "      <td>1</td>\n",
       "    </tr>\n",
       "    <tr>\n",
       "      <th>517</th>\n",
       "      <td>9</td>\n",
       "      <td>66.5</td>\n",
       "      <td>0</td>\n",
       "      <td>1</td>\n",
       "      <td>0</td>\n",
       "    </tr>\n",
       "    <tr>\n",
       "      <th>369</th>\n",
       "      <td>18</td>\n",
       "      <td>73.3</td>\n",
       "      <td>0</td>\n",
       "      <td>1</td>\n",
       "      <td>0</td>\n",
       "    </tr>\n",
       "  </tbody>\n",
       "</table>\n",
       "<p>580 rows × 5 columns</p>\n",
       "</div>"
      ],
      "text/plain": [
       "     Age  Height  Smoke  Gender  Caesarean\n",
       "621   16    74.2      1       1          1\n",
       "157    5    55.8      0       0          1\n",
       "661   10    55.7      0       0          0\n",
       "586   11    65.6      1       1          1\n",
       "705   19    73.6      0       0          1\n",
       "..   ...     ...    ...     ...        ...\n",
       "686   16    66.0      0       0          1\n",
       "319   16    79.3      0       1          1\n",
       "718   17    68.8      0       1          1\n",
       "517    9    66.5      0       1          0\n",
       "369   18    73.3      0       1          0\n",
       "\n",
       "[580 rows x 5 columns]"
      ]
     },
     "execution_count": 16,
     "metadata": {},
     "output_type": "execute_result"
    }
   ],
   "source": [
    "lcn_train_x"
   ]
  },
  {
   "cell_type": "code",
   "execution_count": 17,
   "id": "c3df9b7f",
   "metadata": {},
   "outputs": [
    {
     "data": {
      "text/plain": [
       "621    10.625\n",
       "157     5.550\n",
       "661     7.325\n",
       "586     8.925\n",
       "705    12.425\n",
       "        ...  \n",
       "686     6.150\n",
       "319    10.975\n",
       "718     7.175\n",
       "517     9.325\n",
       "369    11.650\n",
       "Name: LungCap, Length: 580, dtype: float64"
      ]
     },
     "execution_count": 17,
     "metadata": {},
     "output_type": "execute_result"
    }
   ],
   "source": [
    "lcn_train_y"
   ]
  },
  {
   "cell_type": "markdown",
   "id": "3c4fdb6b",
   "metadata": {},
   "source": [
    "### Build a Model"
   ]
  },
  {
   "cell_type": "code",
   "execution_count": 18,
   "id": "80511330",
   "metadata": {},
   "outputs": [
    {
     "data": {
      "text/plain": [
       "LinearRegression()"
      ]
     },
     "execution_count": 18,
     "metadata": {},
     "output_type": "execute_result"
    }
   ],
   "source": [
    "from sklearn.linear_model import LinearRegression\n",
    "\n",
    "linreg = LinearRegression()\n",
    "linreg.fit(lcn_train_x,lcn_train_y)"
   ]
  },
  {
   "cell_type": "code",
   "execution_count": 19,
   "id": "833c6fd0",
   "metadata": {},
   "outputs": [
    {
     "data": {
      "text/plain": [
       "0.8486036087171169"
      ]
     },
     "execution_count": 19,
     "metadata": {},
     "output_type": "execute_result"
    }
   ],
   "source": [
    "Rsquare = linreg.score(lcn_train_x,lcn_train_y)\n",
    "Rsquare"
   ]
  },
  {
   "cell_type": "code",
   "execution_count": 20,
   "id": "66a4f0f7",
   "metadata": {},
   "outputs": [
    {
     "data": {
      "text/plain": [
       "0.8472848248209246"
      ]
     },
     "execution_count": 20,
     "metadata": {},
     "output_type": "execute_result"
    }
   ],
   "source": [
    "N = lcn_train_x.shape[0]\n",
    "K = lcn_train_x.shape[1]\n",
    "\n",
    "AdjRsquare = 1-(1-Rsquare)*(N-1)/(N-K-1)\n",
    "AdjRsquare"
   ]
  },
  {
   "cell_type": "code",
   "execution_count": 21,
   "id": "220299cf",
   "metadata": {},
   "outputs": [],
   "source": [
    "# create model on property price data set\n",
    "\n",
    "# Sale_price is the target variable\n",
    "\n",
    "# Rsqure and AdjRsqure "
   ]
  },
  {
   "cell_type": "code",
   "execution_count": 22,
   "id": "07a3e31c",
   "metadata": {},
   "outputs": [],
   "source": [
    "#Prediction,error,check the assumptions, mse,rmse"
   ]
  },
  {
   "cell_type": "code",
   "execution_count": 23,
   "id": "bc776b8b",
   "metadata": {},
   "outputs": [
    {
     "data": {
      "text/plain": [
       "array([ 0.15258354,  0.2703263 , -0.65734859,  0.33582447, -0.18448562])"
      ]
     },
     "execution_count": 23,
     "metadata": {},
     "output_type": "execute_result"
    }
   ],
   "source": [
    "linreg.coef_"
   ]
  },
  {
   "cell_type": "code",
   "execution_count": 24,
   "id": "de65fe8c",
   "metadata": {
    "scrolled": true
   },
   "outputs": [
    {
     "data": {
      "text/plain": [
       "Index(['Age', 'Height', 'Smoke', 'Gender', 'Caesarean'], dtype='object')"
      ]
     },
     "execution_count": 24,
     "metadata": {},
     "output_type": "execute_result"
    }
   ],
   "source": [
    "lcn_train_x.columns"
   ]
  },
  {
   "cell_type": "code",
   "execution_count": 25,
   "id": "f9a22a37",
   "metadata": {},
   "outputs": [
    {
     "data": {
      "text/plain": [
       "-11.545046773779667"
      ]
     },
     "execution_count": 25,
     "metadata": {},
     "output_type": "execute_result"
    }
   ],
   "source": [
    "linreg.intercept_"
   ]
  },
  {
   "cell_type": "code",
   "execution_count": 26,
   "id": "19022e38",
   "metadata": {},
   "outputs": [],
   "source": [
    "#y = -11.336065441760805 + 0.16219648*Age,  0.26394307*Height, -0.55799358*Smoke,  0.35992384*Gender, -0.14557744*Caesarean"
   ]
  },
  {
   "cell_type": "code",
   "execution_count": 27,
   "id": "57b30567",
   "metadata": {},
   "outputs": [],
   "source": [
    "pred_train = linreg.predict(lcn_train_x) # prediction for each row "
   ]
  },
  {
   "cell_type": "code",
   "execution_count": 28,
   "id": "17cb3b4f",
   "metadata": {},
   "outputs": [],
   "source": [
    "#Error =  diff btwn actual and predicted value"
   ]
  },
  {
   "cell_type": "code",
   "execution_count": 29,
   "id": "c884a7cb",
   "metadata": {},
   "outputs": [],
   "source": [
    "train_err = lcn_train_y - pred_train"
   ]
  },
  {
   "cell_type": "code",
   "execution_count": 30,
   "id": "e1c6c989",
   "metadata": {},
   "outputs": [
    {
     "data": {
      "text/plain": [
       "621    0.176509\n",
       "157    1.432407\n",
       "661    2.287037\n",
       "586    1.564232\n",
       "705    1.359430\n",
       "         ...   \n",
       "686   -2.403340\n",
       "319   -1.509504\n",
       "718   -2.623661\n",
       "517    1.184272\n",
       "369    0.297801\n",
       "Name: LungCap, Length: 580, dtype: float64"
      ]
     },
     "execution_count": 30,
     "metadata": {},
     "output_type": "execute_result"
    }
   ],
   "source": [
    "train_err  # error for each record in my train data\n",
    "\n",
    "# Assumptions are checked ony on the train data bcz model is building on train data"
   ]
  },
  {
   "cell_type": "markdown",
   "id": "38e1af6f",
   "metadata": {},
   "source": [
    "### Checking The Assumptions"
   ]
  },
  {
   "cell_type": "code",
   "execution_count": 31,
   "id": "e4708563",
   "metadata": {},
   "outputs": [],
   "source": [
    "import numpy as np"
   ]
  },
  {
   "cell_type": "code",
   "execution_count": 32,
   "id": "a7d6716b",
   "metadata": {},
   "outputs": [
    {
     "data": {
      "text/plain": [
       "5.038115518643814e-16"
      ]
     },
     "execution_count": 32,
     "metadata": {},
     "output_type": "execute_result"
    }
   ],
   "source": [
    "np.mean(train_err)\n",
    "# mean of the error terms should be zero"
   ]
  },
  {
   "cell_type": "code",
   "execution_count": 33,
   "id": "0cdba776",
   "metadata": {
    "scrolled": true
   },
   "outputs": [
    {
     "data": {
      "text/plain": [
       "7.969365517241379"
      ]
     },
     "execution_count": 33,
     "metadata": {},
     "output_type": "execute_result"
    }
   ],
   "source": [
    "lcn_train_y.mean()"
   ]
  },
  {
   "cell_type": "code",
   "execution_count": 34,
   "id": "a50fc6f8",
   "metadata": {},
   "outputs": [],
   "source": [
    "import matplotlib.pyplot as plt\n",
    "import seaborn as sns"
   ]
  },
  {
   "cell_type": "code",
   "execution_count": 35,
   "id": "b8851ad7",
   "metadata": {
    "scrolled": true
   },
   "outputs": [
    {
     "data": {
      "text/plain": [
       "(array([ 1.,  0.,  0.,  3.,  2.,  5.,  8.,  9., 14., 15., 36., 29., 34.,\n",
       "        36., 32., 44., 49., 56., 48., 42., 24., 27., 24., 16.,  9., 10.,\n",
       "         3.,  0.,  2.,  2.]),\n",
       " array([-3.41991171, -3.20779871, -2.99568572, -2.78357272, -2.57145973,\n",
       "        -2.35934673, -2.14723374, -1.93512075, -1.72300775, -1.51089476,\n",
       "        -1.29878176, -1.08666877, -0.87455577, -0.66244278, -0.45032979,\n",
       "        -0.23821679, -0.0261038 ,  0.1860092 ,  0.39812219,  0.61023519,\n",
       "         0.82234818,  1.03446117,  1.24657417,  1.45868716,  1.67080016,\n",
       "         1.88291315,  2.09502615,  2.30713914,  2.51925213,  2.73136513,\n",
       "         2.94347812]),\n",
       " <BarContainer object of 30 artists>)"
      ]
     },
     "execution_count": 35,
     "metadata": {},
     "output_type": "execute_result"
    },
    {
     "data": {
      "image/png": "[encoded data removed]",
      "text/plain": [
       "<Figure size 640x480 with 1 Axes>"
      ]
     },
     "metadata": {},
     "output_type": "display_data"
    }
   ],
   "source": [
    "plt.hist(train_err,bins = 30,edgecolor = 'k')"
   ]
  },
  {
   "cell_type": "code",
   "execution_count": null,
   "id": "5ac8a02b",
   "metadata": {},
   "outputs": [],
   "source": []
  },
  {
   "cell_type": "code",
   "execution_count": null,
   "id": "06c1b43e",
   "metadata": {},
   "outputs": [],
   "source": []
  },
  {
   "cell_type": "code",
   "execution_count": 36,
   "id": "58dbd701",
   "metadata": {
    "scrolled": true
   },
   "outputs": [
    {
     "data": {
      "text/plain": [
       "[<matplotlib.lines.Line2D at 0x22e95e810a0>]"
      ]
     },
     "execution_count": 36,
     "metadata": {},
     "output_type": "execute_result"
    },
    {
     "data": {
      "image/png": "[encoded data removed]",
      "text/plain": [
       "<Figure size 640x480 with 1 Axes>"
      ]
     },
     "metadata": {},
     "output_type": "display_data"
    }
   ],
   "source": [
    "plt.plot(train_err,\"*\")\n",
    "#Scatter plot ---> no pattern should be seen"
   ]
  },
  {
   "cell_type": "code",
   "execution_count": 37,
   "id": "e8bf6ab2",
   "metadata": {},
   "outputs": [],
   "source": [
    "actual_pred = pd.DataFrame()"
   ]
  },
  {
   "cell_type": "code",
   "execution_count": 38,
   "id": "fbc37902",
   "metadata": {},
   "outputs": [],
   "source": [
    "actual_pred['Actual'] = lcn_train_y\n",
    "actual_pred['Predicted'] = pred_train"
   ]
  },
  {
   "cell_type": "code",
   "execution_count": 39,
   "id": "a7469bfd",
   "metadata": {
    "scrolled": true
   },
   "outputs": [
    {
     "data": {
      "text/html": [
       "<div>\n",
       "<style scoped>\n",
       "    .dataframe tbody tr th:only-of-type {\n",
       "        vertical-align: middle;\n",
       "    }\n",
       "\n",
       "    .dataframe tbody tr th {\n",
       "        vertical-align: top;\n",
       "    }\n",
       "\n",
       "    .dataframe thead th {\n",
       "        text-align: right;\n",
       "    }\n",
       "</style>\n",
       "<table border=\"1\" class=\"dataframe\">\n",
       "  <thead>\n",
       "    <tr style=\"text-align: right;\">\n",
       "      <th></th>\n",
       "      <th>Actual</th>\n",
       "      <th>Predicted</th>\n",
       "    </tr>\n",
       "  </thead>\n",
       "  <tbody>\n",
       "    <tr>\n",
       "      <th>621</th>\n",
       "      <td>10.625</td>\n",
       "      <td>10.448491</td>\n",
       "    </tr>\n",
       "    <tr>\n",
       "      <th>157</th>\n",
       "      <td>5.550</td>\n",
       "      <td>4.117593</td>\n",
       "    </tr>\n",
       "    <tr>\n",
       "      <th>661</th>\n",
       "      <td>7.325</td>\n",
       "      <td>5.037963</td>\n",
       "    </tr>\n",
       "    <tr>\n",
       "      <th>586</th>\n",
       "      <td>8.925</td>\n",
       "      <td>7.360768</td>\n",
       "    </tr>\n",
       "    <tr>\n",
       "      <th>705</th>\n",
       "      <td>12.425</td>\n",
       "      <td>11.065570</td>\n",
       "    </tr>\n",
       "    <tr>\n",
       "      <th>...</th>\n",
       "      <td>...</td>\n",
       "      <td>...</td>\n",
       "    </tr>\n",
       "    <tr>\n",
       "      <th>686</th>\n",
       "      <td>6.150</td>\n",
       "      <td>8.553340</td>\n",
       "    </tr>\n",
       "    <tr>\n",
       "      <th>319</th>\n",
       "      <td>10.975</td>\n",
       "      <td>12.484504</td>\n",
       "    </tr>\n",
       "    <tr>\n",
       "      <th>718</th>\n",
       "      <td>7.175</td>\n",
       "      <td>9.798661</td>\n",
       "    </tr>\n",
       "    <tr>\n",
       "      <th>517</th>\n",
       "      <td>9.325</td>\n",
       "      <td>8.140728</td>\n",
       "    </tr>\n",
       "    <tr>\n",
       "      <th>369</th>\n",
       "      <td>11.650</td>\n",
       "      <td>11.352199</td>\n",
       "    </tr>\n",
       "  </tbody>\n",
       "</table>\n",
       "<p>580 rows × 2 columns</p>\n",
       "</div>"
      ],
      "text/plain": [
       "     Actual  Predicted\n",
       "621  10.625  10.448491\n",
       "157   5.550   4.117593\n",
       "661   7.325   5.037963\n",
       "586   8.925   7.360768\n",
       "705  12.425  11.065570\n",
       "..      ...        ...\n",
       "686   6.150   8.553340\n",
       "319  10.975  12.484504\n",
       "718   7.175   9.798661\n",
       "517   9.325   8.140728\n",
       "369  11.650  11.352199\n",
       "\n",
       "[580 rows x 2 columns]"
      ]
     },
     "execution_count": 39,
     "metadata": {},
     "output_type": "execute_result"
    }
   ],
   "source": [
    "actual_pred"
   ]
  },
  {
   "cell_type": "code",
   "execution_count": 40,
   "id": "730af6b8",
   "metadata": {
    "scrolled": true
   },
   "outputs": [
    {
     "data": {
      "text/plain": [
       "<AxesSubplot:xlabel='Actual', ylabel='Predicted'>"
      ]
     },
     "execution_count": 40,
     "metadata": {},
     "output_type": "execute_result"
    },
    {
     "data": {
      "image/png": "[encoded data removed]",
      "text/plain": [
       "<Figure size 640x480 with 1 Axes>"
      ]
     },
     "metadata": {},
     "output_type": "display_data"
    }
   ],
   "source": [
    "sns.regplot(x='Actual',y='Predicted',data = actual_pred)"
   ]
  },
  {
   "cell_type": "code",
   "execution_count": 41,
   "id": "f108fb97",
   "metadata": {},
   "outputs": [
    {
     "data": {
      "text/plain": [
       "(580, 2)"
      ]
     },
     "execution_count": 41,
     "metadata": {},
     "output_type": "execute_result"
    }
   ],
   "source": [
    "actual_pred.shape"
   ]
  },
  {
   "cell_type": "code",
   "execution_count": 42,
   "id": "ca0aa304",
   "metadata": {},
   "outputs": [],
   "source": [
    "# to check the MAPE, MSE,RMSE on the test data"
   ]
  },
  {
   "cell_type": "code",
   "execution_count": 43,
   "id": "88e1d586",
   "metadata": {},
   "outputs": [],
   "source": [
    "pred_test = linreg.predict(lcn_test_x)\n",
    "err_test = lcn_test_y - pred_test"
   ]
  },
  {
   "cell_type": "code",
   "execution_count": 44,
   "id": "4a6050b9",
   "metadata": {},
   "outputs": [
    {
     "data": {
      "text/plain": [
       "310   -2.078180\n",
       "481   -0.228077\n",
       "570    0.209054\n",
       "235   -0.851383\n",
       "173   -0.850139\n",
       "         ...   \n",
       "425   -1.371847\n",
       "272   -1.803314\n",
       "580   -0.387788\n",
       "309   -1.440294\n",
       "1     -0.612483\n",
       "Name: LungCap, Length: 145, dtype: float64"
      ]
     },
     "execution_count": 44,
     "metadata": {},
     "output_type": "execute_result"
    }
   ],
   "source": [
    "err_test"
   ]
  },
  {
   "cell_type": "code",
   "execution_count": 45,
   "id": "30c60f47",
   "metadata": {},
   "outputs": [
    {
     "data": {
      "text/plain": [
       "1.0319534234446748"
      ]
     },
     "execution_count": 45,
     "metadata": {},
     "output_type": "execute_result"
    }
   ],
   "source": [
    "MSE = np.mean(np.square(err_test))\n",
    "MSE"
   ]
  },
  {
   "cell_type": "code",
   "execution_count": 46,
   "id": "d8b11e7e",
   "metadata": {},
   "outputs": [
    {
     "data": {
      "text/plain": [
       "1.0158510833014232"
      ]
     },
     "execution_count": 46,
     "metadata": {},
     "output_type": "execute_result"
    }
   ],
   "source": [
    "RMSE = np.sqrt(MSE)\n",
    "RMSE"
   ]
  },
  {
   "cell_type": "code",
   "execution_count": 47,
   "id": "1fb22d6d",
   "metadata": {},
   "outputs": [],
   "source": [
    "#percentage error = error*100 /actual"
   ]
  },
  {
   "cell_type": "code",
   "execution_count": 48,
   "id": "2b4dc4b0",
   "metadata": {},
   "outputs": [],
   "source": [
    "MAPE= np.mean(np.abs((err_test*100/lcn_test_y)))"
   ]
  },
  {
   "cell_type": "code",
   "execution_count": 49,
   "id": "607aebb8",
   "metadata": {},
   "outputs": [
    {
     "data": {
      "text/plain": [
       "14.317890840893511"
      ]
     },
     "execution_count": 49,
     "metadata": {},
     "output_type": "execute_result"
    }
   ],
   "source": [
    "MAPE  # Mean absolute percentage error"
   ]
  },
  {
   "cell_type": "code",
   "execution_count": 50,
   "id": "bfcc5c1e",
   "metadata": {},
   "outputs": [
    {
     "data": {
      "text/plain": [
       "85.68210915910649"
      ]
     },
     "execution_count": 50,
     "metadata": {},
     "output_type": "execute_result"
    }
   ],
   "source": [
    "acc = 100 -MAPE   # Accuracy of model\n",
    "acc"
   ]
  },
  {
   "cell_type": "code",
   "execution_count": null,
   "id": "c4bce5e4",
   "metadata": {},
   "outputs": [],
   "source": []
  },
  {
   "cell_type": "code",
   "execution_count": null,
   "id": "6917c417",
   "metadata": {},
   "outputs": [],
   "source": []
  },
  {
   "cell_type": "code",
   "execution_count": null,
   "id": "21b14bd0",
   "metadata": {},
   "outputs": [],
   "source": []
  },
  {
   "cell_type": "code",
   "execution_count": null,
   "id": "2c25dffd",
   "metadata": {},
   "outputs": [],
   "source": []
  },
  {
   "cell_type": "code",
   "execution_count": null,
   "id": "5de93f8d",
   "metadata": {},
   "outputs": [],
   "source": []
  }
 ],
 "metadata": {
  "kernelspec": {
   "display_name": "Python 3 (ipykernel)",
   "language": "python",
   "name": "python3"
  },
  "language_info": {
   "codemirror_mode": {
    "name": "ipython",
    "version": 3
   },
   "file_extension": ".py",
   "mimetype": "text/x-python",
   "name": "python",
   "nbconvert_exporter": "python",
   "pygments_lexer": "ipython3",
   "version": "3.9.13"
  }
 },
 "nbformat": 4,
 "nbformat_minor": 5
}

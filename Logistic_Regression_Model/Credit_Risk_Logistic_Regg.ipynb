{
 "cells": [
  {
   "cell_type": "code",
   "execution_count": 1,
   "id": "ae6edeaf",
   "metadata": {},
   "outputs": [],
   "source": [
    "import pandas as pd"
   ]
  },
  {
   "cell_type": "code",
   "execution_count": 2,
   "id": "24096f39",
   "metadata": {},
   "outputs": [],
   "source": [
    "cr = pd.read_csv('CreditRisk.csv')"
   ]
  },
  {
   "cell_type": "code",
   "execution_count": 3,
   "id": "2b7569f0",
   "metadata": {},
   "outputs": [
    {
     "data": {
      "text/html": [
       "<div>\n",
       "<style scoped>\n",
       "    .dataframe tbody tr th:only-of-type {\n",
       "        vertical-align: middle;\n",
       "    }\n",
       "\n",
       "    .dataframe tbody tr th {\n",
       "        vertical-align: top;\n",
       "    }\n",
       "\n",
       "    .dataframe thead th {\n",
       "        text-align: right;\n",
       "    }\n",
       "</style>\n",
       "<table border=\"1\" class=\"dataframe\">\n",
       "  <thead>\n",
       "    <tr style=\"text-align: right;\">\n",
       "      <th></th>\n",
       "      <th>Loan_ID</th>\n",
       "      <th>Gender</th>\n",
       "      <th>Married</th>\n",
       "      <th>Dependents</th>\n",
       "      <th>Education</th>\n",
       "      <th>Self_Employed</th>\n",
       "      <th>ApplicantIncome</th>\n",
       "      <th>CoapplicantIncome</th>\n",
       "      <th>LoanAmount</th>\n",
       "      <th>Loan_Amount_Term</th>\n",
       "      <th>Credit_History</th>\n",
       "      <th>Property_Area</th>\n",
       "      <th>Loan_Status</th>\n",
       "    </tr>\n",
       "  </thead>\n",
       "  <tbody>\n",
       "    <tr>\n",
       "      <th>0</th>\n",
       "      <td>LP001002</td>\n",
       "      <td>Male</td>\n",
       "      <td>No</td>\n",
       "      <td>0.0</td>\n",
       "      <td>Graduate</td>\n",
       "      <td>No</td>\n",
       "      <td>5849</td>\n",
       "      <td>0.0</td>\n",
       "      <td>NaN</td>\n",
       "      <td>360.0</td>\n",
       "      <td>1.0</td>\n",
       "      <td>Urban</td>\n",
       "      <td>Y</td>\n",
       "    </tr>\n",
       "    <tr>\n",
       "      <th>1</th>\n",
       "      <td>LP001003</td>\n",
       "      <td>Male</td>\n",
       "      <td>Yes</td>\n",
       "      <td>1.0</td>\n",
       "      <td>Graduate</td>\n",
       "      <td>No</td>\n",
       "      <td>4583</td>\n",
       "      <td>1508.0</td>\n",
       "      <td>128.0</td>\n",
       "      <td>360.0</td>\n",
       "      <td>1.0</td>\n",
       "      <td>Rural</td>\n",
       "      <td>N</td>\n",
       "    </tr>\n",
       "    <tr>\n",
       "      <th>2</th>\n",
       "      <td>LP001005</td>\n",
       "      <td>Male</td>\n",
       "      <td>Yes</td>\n",
       "      <td>0.0</td>\n",
       "      <td>Graduate</td>\n",
       "      <td>Yes</td>\n",
       "      <td>3000</td>\n",
       "      <td>0.0</td>\n",
       "      <td>66.0</td>\n",
       "      <td>360.0</td>\n",
       "      <td>1.0</td>\n",
       "      <td>Urban</td>\n",
       "      <td>Y</td>\n",
       "    </tr>\n",
       "    <tr>\n",
       "      <th>3</th>\n",
       "      <td>LP001006</td>\n",
       "      <td>Male</td>\n",
       "      <td>Yes</td>\n",
       "      <td>0.0</td>\n",
       "      <td>Not Graduate</td>\n",
       "      <td>No</td>\n",
       "      <td>2583</td>\n",
       "      <td>2358.0</td>\n",
       "      <td>120.0</td>\n",
       "      <td>360.0</td>\n",
       "      <td>1.0</td>\n",
       "      <td>Urban</td>\n",
       "      <td>Y</td>\n",
       "    </tr>\n",
       "    <tr>\n",
       "      <th>4</th>\n",
       "      <td>LP001008</td>\n",
       "      <td>Male</td>\n",
       "      <td>No</td>\n",
       "      <td>0.0</td>\n",
       "      <td>Graduate</td>\n",
       "      <td>No</td>\n",
       "      <td>6000</td>\n",
       "      <td>0.0</td>\n",
       "      <td>141.0</td>\n",
       "      <td>360.0</td>\n",
       "      <td>1.0</td>\n",
       "      <td>Urban</td>\n",
       "      <td>Y</td>\n",
       "    </tr>\n",
       "  </tbody>\n",
       "</table>\n",
       "</div>"
      ],
      "text/plain": [
       "    Loan_ID Gender Married  Dependents     Education Self_Employed  \\\n",
       "0  LP001002   Male      No         0.0      Graduate            No   \n",
       "1  LP001003   Male     Yes         1.0      Graduate            No   \n",
       "2  LP001005   Male     Yes         0.0      Graduate           Yes   \n",
       "3  LP001006   Male     Yes         0.0  Not Graduate            No   \n",
       "4  LP001008   Male      No         0.0      Graduate            No   \n",
       "\n",
       "   ApplicantIncome  CoapplicantIncome  LoanAmount  Loan_Amount_Term  \\\n",
       "0             5849                0.0         NaN             360.0   \n",
       "1             4583             1508.0       128.0             360.0   \n",
       "2             3000                0.0        66.0             360.0   \n",
       "3             2583             2358.0       120.0             360.0   \n",
       "4             6000                0.0       141.0             360.0   \n",
       "\n",
       "   Credit_History Property_Area Loan_Status  \n",
       "0             1.0         Urban           Y  \n",
       "1             1.0         Rural           N  \n",
       "2             1.0         Urban           Y  \n",
       "3             1.0         Urban           Y  \n",
       "4             1.0         Urban           Y  "
      ]
     },
     "execution_count": 3,
     "metadata": {},
     "output_type": "execute_result"
    }
   ],
   "source": [
    "cr.head()"
   ]
  },
  {
   "cell_type": "code",
   "execution_count": 4,
   "id": "e38c3b2e",
   "metadata": {},
   "outputs": [
    {
     "data": {
      "text/plain": [
       "Loan_ID               0\n",
       "Gender               24\n",
       "Married               3\n",
       "Dependents           25\n",
       "Education             0\n",
       "Self_Employed        55\n",
       "ApplicantIncome       0\n",
       "CoapplicantIncome     0\n",
       "LoanAmount           27\n",
       "Loan_Amount_Term     20\n",
       "Credit_History       79\n",
       "Property_Area         0\n",
       "Loan_Status           0\n",
       "dtype: int64"
      ]
     },
     "execution_count": 4,
     "metadata": {},
     "output_type": "execute_result"
    }
   ],
   "source": [
    "cr.isnull().sum()"
   ]
  },
  {
   "cell_type": "code",
   "execution_count": 5,
   "id": "1c2cb152",
   "metadata": {},
   "outputs": [],
   "source": [
    "cr.Gender.fillna('Male',inplace = True)                                 # most frquent vlaue is male\n",
    "cr.Married.fillna('Yes',inplace = True)                                  # we can't fill yes bcz of married\n",
    "cr.Dependents.fillna(0,inplace = True)                                # most frquent vlaue\n",
    "cr.Self_Employed.fillna('No',inplace = True)                            # most frquent vlaue\n",
    "cr.LoanAmount.fillna(cr.LoanAmount.mean(),inplace = True)               # filled with mean\n",
    "cr.Loan_Amount_Term.fillna(cr.Loan_Amount_Term.mean(),inplace = True)   # filled with mean    \n",
    "cr.Credit_History.fillna(0,inplace = True)                            # 1 is good history, 0 is bad history choose bad history\n"
   ]
  },
  {
   "cell_type": "code",
   "execution_count": 6,
   "id": "c76b85ab",
   "metadata": {},
   "outputs": [
    {
     "data": {
      "text/plain": [
       "Loan_ID              0\n",
       "Gender               0\n",
       "Married              0\n",
       "Dependents           0\n",
       "Education            0\n",
       "Self_Employed        0\n",
       "ApplicantIncome      0\n",
       "CoapplicantIncome    0\n",
       "LoanAmount           0\n",
       "Loan_Amount_Term     0\n",
       "Credit_History       0\n",
       "Property_Area        0\n",
       "Loan_Status          0\n",
       "dtype: int64"
      ]
     },
     "execution_count": 6,
     "metadata": {},
     "output_type": "execute_result"
    }
   ],
   "source": [
    "cr.isnull().sum()"
   ]
  },
  {
   "cell_type": "code",
   "execution_count": 7,
   "id": "af6bd3b6",
   "metadata": {},
   "outputs": [
    {
     "data": {
      "text/plain": [
       "Index(['Loan_ID', 'Gender', 'Married', 'Education', 'Self_Employed',\n",
       "       'Property_Area', 'Loan_Status'],\n",
       "      dtype='object')"
      ]
     },
     "execution_count": 7,
     "metadata": {},
     "output_type": "execute_result"
    }
   ],
   "source": [
    "cr.select_dtypes(include='object').columns"
   ]
  },
  {
   "cell_type": "code",
   "execution_count": 8,
   "id": "c5cc97a9",
   "metadata": {},
   "outputs": [],
   "source": [
    "cr.Loan_Status = cr.Loan_Status.replace({'Y':1,'N':0})"
   ]
  },
  {
   "cell_type": "code",
   "execution_count": 9,
   "id": "6c1fd189",
   "metadata": {},
   "outputs": [],
   "source": [
    "from sklearn.preprocessing import LabelEncoder\n",
    "le = LabelEncoder() # Object create/ run for the first time"
   ]
  },
  {
   "cell_type": "code",
   "execution_count": 10,
   "id": "1b3ee0ac",
   "metadata": {},
   "outputs": [],
   "source": [
    "cr.Gender = le.fit_transform(cr.Gender)\n",
    "cr.Married = le.fit_transform(cr.Married)\n",
    "cr.Education = le.fit_transform(cr.Education)\n",
    "cr.Self_Employed = le.fit_transform(cr.Self_Employed)\n",
    "cr.Property_Area = le.fit_transform(cr.Property_Area)"
   ]
  },
  {
   "cell_type": "code",
   "execution_count": 11,
   "id": "0778cb7a",
   "metadata": {},
   "outputs": [
    {
     "data": {
      "text/html": [
       "<div>\n",
       "<style scoped>\n",
       "    .dataframe tbody tr th:only-of-type {\n",
       "        vertical-align: middle;\n",
       "    }\n",
       "\n",
       "    .dataframe tbody tr th {\n",
       "        vertical-align: top;\n",
       "    }\n",
       "\n",
       "    .dataframe thead th {\n",
       "        text-align: right;\n",
       "    }\n",
       "</style>\n",
       "<table border=\"1\" class=\"dataframe\">\n",
       "  <thead>\n",
       "    <tr style=\"text-align: right;\">\n",
       "      <th></th>\n",
       "      <th>Loan_ID</th>\n",
       "      <th>Gender</th>\n",
       "      <th>Married</th>\n",
       "      <th>Dependents</th>\n",
       "      <th>Education</th>\n",
       "      <th>Self_Employed</th>\n",
       "      <th>ApplicantIncome</th>\n",
       "      <th>CoapplicantIncome</th>\n",
       "      <th>LoanAmount</th>\n",
       "      <th>Loan_Amount_Term</th>\n",
       "      <th>Credit_History</th>\n",
       "      <th>Property_Area</th>\n",
       "      <th>Loan_Status</th>\n",
       "    </tr>\n",
       "  </thead>\n",
       "  <tbody>\n",
       "    <tr>\n",
       "      <th>0</th>\n",
       "      <td>LP001002</td>\n",
       "      <td>1</td>\n",
       "      <td>0</td>\n",
       "      <td>0.0</td>\n",
       "      <td>0</td>\n",
       "      <td>0</td>\n",
       "      <td>5849</td>\n",
       "      <td>0.0</td>\n",
       "      <td>142.51153</td>\n",
       "      <td>360.0</td>\n",
       "      <td>1.0</td>\n",
       "      <td>2</td>\n",
       "      <td>1</td>\n",
       "    </tr>\n",
       "    <tr>\n",
       "      <th>1</th>\n",
       "      <td>LP001003</td>\n",
       "      <td>1</td>\n",
       "      <td>1</td>\n",
       "      <td>1.0</td>\n",
       "      <td>0</td>\n",
       "      <td>0</td>\n",
       "      <td>4583</td>\n",
       "      <td>1508.0</td>\n",
       "      <td>128.00000</td>\n",
       "      <td>360.0</td>\n",
       "      <td>1.0</td>\n",
       "      <td>0</td>\n",
       "      <td>0</td>\n",
       "    </tr>\n",
       "    <tr>\n",
       "      <th>2</th>\n",
       "      <td>LP001005</td>\n",
       "      <td>1</td>\n",
       "      <td>1</td>\n",
       "      <td>0.0</td>\n",
       "      <td>0</td>\n",
       "      <td>1</td>\n",
       "      <td>3000</td>\n",
       "      <td>0.0</td>\n",
       "      <td>66.00000</td>\n",
       "      <td>360.0</td>\n",
       "      <td>1.0</td>\n",
       "      <td>2</td>\n",
       "      <td>1</td>\n",
       "    </tr>\n",
       "  </tbody>\n",
       "</table>\n",
       "</div>"
      ],
      "text/plain": [
       "    Loan_ID  Gender  Married  Dependents  Education  Self_Employed  \\\n",
       "0  LP001002       1        0         0.0          0              0   \n",
       "1  LP001003       1        1         1.0          0              0   \n",
       "2  LP001005       1        1         0.0          0              1   \n",
       "\n",
       "   ApplicantIncome  CoapplicantIncome  LoanAmount  Loan_Amount_Term  \\\n",
       "0             5849                0.0   142.51153             360.0   \n",
       "1             4583             1508.0   128.00000             360.0   \n",
       "2             3000                0.0    66.00000             360.0   \n",
       "\n",
       "   Credit_History  Property_Area  Loan_Status  \n",
       "0             1.0              2            1  \n",
       "1             1.0              0            0  \n",
       "2             1.0              2            1  "
      ]
     },
     "execution_count": 11,
     "metadata": {},
     "output_type": "execute_result"
    }
   ],
   "source": [
    "cr.head(3)"
   ]
  },
  {
   "cell_type": "code",
   "execution_count": 12,
   "id": "8bc53344",
   "metadata": {},
   "outputs": [],
   "source": [
    "cr = cr.drop(['Loan_ID'],axis=1)"
   ]
  },
  {
   "cell_type": "code",
   "execution_count": 13,
   "id": "bdecc879",
   "metadata": {},
   "outputs": [
    {
     "data": {
      "text/html": [
       "<div>\n",
       "<style scoped>\n",
       "    .dataframe tbody tr th:only-of-type {\n",
       "        vertical-align: middle;\n",
       "    }\n",
       "\n",
       "    .dataframe tbody tr th {\n",
       "        vertical-align: top;\n",
       "    }\n",
       "\n",
       "    .dataframe thead th {\n",
       "        text-align: right;\n",
       "    }\n",
       "</style>\n",
       "<table border=\"1\" class=\"dataframe\">\n",
       "  <thead>\n",
       "    <tr style=\"text-align: right;\">\n",
       "      <th></th>\n",
       "      <th>Gender</th>\n",
       "      <th>Married</th>\n",
       "      <th>Dependents</th>\n",
       "      <th>Education</th>\n",
       "      <th>Self_Employed</th>\n",
       "      <th>ApplicantIncome</th>\n",
       "      <th>CoapplicantIncome</th>\n",
       "      <th>LoanAmount</th>\n",
       "      <th>Loan_Amount_Term</th>\n",
       "      <th>Credit_History</th>\n",
       "      <th>Property_Area</th>\n",
       "      <th>Loan_Status</th>\n",
       "    </tr>\n",
       "  </thead>\n",
       "  <tbody>\n",
       "    <tr>\n",
       "      <th>0</th>\n",
       "      <td>1</td>\n",
       "      <td>0</td>\n",
       "      <td>0.0</td>\n",
       "      <td>0</td>\n",
       "      <td>0</td>\n",
       "      <td>5849</td>\n",
       "      <td>0.0</td>\n",
       "      <td>142.51153</td>\n",
       "      <td>360.0</td>\n",
       "      <td>1.0</td>\n",
       "      <td>2</td>\n",
       "      <td>1</td>\n",
       "    </tr>\n",
       "    <tr>\n",
       "      <th>1</th>\n",
       "      <td>1</td>\n",
       "      <td>1</td>\n",
       "      <td>1.0</td>\n",
       "      <td>0</td>\n",
       "      <td>0</td>\n",
       "      <td>4583</td>\n",
       "      <td>1508.0</td>\n",
       "      <td>128.00000</td>\n",
       "      <td>360.0</td>\n",
       "      <td>1.0</td>\n",
       "      <td>0</td>\n",
       "      <td>0</td>\n",
       "    </tr>\n",
       "    <tr>\n",
       "      <th>2</th>\n",
       "      <td>1</td>\n",
       "      <td>1</td>\n",
       "      <td>0.0</td>\n",
       "      <td>0</td>\n",
       "      <td>1</td>\n",
       "      <td>3000</td>\n",
       "      <td>0.0</td>\n",
       "      <td>66.00000</td>\n",
       "      <td>360.0</td>\n",
       "      <td>1.0</td>\n",
       "      <td>2</td>\n",
       "      <td>1</td>\n",
       "    </tr>\n",
       "    <tr>\n",
       "      <th>3</th>\n",
       "      <td>1</td>\n",
       "      <td>1</td>\n",
       "      <td>0.0</td>\n",
       "      <td>1</td>\n",
       "      <td>0</td>\n",
       "      <td>2583</td>\n",
       "      <td>2358.0</td>\n",
       "      <td>120.00000</td>\n",
       "      <td>360.0</td>\n",
       "      <td>1.0</td>\n",
       "      <td>2</td>\n",
       "      <td>1</td>\n",
       "    </tr>\n",
       "    <tr>\n",
       "      <th>4</th>\n",
       "      <td>1</td>\n",
       "      <td>0</td>\n",
       "      <td>0.0</td>\n",
       "      <td>0</td>\n",
       "      <td>0</td>\n",
       "      <td>6000</td>\n",
       "      <td>0.0</td>\n",
       "      <td>141.00000</td>\n",
       "      <td>360.0</td>\n",
       "      <td>1.0</td>\n",
       "      <td>2</td>\n",
       "      <td>1</td>\n",
       "    </tr>\n",
       "  </tbody>\n",
       "</table>\n",
       "</div>"
      ],
      "text/plain": [
       "   Gender  Married  Dependents  Education  Self_Employed  ApplicantIncome  \\\n",
       "0       1        0         0.0          0              0             5849   \n",
       "1       1        1         1.0          0              0             4583   \n",
       "2       1        1         0.0          0              1             3000   \n",
       "3       1        1         0.0          1              0             2583   \n",
       "4       1        0         0.0          0              0             6000   \n",
       "\n",
       "   CoapplicantIncome  LoanAmount  Loan_Amount_Term  Credit_History  \\\n",
       "0                0.0   142.51153             360.0             1.0   \n",
       "1             1508.0   128.00000             360.0             1.0   \n",
       "2                0.0    66.00000             360.0             1.0   \n",
       "3             2358.0   120.00000             360.0             1.0   \n",
       "4                0.0   141.00000             360.0             1.0   \n",
       "\n",
       "   Property_Area  Loan_Status  \n",
       "0              2            1  \n",
       "1              0            0  \n",
       "2              2            1  \n",
       "3              2            1  \n",
       "4              2            1  "
      ]
     },
     "execution_count": 13,
     "metadata": {},
     "output_type": "execute_result"
    }
   ],
   "source": [
    "cr.head()"
   ]
  },
  {
   "cell_type": "markdown",
   "id": "55cf5b4e",
   "metadata": {},
   "source": [
    "### Sampling"
   ]
  },
  {
   "cell_type": "code",
   "execution_count": 14,
   "id": "990655c4",
   "metadata": {},
   "outputs": [],
   "source": [
    "from sklearn.model_selection import train_test_split\n",
    "\n",
    "train_cr,test_cr = train_test_split(cr,test_size=0.2)"
   ]
  },
  {
   "cell_type": "code",
   "execution_count": 15,
   "id": "caf28be9",
   "metadata": {},
   "outputs": [],
   "source": [
    "train_cr_x = train_cr.iloc[ : , :-1]\n",
    "train_cr_y = train_cr.iloc[ : , -1]"
   ]
  },
  {
   "cell_type": "code",
   "execution_count": 16,
   "id": "4ae8e8ec",
   "metadata": {},
   "outputs": [],
   "source": [
    "test_cr_x = test_cr.iloc[ : , :-1]\n",
    "test_cr_y = test_cr.iloc[ : , -1]"
   ]
  },
  {
   "cell_type": "markdown",
   "id": "9590329e",
   "metadata": {},
   "source": [
    "### Model Building"
   ]
  },
  {
   "cell_type": "code",
   "execution_count": 17,
   "id": "e284adc0",
   "metadata": {},
   "outputs": [],
   "source": [
    "from sklearn.linear_model import LogisticRegression"
   ]
  },
  {
   "cell_type": "code",
   "execution_count": 18,
   "id": "9d14d475",
   "metadata": {},
   "outputs": [],
   "source": [
    "logreg = LogisticRegression()"
   ]
  },
  {
   "cell_type": "code",
   "execution_count": 19,
   "id": "7925f338",
   "metadata": {},
   "outputs": [
    {
     "name": "stderr",
     "output_type": "stream",
     "text": [
      "C:\\Users\\MR.GODHADE\\anaconda3\\lib\\site-packages\\sklearn\\linear_model\\_logistic.py:814: ConvergenceWarning: lbfgs failed to converge (status=1):\n",
      "STOP: TOTAL NO. of ITERATIONS REACHED LIMIT.\n",
      "\n",
      "Increase the number of iterations (max_iter) or scale the data as shown in:\n",
      "    https://scikit-learn.org/stable/modules/preprocessing.html\n",
      "Please also refer to the documentation for alternative solver options:\n",
      "    https://scikit-learn.org/stable/modules/linear_model.html#logistic-regression\n",
      "  n_iter_i = _check_optimize_result(\n"
     ]
    },
    {
     "data": {
      "text/plain": [
       "LogisticRegression()"
      ]
     },
     "execution_count": 19,
     "metadata": {},
     "output_type": "execute_result"
    }
   ],
   "source": [
    "logreg.fit(train_cr_x,train_cr_y)"
   ]
  },
  {
   "cell_type": "markdown",
   "id": "e6d901d5",
   "metadata": {},
   "source": [
    "### Prediction"
   ]
  },
  {
   "cell_type": "code",
   "execution_count": 20,
   "id": "e31dcd73",
   "metadata": {},
   "outputs": [],
   "source": [
    "pred = logreg.predict(test_cr_x)"
   ]
  },
  {
   "cell_type": "code",
   "execution_count": 21,
   "id": "b6eb864a",
   "metadata": {},
   "outputs": [
    {
     "data": {
      "text/plain": [
       "array([0, 1, 1, 1, 1, 0, 1, 1, 1, 1, 1, 0, 1, 1, 1, 1, 1, 0, 1, 0, 1, 1,\n",
       "       1, 1, 1, 1, 1, 1, 1, 0, 1, 0, 1, 0, 1, 1, 1, 1, 0, 1, 1, 1, 1, 1,\n",
       "       1, 1, 1, 1, 1, 1, 1, 1, 1, 1, 1, 0, 1, 1, 1, 1, 1, 1, 0, 1, 1, 1,\n",
       "       1, 1, 1, 1, 1, 1, 1, 0, 1, 0, 1, 1, 1, 1, 0, 1, 1, 1, 1, 0, 1, 1,\n",
       "       1, 1, 1, 1, 1, 0, 0, 1, 1, 1, 1, 1, 1, 1, 0, 0, 1, 1, 1, 1, 1, 1,\n",
       "       1, 1, 1, 1, 0, 0, 1, 1, 1, 0, 1, 1, 1, 0, 0, 0, 1, 0, 1, 0, 1, 1,\n",
       "       1, 1, 1, 1, 1, 1, 1, 1, 1, 1, 1, 1, 1, 0, 1, 0, 1, 1, 0, 0, 1, 1,\n",
       "       1, 1, 0, 1, 1, 1, 1, 1, 0, 0, 1, 1, 1, 1, 1, 1, 1, 0, 0, 1, 1, 1,\n",
       "       1, 1, 0, 1, 1, 1, 1, 1, 1, 1, 1, 0, 1, 1, 1, 1, 1, 1, 0, 1, 1],\n",
       "      dtype=int64)"
      ]
     },
     "execution_count": 21,
     "metadata": {},
     "output_type": "execute_result"
    }
   ],
   "source": [
    "pred"
   ]
  },
  {
   "cell_type": "code",
   "execution_count": 22,
   "id": "8b71a79c",
   "metadata": {},
   "outputs": [],
   "source": [
    "#test_cr_y"
   ]
  },
  {
   "cell_type": "code",
   "execution_count": 23,
   "id": "854c311a",
   "metadata": {},
   "outputs": [],
   "source": [
    "from sklearn.metrics import confusion_matrix"
   ]
  },
  {
   "cell_type": "code",
   "execution_count": 24,
   "id": "0dcd57d7",
   "metadata": {},
   "outputs": [
    {
     "data": {
      "text/plain": [
       "array([[ 29,  35],\n",
       "       [ 10, 123]], dtype=int64)"
      ]
     },
     "execution_count": 24,
     "metadata": {},
     "output_type": "execute_result"
    }
   ],
   "source": [
    "tab1 = confusion_matrix(test_cr_y,pred)\n",
    "tab1"
   ]
  },
  {
   "cell_type": "code",
   "execution_count": 25,
   "id": "faf388cc",
   "metadata": {},
   "outputs": [
    {
     "data": {
      "text/plain": [
       "77.15736040609137"
      ]
     },
     "execution_count": 25,
     "metadata": {},
     "output_type": "execute_result"
    }
   ],
   "source": [
    "Accuracy = tab1.diagonal().sum()*100/tab1.sum()\n",
    "Accuracy"
   ]
  },
  {
   "cell_type": "code",
   "execution_count": 26,
   "id": "f150ade7",
   "metadata": {},
   "outputs": [],
   "source": [
    "from sklearn.metrics import recall_score"
   ]
  },
  {
   "cell_type": "code",
   "execution_count": 27,
   "id": "00230e55",
   "metadata": {},
   "outputs": [
    {
     "data": {
      "text/plain": [
       "92.4812030075188"
      ]
     },
     "execution_count": 27,
     "metadata": {},
     "output_type": "execute_result"
    }
   ],
   "source": [
    "recall_score(test_cr_y,pred)*100"
   ]
  },
  {
   "cell_type": "code",
   "execution_count": 28,
   "id": "1aef0347",
   "metadata": {},
   "outputs": [],
   "source": [
    "from sklearn.metrics import precision_score"
   ]
  },
  {
   "cell_type": "code",
   "execution_count": 29,
   "id": "e94d9668",
   "metadata": {},
   "outputs": [
    {
     "data": {
      "text/plain": [
       "77.84810126582279"
      ]
     },
     "execution_count": 29,
     "metadata": {},
     "output_type": "execute_result"
    }
   ],
   "source": [
    "precision_score(test_cr_y,pred)*100"
   ]
  },
  {
   "cell_type": "code",
   "execution_count": 30,
   "id": "f0347047",
   "metadata": {},
   "outputs": [],
   "source": [
    "from sklearn.metrics import f1_score"
   ]
  },
  {
   "cell_type": "code",
   "execution_count": 31,
   "id": "1241376c",
   "metadata": {},
   "outputs": [
    {
     "data": {
      "text/plain": [
       "84.5360824742268"
      ]
     },
     "execution_count": 31,
     "metadata": {},
     "output_type": "execute_result"
    }
   ],
   "source": [
    "f1_score(test_cr_y,pred)*100"
   ]
  },
  {
   "cell_type": "markdown",
   "id": "85543590",
   "metadata": {},
   "source": [
    "### AuRoc"
   ]
  },
  {
   "cell_type": "code",
   "execution_count": 33,
   "id": "e56012dc",
   "metadata": {},
   "outputs": [],
   "source": [
    "from sklearn.metrics import roc_auc_score,roc_curve"
   ]
  },
  {
   "cell_type": "code",
   "execution_count": 34,
   "id": "04c8c1ed",
   "metadata": {},
   "outputs": [
    {
     "data": {
      "text/plain": [
       "array([[0.63458583, 0.36541417],\n",
       "       [0.11698571, 0.88301429],\n",
       "       [0.10608034, 0.89391966],\n",
       "       [0.08852637, 0.91147363],\n",
       "       [0.111115  , 0.888885  ],\n",
       "       [0.54304095, 0.45695905],\n",
       "       [0.17403788, 0.82596212],\n",
       "       [0.36879366, 0.63120634],\n",
       "       [0.07436932, 0.92563068],\n",
       "       [0.25995603, 0.74004397],\n",
       "       [0.43952468, 0.56047532],\n",
       "       [0.75022688, 0.24977312],\n",
       "       [0.17954763, 0.82045237],\n",
       "       [0.12438348, 0.87561652],\n",
       "       [0.31561462, 0.68438538],\n",
       "       [0.14058703, 0.85941297],\n",
       "       [0.07918057, 0.92081943],\n",
       "       [0.62360954, 0.37639046],\n",
       "       [0.07135511, 0.92864489],\n",
       "       [0.66548711, 0.33451289],\n",
       "       [0.18541383, 0.81458617],\n",
       "       [0.16999354, 0.83000646],\n",
       "       [0.35795068, 0.64204932],\n",
       "       [0.20264859, 0.79735141],\n",
       "       [0.07473361, 0.92526639],\n",
       "       [0.23199237, 0.76800763],\n",
       "       [0.22961806, 0.77038194],\n",
       "       [0.09919343, 0.90080657],\n",
       "       [0.23266656, 0.76733344],\n",
       "       [0.75892395, 0.24107605],\n",
       "       [0.07126562, 0.92873438],\n",
       "       [0.78710285, 0.21289715],\n",
       "       [0.23543057, 0.76456943],\n",
       "       [0.52319399, 0.47680601],\n",
       "       [0.1543358 , 0.8456642 ],\n",
       "       [0.16072141, 0.83927859],\n",
       "       [0.18819391, 0.81180609],\n",
       "       [0.26833488, 0.73166512],\n",
       "       [0.60337364, 0.39662636],\n",
       "       [0.07775522, 0.92224478],\n",
       "       [0.11436939, 0.88563061],\n",
       "       [0.0810139 , 0.9189861 ],\n",
       "       [0.46970313, 0.53029687],\n",
       "       [0.18205399, 0.81794601],\n",
       "       [0.08353767, 0.91646233],\n",
       "       [0.3811491 , 0.6188509 ],\n",
       "       [0.18026958, 0.81973042],\n",
       "       [0.12562965, 0.87437035],\n",
       "       [0.14414652, 0.85585348],\n",
       "       [0.12621762, 0.87378238],\n",
       "       [0.11621719, 0.88378281],\n",
       "       [0.15226745, 0.84773255],\n",
       "       [0.10935172, 0.89064828],\n",
       "       [0.08822351, 0.91177649],\n",
       "       [0.11821175, 0.88178825],\n",
       "       [0.77751569, 0.22248431],\n",
       "       [0.14736439, 0.85263561],\n",
       "       [0.14827597, 0.85172403],\n",
       "       [0.08866647, 0.91133353],\n",
       "       [0.11629653, 0.88370347],\n",
       "       [0.09191245, 0.90808755],\n",
       "       [0.22679317, 0.77320683],\n",
       "       [0.89329962, 0.10670038],\n",
       "       [0.11392257, 0.88607743],\n",
       "       [0.08463508, 0.91536492],\n",
       "       [0.15670158, 0.84329842],\n",
       "       [0.36605119, 0.63394881],\n",
       "       [0.22197245, 0.77802755],\n",
       "       [0.1031457 , 0.8968543 ],\n",
       "       [0.10263871, 0.89736129],\n",
       "       [0.21659248, 0.78340752],\n",
       "       [0.07585644, 0.92414356],\n",
       "       [0.09568283, 0.90431717],\n",
       "       [0.5156645 , 0.4843355 ],\n",
       "       [0.15226944, 0.84773056],\n",
       "       [0.76033434, 0.23966566],\n",
       "       [0.07824756, 0.92175244],\n",
       "       [0.18363105, 0.81636895],\n",
       "       [0.201484  , 0.798516  ],\n",
       "       [0.19922575, 0.80077425],\n",
       "       [0.67401032, 0.32598968],\n",
       "       [0.15011314, 0.84988686],\n",
       "       [0.10249751, 0.89750249],\n",
       "       [0.14966851, 0.85033149],\n",
       "       [0.1046131 , 0.8953869 ],\n",
       "       [0.7023193 , 0.2976807 ],\n",
       "       [0.09391053, 0.90608947],\n",
       "       [0.25691822, 0.74308178],\n",
       "       [0.11040098, 0.88959902],\n",
       "       [0.23957086, 0.76042914],\n",
       "       [0.11890239, 0.88109761],\n",
       "       [0.21169385, 0.78830615],\n",
       "       [0.15167448, 0.84832552],\n",
       "       [0.63698432, 0.36301568],\n",
       "       [0.57074231, 0.42925769],\n",
       "       [0.11522648, 0.88477352],\n",
       "       [0.14455767, 0.85544233],\n",
       "       [0.15867967, 0.84132033],\n",
       "       [0.12509812, 0.87490188],\n",
       "       [0.21113032, 0.78886968],\n",
       "       [0.22668673, 0.77331327],\n",
       "       [0.07253309, 0.92746691],\n",
       "       [0.76842893, 0.23157107],\n",
       "       [0.51857567, 0.48142433],\n",
       "       [0.08540434, 0.91459566],\n",
       "       [0.16400173, 0.83599827],\n",
       "       [0.49230701, 0.50769299],\n",
       "       [0.23333975, 0.76666025],\n",
       "       [0.45682233, 0.54317767],\n",
       "       [0.07496845, 0.92503155],\n",
       "       [0.29187542, 0.70812458],\n",
       "       [0.16998855, 0.83001145],\n",
       "       [0.17992959, 0.82007041],\n",
       "       [0.27345146, 0.72654854],\n",
       "       [0.58073003, 0.41926997],\n",
       "       [0.77452869, 0.22547131],\n",
       "       [0.07911762, 0.92088238],\n",
       "       [0.23730148, 0.76269852],\n",
       "       [0.08385178, 0.91614822],\n",
       "       [0.60511572, 0.39488428],\n",
       "       [0.12408552, 0.87591448],\n",
       "       [0.23529107, 0.76470893],\n",
       "       [0.09745532, 0.90254468],\n",
       "       [0.68382259, 0.31617741],\n",
       "       [0.6288737 , 0.3711263 ],\n",
       "       [0.53938415, 0.46061585],\n",
       "       [0.24927737, 0.75072263],\n",
       "       [0.53045343, 0.46954657],\n",
       "       [0.05907232, 0.94092768],\n",
       "       [0.77491549, 0.22508451],\n",
       "       [0.14968584, 0.85031416],\n",
       "       [0.16279662, 0.83720338],\n",
       "       [0.14305858, 0.85694142],\n",
       "       [0.2381242 , 0.7618758 ],\n",
       "       [0.12589622, 0.87410378],\n",
       "       [0.12004549, 0.87995451],\n",
       "       [0.18009474, 0.81990526],\n",
       "       [0.16524163, 0.83475837],\n",
       "       [0.16818528, 0.83181472],\n",
       "       [0.09434105, 0.90565895],\n",
       "       [0.07155804, 0.92844196],\n",
       "       [0.15219563, 0.84780437],\n",
       "       [0.46742071, 0.53257929],\n",
       "       [0.26595995, 0.73404005],\n",
       "       [0.12047834, 0.87952166],\n",
       "       [0.78286502, 0.21713498],\n",
       "       [0.48384045, 0.51615955],\n",
       "       [0.72403409, 0.27596591],\n",
       "       [0.19301314, 0.80698686],\n",
       "       [0.12147685, 0.87852315],\n",
       "       [0.693109  , 0.306891  ],\n",
       "       [0.64177525, 0.35822475],\n",
       "       [0.04889914, 0.95110086],\n",
       "       [0.18190933, 0.81809067],\n",
       "       [0.17270274, 0.82729726],\n",
       "       [0.07501969, 0.92498031],\n",
       "       [0.71987984, 0.28012016],\n",
       "       [0.38592865, 0.61407135],\n",
       "       [0.11063489, 0.88936511],\n",
       "       [0.41778385, 0.58221615],\n",
       "       [0.06244655, 0.93755345],\n",
       "       [0.13531967, 0.86468033],\n",
       "       [0.75994654, 0.24005346],\n",
       "       [0.62999648, 0.37000352],\n",
       "       [0.12559339, 0.87440661],\n",
       "       [0.1959178 , 0.8040822 ],\n",
       "       [0.11375057, 0.88624943],\n",
       "       [0.07287035, 0.92712965],\n",
       "       [0.07503875, 0.92496125],\n",
       "       [0.16562684, 0.83437316],\n",
       "       [0.07271165, 0.92728835],\n",
       "       [0.56304676, 0.43695324],\n",
       "       [0.66611021, 0.33388979],\n",
       "       [0.4253956 , 0.5746044 ],\n",
       "       [0.12688315, 0.87311685],\n",
       "       [0.10936571, 0.89063429],\n",
       "       [0.10513921, 0.89486079],\n",
       "       [0.16963533, 0.83036467],\n",
       "       [0.65474823, 0.34525177],\n",
       "       [0.23742031, 0.76257969],\n",
       "       [0.09479694, 0.90520306],\n",
       "       [0.14634896, 0.85365104],\n",
       "       [0.11538887, 0.88461113],\n",
       "       [0.23516689, 0.76483311],\n",
       "       [0.0933382 , 0.9066618 ],\n",
       "       [0.09507121, 0.90492879],\n",
       "       [0.20118012, 0.79881988],\n",
       "       [0.72845106, 0.27154894],\n",
       "       [0.15733548, 0.84266452],\n",
       "       [0.15277644, 0.84722356],\n",
       "       [0.10179581, 0.89820419],\n",
       "       [0.09583686, 0.90416314],\n",
       "       [0.24356015, 0.75643985],\n",
       "       [0.13919614, 0.86080386],\n",
       "       [0.7884686 , 0.2115314 ],\n",
       "       [0.31734805, 0.68265195],\n",
       "       [0.12597098, 0.87402902]])"
      ]
     },
     "execution_count": 34,
     "metadata": {},
     "output_type": "execute_result"
    }
   ],
   "source": [
    "pred_prob = logreg.predict_proba(test_cr_x)\n",
    "pred_prob\n",
    "# probability should not be close toeach other "
   ]
  },
  {
   "cell_type": "code",
   "execution_count": 38,
   "id": "12eb4be4",
   "metadata": {},
   "outputs": [
    {
     "data": {
      "text/plain": [
       "0.7711466165413534"
      ]
     },
     "execution_count": 38,
     "metadata": {},
     "output_type": "execute_result"
    }
   ],
   "source": [
    "roc_auc_score(test_cr_y,pred_prob[ : , 1])\n",
    "\n",
    "# Area under the curve"
   ]
  },
  {
   "cell_type": "code",
   "execution_count": 39,
   "id": "a7e90fd5",
   "metadata": {},
   "outputs": [],
   "source": [
    "fpr, tpr, thresh = roc_curve(test_cr_y,pred_prob[ : ,1])"
   ]
  },
  {
   "cell_type": "code",
   "execution_count": 40,
   "id": "cb3686c8",
   "metadata": {},
   "outputs": [],
   "source": [
    "import matplotlib.pyplot as plt"
   ]
  },
  {
   "cell_type": "code",
   "execution_count": 46,
   "id": "6cd356ce",
   "metadata": {},
   "outputs": [
    {
     "data": {
      "text/plain": [
       "Text(0.3, 0.5, 'Area under curve is 0.77')"
      ]
     },
     "execution_count": 46,
     "metadata": {},
     "output_type": "execute_result"
    },
    {
     "data": {
      "image/png": "[encoded data removed]",
      "text/plain": [
       "<Figure size 640x480 with 1 Axes>"
      ]
     },
     "metadata": {},
     "output_type": "display_data"
    }
   ],
   "source": [
    "plt.plot(fpr,tpr, color = 'm')\n",
    "plt.xlabel('Fpr')\n",
    "plt.ylabel('Tpr')\n",
    "plt.title('ROC curve on loan data')\n",
    "plt.grid()\n",
    "plt.text(x=.3,y=.5,s = \"Area under curve is 0.77\")"
   ]
  },
  {
   "cell_type": "code",
   "execution_count": null,
   "id": "4e4c6c00",
   "metadata": {},
   "outputs": [],
   "source": []
  }
 ],
 "metadata": {
  "kernelspec": {
   "display_name": "Python 3 (ipykernel)",
   "language": "python",
   "name": "python3"
  },
  "language_info": {
   "codemirror_mode": {
    "name": "ipython",
    "version": 3
   },
   "file_extension": ".py",
   "mimetype": "text/x-python",
   "name": "python",
   "nbconvert_exporter": "python",
   "pygments_lexer": "ipython3",
   "version": "3.9.13"
  }
 },
 "nbformat": 4,
 "nbformat_minor": 5
}

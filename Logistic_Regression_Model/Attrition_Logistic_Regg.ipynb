{
 "cells": [
  {
   "cell_type": "code",
   "execution_count": 1,
   "id": "d72acea5",
   "metadata": {},
   "outputs": [],
   "source": [
    "import pandas as pd"
   ]
  },
  {
   "cell_type": "code",
   "execution_count": 2,
   "id": "97813588",
   "metadata": {},
   "outputs": [],
   "source": [
    "ar = pd.read_csv('Attrition.csv')"
   ]
  },
  {
   "cell_type": "code",
   "execution_count": 4,
   "id": "4ceca209",
   "metadata": {},
   "outputs": [
    {
     "data": {
      "text/html": [
       "<div>\n",
       "<style scoped>\n",
       "    .dataframe tbody tr th:only-of-type {\n",
       "        vertical-align: middle;\n",
       "    }\n",
       "\n",
       "    .dataframe tbody tr th {\n",
       "        vertical-align: top;\n",
       "    }\n",
       "\n",
       "    .dataframe thead th {\n",
       "        text-align: right;\n",
       "    }\n",
       "</style>\n",
       "<table border=\"1\" class=\"dataframe\">\n",
       "  <thead>\n",
       "    <tr style=\"text-align: right;\">\n",
       "      <th></th>\n",
       "      <th>Age</th>\n",
       "      <th>Attrition</th>\n",
       "      <th>BusinessTravel</th>\n",
       "      <th>DailyRate</th>\n",
       "      <th>Department</th>\n",
       "      <th>DistanceFromHome</th>\n",
       "      <th>Education</th>\n",
       "      <th>EducationField</th>\n",
       "      <th>EmployeeCount</th>\n",
       "      <th>EmployeeNumber</th>\n",
       "      <th>...</th>\n",
       "      <th>RelationshipSatisfaction</th>\n",
       "      <th>StandardHours</th>\n",
       "      <th>StockOptionLevel</th>\n",
       "      <th>TotalWorkingYears</th>\n",
       "      <th>TrainingTimesLastYear</th>\n",
       "      <th>WorkLifeBalance</th>\n",
       "      <th>YearsAtCompany</th>\n",
       "      <th>YearsInCurrentRole</th>\n",
       "      <th>YearsSinceLastPromotion</th>\n",
       "      <th>YearsWithCurrManager</th>\n",
       "    </tr>\n",
       "  </thead>\n",
       "  <tbody>\n",
       "    <tr>\n",
       "      <th>0</th>\n",
       "      <td>41</td>\n",
       "      <td>Yes</td>\n",
       "      <td>Travel_Rarely</td>\n",
       "      <td>1102</td>\n",
       "      <td>Sales</td>\n",
       "      <td>1</td>\n",
       "      <td>2</td>\n",
       "      <td>Life Sciences</td>\n",
       "      <td>1</td>\n",
       "      <td>1</td>\n",
       "      <td>...</td>\n",
       "      <td>1</td>\n",
       "      <td>80</td>\n",
       "      <td>0</td>\n",
       "      <td>8</td>\n",
       "      <td>0</td>\n",
       "      <td>1</td>\n",
       "      <td>6</td>\n",
       "      <td>4</td>\n",
       "      <td>0</td>\n",
       "      <td>5</td>\n",
       "    </tr>\n",
       "    <tr>\n",
       "      <th>1</th>\n",
       "      <td>49</td>\n",
       "      <td>No</td>\n",
       "      <td>Travel_Frequently</td>\n",
       "      <td>279</td>\n",
       "      <td>Research &amp; Development</td>\n",
       "      <td>8</td>\n",
       "      <td>1</td>\n",
       "      <td>Life Sciences</td>\n",
       "      <td>1</td>\n",
       "      <td>2</td>\n",
       "      <td>...</td>\n",
       "      <td>4</td>\n",
       "      <td>80</td>\n",
       "      <td>1</td>\n",
       "      <td>10</td>\n",
       "      <td>3</td>\n",
       "      <td>3</td>\n",
       "      <td>10</td>\n",
       "      <td>7</td>\n",
       "      <td>1</td>\n",
       "      <td>7</td>\n",
       "    </tr>\n",
       "    <tr>\n",
       "      <th>2</th>\n",
       "      <td>37</td>\n",
       "      <td>Yes</td>\n",
       "      <td>Travel_Rarely</td>\n",
       "      <td>1373</td>\n",
       "      <td>Research &amp; Development</td>\n",
       "      <td>2</td>\n",
       "      <td>2</td>\n",
       "      <td>Other</td>\n",
       "      <td>1</td>\n",
       "      <td>4</td>\n",
       "      <td>...</td>\n",
       "      <td>2</td>\n",
       "      <td>80</td>\n",
       "      <td>0</td>\n",
       "      <td>7</td>\n",
       "      <td>3</td>\n",
       "      <td>3</td>\n",
       "      <td>0</td>\n",
       "      <td>0</td>\n",
       "      <td>0</td>\n",
       "      <td>0</td>\n",
       "    </tr>\n",
       "    <tr>\n",
       "      <th>3</th>\n",
       "      <td>33</td>\n",
       "      <td>No</td>\n",
       "      <td>Travel_Frequently</td>\n",
       "      <td>1392</td>\n",
       "      <td>Research &amp; Development</td>\n",
       "      <td>3</td>\n",
       "      <td>4</td>\n",
       "      <td>Life Sciences</td>\n",
       "      <td>1</td>\n",
       "      <td>5</td>\n",
       "      <td>...</td>\n",
       "      <td>3</td>\n",
       "      <td>80</td>\n",
       "      <td>0</td>\n",
       "      <td>8</td>\n",
       "      <td>3</td>\n",
       "      <td>3</td>\n",
       "      <td>8</td>\n",
       "      <td>7</td>\n",
       "      <td>3</td>\n",
       "      <td>0</td>\n",
       "    </tr>\n",
       "    <tr>\n",
       "      <th>4</th>\n",
       "      <td>27</td>\n",
       "      <td>No</td>\n",
       "      <td>Travel_Rarely</td>\n",
       "      <td>591</td>\n",
       "      <td>Research &amp; Development</td>\n",
       "      <td>2</td>\n",
       "      <td>1</td>\n",
       "      <td>Medical</td>\n",
       "      <td>1</td>\n",
       "      <td>7</td>\n",
       "      <td>...</td>\n",
       "      <td>4</td>\n",
       "      <td>80</td>\n",
       "      <td>1</td>\n",
       "      <td>6</td>\n",
       "      <td>3</td>\n",
       "      <td>3</td>\n",
       "      <td>2</td>\n",
       "      <td>2</td>\n",
       "      <td>2</td>\n",
       "      <td>2</td>\n",
       "    </tr>\n",
       "  </tbody>\n",
       "</table>\n",
       "<p>5 rows × 35 columns</p>\n",
       "</div>"
      ],
      "text/plain": [
       "   Age Attrition     BusinessTravel  DailyRate              Department  \\\n",
       "0   41       Yes      Travel_Rarely       1102                   Sales   \n",
       "1   49        No  Travel_Frequently        279  Research & Development   \n",
       "2   37       Yes      Travel_Rarely       1373  Research & Development   \n",
       "3   33        No  Travel_Frequently       1392  Research & Development   \n",
       "4   27        No      Travel_Rarely        591  Research & Development   \n",
       "\n",
       "   DistanceFromHome  Education EducationField  EmployeeCount  EmployeeNumber  \\\n",
       "0                 1          2  Life Sciences              1               1   \n",
       "1                 8          1  Life Sciences              1               2   \n",
       "2                 2          2          Other              1               4   \n",
       "3                 3          4  Life Sciences              1               5   \n",
       "4                 2          1        Medical              1               7   \n",
       "\n",
       "   ...  RelationshipSatisfaction StandardHours  StockOptionLevel  \\\n",
       "0  ...                         1            80                 0   \n",
       "1  ...                         4            80                 1   \n",
       "2  ...                         2            80                 0   \n",
       "3  ...                         3            80                 0   \n",
       "4  ...                         4            80                 1   \n",
       "\n",
       "   TotalWorkingYears  TrainingTimesLastYear WorkLifeBalance  YearsAtCompany  \\\n",
       "0                  8                      0               1               6   \n",
       "1                 10                      3               3              10   \n",
       "2                  7                      3               3               0   \n",
       "3                  8                      3               3               8   \n",
       "4                  6                      3               3               2   \n",
       "\n",
       "  YearsInCurrentRole  YearsSinceLastPromotion  YearsWithCurrManager  \n",
       "0                  4                        0                     5  \n",
       "1                  7                        1                     7  \n",
       "2                  0                        0                     0  \n",
       "3                  7                        3                     0  \n",
       "4                  2                        2                     2  \n",
       "\n",
       "[5 rows x 35 columns]"
      ]
     },
     "execution_count": 4,
     "metadata": {},
     "output_type": "execute_result"
    }
   ],
   "source": [
    "ar.head()"
   ]
  },
  {
   "cell_type": "markdown",
   "id": "1a67e74f",
   "metadata": {},
   "source": [
    "### Handling Null"
   ]
  },
  {
   "cell_type": "code",
   "execution_count": 5,
   "id": "b43cc53d",
   "metadata": {},
   "outputs": [
    {
     "data": {
      "text/plain": [
       "Age                         0\n",
       "Attrition                   0\n",
       "BusinessTravel              0\n",
       "DailyRate                   0\n",
       "Department                  0\n",
       "DistanceFromHome            0\n",
       "Education                   0\n",
       "EducationField              0\n",
       "EmployeeCount               0\n",
       "EmployeeNumber              0\n",
       "EnvironmentSatisfaction     0\n",
       "Gender                      0\n",
       "HourlyRate                  0\n",
       "JobInvolvement              0\n",
       "JobLevel                    0\n",
       "JobRole                     0\n",
       "JobSatisfaction             0\n",
       "MaritalStatus               0\n",
       "MonthlyIncome               0\n",
       "MonthlyRate                 0\n",
       "NumCompaniesWorked          0\n",
       "Over18                      0\n",
       "OverTime                    0\n",
       "PercentSalaryHike           0\n",
       "PerformanceRating           0\n",
       "RelationshipSatisfaction    0\n",
       "StandardHours               0\n",
       "StockOptionLevel            0\n",
       "TotalWorkingYears           0\n",
       "TrainingTimesLastYear       0\n",
       "WorkLifeBalance             0\n",
       "YearsAtCompany              0\n",
       "YearsInCurrentRole          0\n",
       "YearsSinceLastPromotion     0\n",
       "YearsWithCurrManager        0\n",
       "dtype: int64"
      ]
     },
     "execution_count": 5,
     "metadata": {},
     "output_type": "execute_result"
    }
   ],
   "source": [
    "ar.isnull().sum()"
   ]
  },
  {
   "cell_type": "code",
   "execution_count": 7,
   "id": "f2cd66c9",
   "metadata": {},
   "outputs": [
    {
     "data": {
      "text/plain": [
       "Index(['Attrition', 'BusinessTravel', 'Department', 'EducationField', 'Gender',\n",
       "       'JobRole', 'MaritalStatus', 'Over18', 'OverTime'],\n",
       "      dtype='object')"
      ]
     },
     "execution_count": 7,
     "metadata": {},
     "output_type": "execute_result"
    }
   ],
   "source": [
    "ar.select_dtypes(include='object').columns"
   ]
  },
  {
   "cell_type": "markdown",
   "id": "10b46724",
   "metadata": {},
   "source": [
    "### Label Encoder"
   ]
  },
  {
   "cell_type": "code",
   "execution_count": 8,
   "id": "92705618",
   "metadata": {},
   "outputs": [],
   "source": [
    "from sklearn.preprocessing import LabelEncoder\n",
    "le = LabelEncoder()"
   ]
  },
  {
   "cell_type": "code",
   "execution_count": 9,
   "id": "27c7f676",
   "metadata": {},
   "outputs": [
    {
     "data": {
      "text/plain": [
       "Travel_Rarely        1043\n",
       "Travel_Frequently     277\n",
       "Non-Travel            150\n",
       "Name: BusinessTravel, dtype: int64"
      ]
     },
     "execution_count": 9,
     "metadata": {},
     "output_type": "execute_result"
    }
   ],
   "source": [
    "ar.BusinessTravel.value_counts()"
   ]
  },
  {
   "cell_type": "code",
   "execution_count": 10,
   "id": "e2f1e58e",
   "metadata": {},
   "outputs": [],
   "source": [
    "ar.BusinessTravel.replace({'Non-Travel':0,'Travel_Rarely':1,'Travel_Frequently':2},inplace=True)"
   ]
  },
  {
   "cell_type": "code",
   "execution_count": 12,
   "id": "5a9a65a7",
   "metadata": {},
   "outputs": [
    {
     "data": {
      "text/plain": [
       "Index(['Attrition', 'Department', 'EducationField', 'Gender', 'JobRole',\n",
       "       'MaritalStatus', 'Over18', 'OverTime'],\n",
       "      dtype='object')"
      ]
     },
     "execution_count": 12,
     "metadata": {},
     "output_type": "execute_result"
    }
   ],
   "source": [
    "ar.select_dtypes(include='object').columns"
   ]
  },
  {
   "cell_type": "code",
   "execution_count": 13,
   "id": "0fd37a5c",
   "metadata": {},
   "outputs": [],
   "source": [
    "ar[ar.select_dtypes(include='object').columns] = ar[ar.select_dtypes(include='object').columns].apply(le.fit_transform)"
   ]
  },
  {
   "cell_type": "code",
   "execution_count": 15,
   "id": "49ac89a7",
   "metadata": {},
   "outputs": [
    {
     "data": {
      "text/html": [
       "<div>\n",
       "<style scoped>\n",
       "    .dataframe tbody tr th:only-of-type {\n",
       "        vertical-align: middle;\n",
       "    }\n",
       "\n",
       "    .dataframe tbody tr th {\n",
       "        vertical-align: top;\n",
       "    }\n",
       "\n",
       "    .dataframe thead th {\n",
       "        text-align: right;\n",
       "    }\n",
       "</style>\n",
       "<table border=\"1\" class=\"dataframe\">\n",
       "  <thead>\n",
       "    <tr style=\"text-align: right;\">\n",
       "      <th></th>\n",
       "      <th>Age</th>\n",
       "      <th>Attrition</th>\n",
       "      <th>BusinessTravel</th>\n",
       "      <th>DailyRate</th>\n",
       "      <th>Department</th>\n",
       "      <th>DistanceFromHome</th>\n",
       "      <th>Education</th>\n",
       "      <th>EducationField</th>\n",
       "      <th>EmployeeCount</th>\n",
       "      <th>EmployeeNumber</th>\n",
       "      <th>...</th>\n",
       "      <th>RelationshipSatisfaction</th>\n",
       "      <th>StandardHours</th>\n",
       "      <th>StockOptionLevel</th>\n",
       "      <th>TotalWorkingYears</th>\n",
       "      <th>TrainingTimesLastYear</th>\n",
       "      <th>WorkLifeBalance</th>\n",
       "      <th>YearsAtCompany</th>\n",
       "      <th>YearsInCurrentRole</th>\n",
       "      <th>YearsSinceLastPromotion</th>\n",
       "      <th>YearsWithCurrManager</th>\n",
       "    </tr>\n",
       "  </thead>\n",
       "  <tbody>\n",
       "    <tr>\n",
       "      <th>0</th>\n",
       "      <td>41</td>\n",
       "      <td>1</td>\n",
       "      <td>1</td>\n",
       "      <td>1102</td>\n",
       "      <td>2</td>\n",
       "      <td>1</td>\n",
       "      <td>2</td>\n",
       "      <td>1</td>\n",
       "      <td>1</td>\n",
       "      <td>1</td>\n",
       "      <td>...</td>\n",
       "      <td>1</td>\n",
       "      <td>80</td>\n",
       "      <td>0</td>\n",
       "      <td>8</td>\n",
       "      <td>0</td>\n",
       "      <td>1</td>\n",
       "      <td>6</td>\n",
       "      <td>4</td>\n",
       "      <td>0</td>\n",
       "      <td>5</td>\n",
       "    </tr>\n",
       "    <tr>\n",
       "      <th>1</th>\n",
       "      <td>49</td>\n",
       "      <td>0</td>\n",
       "      <td>2</td>\n",
       "      <td>279</td>\n",
       "      <td>1</td>\n",
       "      <td>8</td>\n",
       "      <td>1</td>\n",
       "      <td>1</td>\n",
       "      <td>1</td>\n",
       "      <td>2</td>\n",
       "      <td>...</td>\n",
       "      <td>4</td>\n",
       "      <td>80</td>\n",
       "      <td>1</td>\n",
       "      <td>10</td>\n",
       "      <td>3</td>\n",
       "      <td>3</td>\n",
       "      <td>10</td>\n",
       "      <td>7</td>\n",
       "      <td>1</td>\n",
       "      <td>7</td>\n",
       "    </tr>\n",
       "    <tr>\n",
       "      <th>2</th>\n",
       "      <td>37</td>\n",
       "      <td>1</td>\n",
       "      <td>1</td>\n",
       "      <td>1373</td>\n",
       "      <td>1</td>\n",
       "      <td>2</td>\n",
       "      <td>2</td>\n",
       "      <td>4</td>\n",
       "      <td>1</td>\n",
       "      <td>4</td>\n",
       "      <td>...</td>\n",
       "      <td>2</td>\n",
       "      <td>80</td>\n",
       "      <td>0</td>\n",
       "      <td>7</td>\n",
       "      <td>3</td>\n",
       "      <td>3</td>\n",
       "      <td>0</td>\n",
       "      <td>0</td>\n",
       "      <td>0</td>\n",
       "      <td>0</td>\n",
       "    </tr>\n",
       "    <tr>\n",
       "      <th>3</th>\n",
       "      <td>33</td>\n",
       "      <td>0</td>\n",
       "      <td>2</td>\n",
       "      <td>1392</td>\n",
       "      <td>1</td>\n",
       "      <td>3</td>\n",
       "      <td>4</td>\n",
       "      <td>1</td>\n",
       "      <td>1</td>\n",
       "      <td>5</td>\n",
       "      <td>...</td>\n",
       "      <td>3</td>\n",
       "      <td>80</td>\n",
       "      <td>0</td>\n",
       "      <td>8</td>\n",
       "      <td>3</td>\n",
       "      <td>3</td>\n",
       "      <td>8</td>\n",
       "      <td>7</td>\n",
       "      <td>3</td>\n",
       "      <td>0</td>\n",
       "    </tr>\n",
       "    <tr>\n",
       "      <th>4</th>\n",
       "      <td>27</td>\n",
       "      <td>0</td>\n",
       "      <td>1</td>\n",
       "      <td>591</td>\n",
       "      <td>1</td>\n",
       "      <td>2</td>\n",
       "      <td>1</td>\n",
       "      <td>3</td>\n",
       "      <td>1</td>\n",
       "      <td>7</td>\n",
       "      <td>...</td>\n",
       "      <td>4</td>\n",
       "      <td>80</td>\n",
       "      <td>1</td>\n",
       "      <td>6</td>\n",
       "      <td>3</td>\n",
       "      <td>3</td>\n",
       "      <td>2</td>\n",
       "      <td>2</td>\n",
       "      <td>2</td>\n",
       "      <td>2</td>\n",
       "    </tr>\n",
       "  </tbody>\n",
       "</table>\n",
       "<p>5 rows × 35 columns</p>\n",
       "</div>"
      ],
      "text/plain": [
       "   Age  Attrition  BusinessTravel  DailyRate  Department  DistanceFromHome  \\\n",
       "0   41          1               1       1102           2                 1   \n",
       "1   49          0               2        279           1                 8   \n",
       "2   37          1               1       1373           1                 2   \n",
       "3   33          0               2       1392           1                 3   \n",
       "4   27          0               1        591           1                 2   \n",
       "\n",
       "   Education  EducationField  EmployeeCount  EmployeeNumber  ...  \\\n",
       "0          2               1              1               1  ...   \n",
       "1          1               1              1               2  ...   \n",
       "2          2               4              1               4  ...   \n",
       "3          4               1              1               5  ...   \n",
       "4          1               3              1               7  ...   \n",
       "\n",
       "   RelationshipSatisfaction  StandardHours  StockOptionLevel  \\\n",
       "0                         1             80                 0   \n",
       "1                         4             80                 1   \n",
       "2                         2             80                 0   \n",
       "3                         3             80                 0   \n",
       "4                         4             80                 1   \n",
       "\n",
       "   TotalWorkingYears  TrainingTimesLastYear  WorkLifeBalance  YearsAtCompany  \\\n",
       "0                  8                      0                1               6   \n",
       "1                 10                      3                3              10   \n",
       "2                  7                      3                3               0   \n",
       "3                  8                      3                3               8   \n",
       "4                  6                      3                3               2   \n",
       "\n",
       "   YearsInCurrentRole  YearsSinceLastPromotion  YearsWithCurrManager  \n",
       "0                   4                        0                     5  \n",
       "1                   7                        1                     7  \n",
       "2                   0                        0                     0  \n",
       "3                   7                        3                     0  \n",
       "4                   2                        2                     2  \n",
       "\n",
       "[5 rows x 35 columns]"
      ]
     },
     "execution_count": 15,
     "metadata": {},
     "output_type": "execute_result"
    }
   ],
   "source": [
    "ar.head()"
   ]
  },
  {
   "cell_type": "code",
   "execution_count": 16,
   "id": "096fb086",
   "metadata": {},
   "outputs": [
    {
     "data": {
      "text/plain": [
       "Index([], dtype='object')"
      ]
     },
     "execution_count": 16,
     "metadata": {},
     "output_type": "execute_result"
    }
   ],
   "source": [
    "ar.select_dtypes(include='object').columns"
   ]
  },
  {
   "cell_type": "markdown",
   "id": "005552a5",
   "metadata": {},
   "source": [
    "### Sampling"
   ]
  },
  {
   "cell_type": "code",
   "execution_count": 21,
   "id": "b6005051",
   "metadata": {},
   "outputs": [],
   "source": [
    "from sklearn.model_selection import train_test_split"
   ]
  },
  {
   "cell_type": "code",
   "execution_count": 22,
   "id": "092c0282",
   "metadata": {},
   "outputs": [],
   "source": [
    "ar_train,ar_test = train_test_split(ar,test_size=0.2)"
   ]
  },
  {
   "cell_type": "code",
   "execution_count": 24,
   "id": "afdc75b1",
   "metadata": {},
   "outputs": [
    {
     "name": "stdout",
     "output_type": "stream",
     "text": [
      "(1470, 35)   (1176, 35)   (294, 35)\n"
     ]
    }
   ],
   "source": [
    "print(ar.shape,\" \",ar_train.shape,\" \",ar_test.shape)"
   ]
  },
  {
   "cell_type": "code",
   "execution_count": 25,
   "id": "e5c7a666",
   "metadata": {},
   "outputs": [],
   "source": [
    "ar_train_x = ar_train.drop(['Attrition'],axis=1)\n",
    "ar_train_y = ar_train.iloc[ : ,1]"
   ]
  },
  {
   "cell_type": "code",
   "execution_count": 27,
   "id": "57bcefdb",
   "metadata": {},
   "outputs": [],
   "source": [
    "ar_test_x = ar_test.drop(['Attrition'],axis=1)\n",
    "ar_test_y = ar_test.iloc[ : ,1]"
   ]
  },
  {
   "cell_type": "markdown",
   "id": "23f1f23e",
   "metadata": {},
   "source": [
    "### Model Building"
   ]
  },
  {
   "cell_type": "code",
   "execution_count": 30,
   "id": "1b15f4d2",
   "metadata": {},
   "outputs": [],
   "source": [
    "from sklearn.linear_model import LogisticRegression\n",
    "logreg = LogisticRegression()"
   ]
  },
  {
   "cell_type": "code",
   "execution_count": 31,
   "id": "c4a33d06",
   "metadata": {},
   "outputs": [
    {
     "name": "stderr",
     "output_type": "stream",
     "text": [
      "C:\\Users\\MR.GODHADE\\anaconda3\\lib\\site-packages\\sklearn\\linear_model\\_logistic.py:814: ConvergenceWarning: lbfgs failed to converge (status=1):\n",
      "STOP: TOTAL NO. of ITERATIONS REACHED LIMIT.\n",
      "\n",
      "Increase the number of iterations (max_iter) or scale the data as shown in:\n",
      "    https://scikit-learn.org/stable/modules/preprocessing.html\n",
      "Please also refer to the documentation for alternative solver options:\n",
      "    https://scikit-learn.org/stable/modules/linear_model.html#logistic-regression\n",
      "  n_iter_i = _check_optimize_result(\n"
     ]
    },
    {
     "data": {
      "text/plain": [
       "LogisticRegression()"
      ]
     },
     "execution_count": 31,
     "metadata": {},
     "output_type": "execute_result"
    }
   ],
   "source": [
    "logreg.fit(ar_train_x,ar_train_y)"
   ]
  },
  {
   "cell_type": "markdown",
   "id": "b2035b8f",
   "metadata": {},
   "source": [
    "### Prediction"
   ]
  },
  {
   "cell_type": "code",
   "execution_count": 36,
   "id": "4c1e0224",
   "metadata": {},
   "outputs": [
    {
     "data": {
      "text/plain": [
       "array([0, 0, 0, 0, 0, 0, 0, 0, 0, 0, 0, 0, 0, 0, 0, 0, 0, 0, 0, 0, 0, 0,\n",
       "       0, 0, 0, 0, 0, 0, 0, 0, 0, 0, 0, 0, 0, 0, 0, 0, 0, 0, 0, 0, 0, 0,\n",
       "       0, 0, 0, 0, 0, 0, 0, 0, 0, 0, 0, 0, 0, 0, 0, 0, 0, 0, 0, 0, 0, 0,\n",
       "       0, 0, 0, 0, 0, 0, 0, 0, 0, 0, 0, 0, 0, 0, 0, 0, 0, 0, 0, 0, 0, 0,\n",
       "       0, 0, 0, 0, 0, 0, 0, 0, 0, 0, 0, 0, 0, 0, 0, 0, 0, 0, 0, 0, 0, 0,\n",
       "       0, 0, 0, 0, 0, 0, 0, 0, 0, 0, 0, 0, 0, 0, 0, 0, 0, 0, 0, 0, 0, 0,\n",
       "       0, 0, 0, 0, 0, 0, 0, 0, 0, 0, 0, 0, 0, 0, 0, 0, 0, 0, 0, 0, 0, 0,\n",
       "       0, 0, 0, 0, 0, 0, 0, 0, 0, 0, 0, 0, 0, 0, 0, 0, 0, 0, 0, 0, 0, 0,\n",
       "       0, 0, 0, 0, 0, 0, 0, 0, 0, 0, 0, 0, 0, 0, 0, 0, 0, 0, 0, 0, 0, 0,\n",
       "       0, 0, 0, 0, 0, 0, 0, 0, 0, 0, 0, 0, 0, 0, 0, 0, 0, 0, 0, 0, 0, 0,\n",
       "       0, 0, 0, 0, 0, 0, 0, 0, 0, 0, 0, 0, 0, 0, 0, 0, 0, 0, 0, 0, 0, 0,\n",
       "       0, 0, 0, 0, 0, 0, 0, 0, 0, 0, 0, 0, 0, 0, 0, 0, 0, 0, 0, 0, 0, 0,\n",
       "       0, 0, 0, 0, 0, 0, 0, 0, 0, 0, 0, 0, 0, 0, 0, 0, 0, 0, 0, 0, 0, 0,\n",
       "       0, 0, 0, 0, 0, 0, 0, 0])"
      ]
     },
     "execution_count": 36,
     "metadata": {},
     "output_type": "execute_result"
    }
   ],
   "source": [
    "pred = logreg.predict(ar_test_x)\n",
    "pred"
   ]
  },
  {
   "cell_type": "markdown",
   "id": "1cb2778a",
   "metadata": {},
   "source": [
    "### Confusion Matrix"
   ]
  },
  {
   "cell_type": "code",
   "execution_count": 34,
   "id": "2b08279b",
   "metadata": {},
   "outputs": [],
   "source": [
    "from sklearn.metrics import confusion_matrix"
   ]
  },
  {
   "cell_type": "code",
   "execution_count": 38,
   "id": "85866029",
   "metadata": {},
   "outputs": [
    {
     "data": {
      "text/plain": [
       "array([[247,   0],\n",
       "       [ 47,   0]], dtype=int64)"
      ]
     },
     "execution_count": 38,
     "metadata": {},
     "output_type": "execute_result"
    }
   ],
   "source": [
    "tab = confusion_matrix(ar_test_y,pred)\n",
    "tab"
   ]
  },
  {
   "cell_type": "markdown",
   "id": "5f7e8f38",
   "metadata": {},
   "source": [
    "### Accuracy"
   ]
  },
  {
   "cell_type": "code",
   "execution_count": 40,
   "id": "085c0f0e",
   "metadata": {},
   "outputs": [
    {
     "data": {
      "text/plain": [
       "84.01360544217687"
      ]
     },
     "execution_count": 40,
     "metadata": {},
     "output_type": "execute_result"
    }
   ],
   "source": [
    "Accuracy  = tab.diagonal().sum()*100/tab.sum()\n",
    "Accuracy"
   ]
  },
  {
   "cell_type": "markdown",
   "id": "1b5da8e4",
   "metadata": {},
   "source": [
    "### Recall Score"
   ]
  },
  {
   "cell_type": "code",
   "execution_count": 41,
   "id": "83c0ac8c",
   "metadata": {},
   "outputs": [],
   "source": [
    "from sklearn.metrics import recall_score"
   ]
  },
  {
   "cell_type": "code",
   "execution_count": 42,
   "id": "5ff04907",
   "metadata": {},
   "outputs": [
    {
     "data": {
      "text/plain": [
       "0.0"
      ]
     },
     "execution_count": 42,
     "metadata": {},
     "output_type": "execute_result"
    }
   ],
   "source": [
    "recall_score(ar_test_y,pred)*100"
   ]
  },
  {
   "cell_type": "markdown",
   "id": "89dde856",
   "metadata": {},
   "source": [
    "### Precision"
   ]
  },
  {
   "cell_type": "code",
   "execution_count": 43,
   "id": "b34cf5a4",
   "metadata": {},
   "outputs": [],
   "source": [
    "from sklearn.metrics import precision_score"
   ]
  },
  {
   "cell_type": "code",
   "execution_count": 44,
   "id": "64f20a9c",
   "metadata": {},
   "outputs": [
    {
     "name": "stderr",
     "output_type": "stream",
     "text": [
      "C:\\Users\\MR.GODHADE\\anaconda3\\lib\\site-packages\\sklearn\\metrics\\_classification.py:1318: UndefinedMetricWarning: Precision is ill-defined and being set to 0.0 due to no predicted samples. Use `zero_division` parameter to control this behavior.\n",
      "  _warn_prf(average, modifier, msg_start, len(result))\n"
     ]
    },
    {
     "data": {
      "text/plain": [
       "0.0"
      ]
     },
     "execution_count": 44,
     "metadata": {},
     "output_type": "execute_result"
    }
   ],
   "source": [
    "precision_score(ar_test_y,pred)*100"
   ]
  },
  {
   "cell_type": "markdown",
   "id": "a89e4ac7",
   "metadata": {},
   "source": [
    "### F1 SCore"
   ]
  },
  {
   "cell_type": "code",
   "execution_count": 45,
   "id": "659069af",
   "metadata": {},
   "outputs": [],
   "source": [
    "from sklearn.metrics import f1_score"
   ]
  },
  {
   "cell_type": "code",
   "execution_count": 47,
   "id": "3253ebea",
   "metadata": {},
   "outputs": [
    {
     "data": {
      "text/plain": [
       "0.0"
      ]
     },
     "execution_count": 47,
     "metadata": {},
     "output_type": "execute_result"
    }
   ],
   "source": [
    "f1_score(ar_test_y,pred)*100"
   ]
  },
  {
   "cell_type": "markdown",
   "id": "c720822d",
   "metadata": {},
   "source": [
    "### AuRoc"
   ]
  },
  {
   "cell_type": "code",
   "execution_count": 48,
   "id": "d616abe4",
   "metadata": {},
   "outputs": [],
   "source": [
    "from sklearn.metrics import roc_auc_score,roc_curve"
   ]
  },
  {
   "cell_type": "code",
   "execution_count": 49,
   "id": "7937db61",
   "metadata": {},
   "outputs": [
    {
     "data": {
      "text/plain": [
       "array([[0.731713  , 0.268287  ],\n",
       "       [0.954472  , 0.045528  ],\n",
       "       [0.69314467, 0.30685533],\n",
       "       [0.93805809, 0.06194191],\n",
       "       [0.9044213 , 0.0955787 ],\n",
       "       [0.87604492, 0.12395508],\n",
       "       [0.8742067 , 0.1257933 ],\n",
       "       [0.91541772, 0.08458228],\n",
       "       [0.91420874, 0.08579126],\n",
       "       [0.92609201, 0.07390799],\n",
       "       [0.94218982, 0.05781018],\n",
       "       [0.93544191, 0.06455809],\n",
       "       [0.87761413, 0.12238587],\n",
       "       [0.97215223, 0.02784777],\n",
       "       [0.89665582, 0.10334418],\n",
       "       [0.58926908, 0.41073092],\n",
       "       [0.69713091, 0.30286909],\n",
       "       [0.91011164, 0.08988836],\n",
       "       [0.88035639, 0.11964361],\n",
       "       [0.79559796, 0.20440204],\n",
       "       [0.92036459, 0.07963541],\n",
       "       [0.92747117, 0.07252883],\n",
       "       [0.85438253, 0.14561747],\n",
       "       [0.8003931 , 0.1996069 ],\n",
       "       [0.88975081, 0.11024919],\n",
       "       [0.81537862, 0.18462138],\n",
       "       [0.70892626, 0.29107374],\n",
       "       [0.78621552, 0.21378448],\n",
       "       [0.84331726, 0.15668274],\n",
       "       [0.84927894, 0.15072106],\n",
       "       [0.89725523, 0.10274477],\n",
       "       [0.93830954, 0.06169046],\n",
       "       [0.8255039 , 0.1744961 ],\n",
       "       [0.793908  , 0.206092  ],\n",
       "       [0.9095585 , 0.0904415 ],\n",
       "       [0.93752133, 0.06247867],\n",
       "       [0.80699091, 0.19300909],\n",
       "       [0.82563805, 0.17436195],\n",
       "       [0.8427257 , 0.1572743 ],\n",
       "       [0.89504065, 0.10495935],\n",
       "       [0.83811851, 0.16188149],\n",
       "       [0.91829518, 0.08170482],\n",
       "       [0.77563184, 0.22436816],\n",
       "       [0.69815537, 0.30184463],\n",
       "       [0.91228613, 0.08771387],\n",
       "       [0.63702472, 0.36297528],\n",
       "       [0.7027346 , 0.2972654 ],\n",
       "       [0.77191967, 0.22808033],\n",
       "       [0.7811255 , 0.2188745 ],\n",
       "       [0.89124639, 0.10875361],\n",
       "       [0.92016069, 0.07983931],\n",
       "       [0.78346912, 0.21653088],\n",
       "       [0.88240811, 0.11759189],\n",
       "       [0.88758771, 0.11241229],\n",
       "       [0.75642196, 0.24357804],\n",
       "       [0.89191455, 0.10808545],\n",
       "       [0.8719596 , 0.1280404 ],\n",
       "       [0.84242927, 0.15757073],\n",
       "       [0.85411026, 0.14588974],\n",
       "       [0.83858336, 0.16141664],\n",
       "       [0.88037422, 0.11962578],\n",
       "       [0.95412168, 0.04587832],\n",
       "       [0.87675924, 0.12324076],\n",
       "       [0.87084702, 0.12915298],\n",
       "       [0.87012806, 0.12987194],\n",
       "       [0.86098969, 0.13901031],\n",
       "       [0.93693996, 0.06306004],\n",
       "       [0.83704842, 0.16295158],\n",
       "       [0.69456824, 0.30543176],\n",
       "       [0.8706902 , 0.1293098 ],\n",
       "       [0.9746353 , 0.0253647 ],\n",
       "       [0.82144078, 0.17855922],\n",
       "       [0.7906403 , 0.2093597 ],\n",
       "       [0.55334528, 0.44665472],\n",
       "       [0.84191659, 0.15808341],\n",
       "       [0.84336357, 0.15663643],\n",
       "       [0.75170328, 0.24829672],\n",
       "       [0.78039801, 0.21960199],\n",
       "       [0.80011379, 0.19988621],\n",
       "       [0.86426362, 0.13573638],\n",
       "       [0.71790227, 0.28209773],\n",
       "       [0.74801845, 0.25198155],\n",
       "       [0.81061832, 0.18938168],\n",
       "       [0.79003182, 0.20996818],\n",
       "       [0.80241263, 0.19758737],\n",
       "       [0.8846423 , 0.1153577 ],\n",
       "       [0.84388877, 0.15611123],\n",
       "       [0.89103971, 0.10896029],\n",
       "       [0.94065386, 0.05934614],\n",
       "       [0.84001487, 0.15998513],\n",
       "       [0.75534969, 0.24465031],\n",
       "       [0.82835044, 0.17164956],\n",
       "       [0.97482918, 0.02517082],\n",
       "       [0.90106366, 0.09893634],\n",
       "       [0.92093216, 0.07906784],\n",
       "       [0.79476844, 0.20523156],\n",
       "       [0.97752919, 0.02247081],\n",
       "       [0.76450733, 0.23549267],\n",
       "       [0.85741689, 0.14258311],\n",
       "       [0.9065857 , 0.0934143 ],\n",
       "       [0.81843609, 0.18156391],\n",
       "       [0.89485158, 0.10514842],\n",
       "       [0.94100169, 0.05899831],\n",
       "       [0.96112253, 0.03887747],\n",
       "       [0.82455573, 0.17544427],\n",
       "       [0.82884133, 0.17115867],\n",
       "       [0.92067624, 0.07932376],\n",
       "       [0.83926159, 0.16073841],\n",
       "       [0.68077369, 0.31922631],\n",
       "       [0.9656442 , 0.0343558 ],\n",
       "       [0.83618928, 0.16381072],\n",
       "       [0.87023627, 0.12976373],\n",
       "       [0.94554118, 0.05445882],\n",
       "       [0.81917197, 0.18082803],\n",
       "       [0.89470849, 0.10529151],\n",
       "       [0.76267043, 0.23732957],\n",
       "       [0.91345842, 0.08654158],\n",
       "       [0.90930241, 0.09069759],\n",
       "       [0.96057632, 0.03942368],\n",
       "       [0.90900641, 0.09099359],\n",
       "       [0.91071295, 0.08928705],\n",
       "       [0.70719462, 0.29280538],\n",
       "       [0.85834586, 0.14165414],\n",
       "       [0.87834839, 0.12165161],\n",
       "       [0.80049561, 0.19950439],\n",
       "       [0.73911643, 0.26088357],\n",
       "       [0.82126933, 0.17873067],\n",
       "       [0.83047281, 0.16952719],\n",
       "       [0.87884324, 0.12115676],\n",
       "       [0.52753844, 0.47246156],\n",
       "       [0.95440856, 0.04559144],\n",
       "       [0.67846312, 0.32153688],\n",
       "       [0.75076762, 0.24923238],\n",
       "       [0.97309292, 0.02690708],\n",
       "       [0.87143691, 0.12856309],\n",
       "       [0.95260558, 0.04739442],\n",
       "       [0.81455203, 0.18544797],\n",
       "       [0.7919268 , 0.2080732 ],\n",
       "       [0.75530557, 0.24469443],\n",
       "       [0.9285205 , 0.0714795 ],\n",
       "       [0.9271689 , 0.0728311 ],\n",
       "       [0.8164185 , 0.1835815 ],\n",
       "       [0.95663779, 0.04336221],\n",
       "       [0.79782762, 0.20217238],\n",
       "       [0.83387332, 0.16612668],\n",
       "       [0.8625655 , 0.1374345 ],\n",
       "       [0.68976051, 0.31023949],\n",
       "       [0.87160092, 0.12839908],\n",
       "       [0.95082222, 0.04917778],\n",
       "       [0.71849838, 0.28150162],\n",
       "       [0.77481269, 0.22518731],\n",
       "       [0.89015284, 0.10984716],\n",
       "       [0.95055169, 0.04944831],\n",
       "       [0.83167436, 0.16832564],\n",
       "       [0.91622091, 0.08377909],\n",
       "       [0.80706115, 0.19293885],\n",
       "       [0.81190429, 0.18809571],\n",
       "       [0.7568513 , 0.2431487 ],\n",
       "       [0.9530174 , 0.0469826 ],\n",
       "       [0.88350541, 0.11649459],\n",
       "       [0.95197564, 0.04802436],\n",
       "       [0.94692376, 0.05307624],\n",
       "       [0.95409347, 0.04590653],\n",
       "       [0.92438996, 0.07561004],\n",
       "       [0.87964415, 0.12035585],\n",
       "       [0.81412154, 0.18587846],\n",
       "       [0.85602498, 0.14397502],\n",
       "       [0.7983197 , 0.2016803 ],\n",
       "       [0.88952377, 0.11047623],\n",
       "       [0.81656408, 0.18343592],\n",
       "       [0.89278823, 0.10721177],\n",
       "       [0.78826031, 0.21173969],\n",
       "       [0.94962897, 0.05037103],\n",
       "       [0.81168755, 0.18831245],\n",
       "       [0.97027898, 0.02972102],\n",
       "       [0.87467378, 0.12532622],\n",
       "       [0.86879404, 0.13120596],\n",
       "       [0.8354163 , 0.1645837 ],\n",
       "       [0.78813777, 0.21186223],\n",
       "       [0.91734658, 0.08265342],\n",
       "       [0.86945251, 0.13054749],\n",
       "       [0.95534494, 0.04465506],\n",
       "       [0.78327693, 0.21672307],\n",
       "       [0.83848852, 0.16151148],\n",
       "       [0.92304803, 0.07695197],\n",
       "       [0.80081136, 0.19918864],\n",
       "       [0.78213575, 0.21786425],\n",
       "       [0.79590328, 0.20409672],\n",
       "       [0.95123819, 0.04876181],\n",
       "       [0.83532273, 0.16467727],\n",
       "       [0.8582344 , 0.1417656 ],\n",
       "       [0.79127437, 0.20872563],\n",
       "       [0.779903  , 0.220097  ],\n",
       "       [0.95881233, 0.04118767],\n",
       "       [0.78702151, 0.21297849],\n",
       "       [0.81723584, 0.18276416],\n",
       "       [0.98012728, 0.01987272],\n",
       "       [0.7535195 , 0.2464805 ],\n",
       "       [0.82856293, 0.17143707],\n",
       "       [0.90647126, 0.09352874],\n",
       "       [0.9150328 , 0.0849672 ],\n",
       "       [0.83543078, 0.16456922],\n",
       "       [0.91681798, 0.08318202],\n",
       "       [0.78991297, 0.21008703],\n",
       "       [0.91945274, 0.08054726],\n",
       "       [0.93999096, 0.06000904],\n",
       "       [0.80599344, 0.19400656],\n",
       "       [0.89283445, 0.10716555],\n",
       "       [0.65254747, 0.34745253],\n",
       "       [0.93385776, 0.06614224],\n",
       "       [0.85960124, 0.14039876],\n",
       "       [0.77360933, 0.22639067],\n",
       "       [0.97108809, 0.02891191],\n",
       "       [0.92221691, 0.07778309],\n",
       "       [0.92501319, 0.07498681],\n",
       "       [0.86173878, 0.13826122],\n",
       "       [0.72214865, 0.27785135],\n",
       "       [0.96771998, 0.03228002],\n",
       "       [0.76414823, 0.23585177],\n",
       "       [0.94731142, 0.05268858],\n",
       "       [0.89315449, 0.10684551],\n",
       "       [0.90474098, 0.09525902],\n",
       "       [0.91554389, 0.08445611],\n",
       "       [0.87369762, 0.12630238],\n",
       "       [0.97193826, 0.02806174],\n",
       "       [0.7214802 , 0.2785198 ],\n",
       "       [0.96810159, 0.03189841],\n",
       "       [0.96402452, 0.03597548],\n",
       "       [0.94478927, 0.05521073],\n",
       "       [0.92289498, 0.07710502],\n",
       "       [0.76397962, 0.23602038],\n",
       "       [0.93517399, 0.06482601],\n",
       "       [0.85595175, 0.14404825],\n",
       "       [0.91443622, 0.08556378],\n",
       "       [0.87742592, 0.12257408],\n",
       "       [0.82406988, 0.17593012],\n",
       "       [0.79513871, 0.20486129],\n",
       "       [0.79139547, 0.20860453],\n",
       "       [0.83904052, 0.16095948],\n",
       "       [0.84029236, 0.15970764],\n",
       "       [0.88249075, 0.11750925],\n",
       "       [0.90500163, 0.09499837],\n",
       "       [0.91910221, 0.08089779],\n",
       "       [0.80248416, 0.19751584],\n",
       "       [0.85995459, 0.14004541],\n",
       "       [0.79870054, 0.20129946],\n",
       "       [0.88988414, 0.11011586],\n",
       "       [0.81786451, 0.18213549],\n",
       "       [0.87497284, 0.12502716],\n",
       "       [0.87965766, 0.12034234],\n",
       "       [0.90875264, 0.09124736],\n",
       "       [0.65060752, 0.34939248],\n",
       "       [0.82888042, 0.17111958],\n",
       "       [0.69469218, 0.30530782],\n",
       "       [0.97459913, 0.02540087],\n",
       "       [0.89118742, 0.10881258],\n",
       "       [0.94632042, 0.05367958],\n",
       "       [0.87331779, 0.12668221],\n",
       "       [0.78979915, 0.21020085],\n",
       "       [0.90012974, 0.09987026],\n",
       "       [0.87071083, 0.12928917],\n",
       "       [0.8470566 , 0.1529434 ],\n",
       "       [0.87778712, 0.12221288],\n",
       "       [0.86284995, 0.13715005],\n",
       "       [0.87216959, 0.12783041],\n",
       "       [0.86393776, 0.13606224],\n",
       "       [0.88542361, 0.11457639],\n",
       "       [0.79117563, 0.20882437],\n",
       "       [0.705987  , 0.294013  ],\n",
       "       [0.93149569, 0.06850431],\n",
       "       [0.92679432, 0.07320568],\n",
       "       [0.92974745, 0.07025255],\n",
       "       [0.86700552, 0.13299448],\n",
       "       [0.95050665, 0.04949335],\n",
       "       [0.85898337, 0.14101663],\n",
       "       [0.89469574, 0.10530426],\n",
       "       [0.88141464, 0.11858536],\n",
       "       [0.96503277, 0.03496723],\n",
       "       [0.89804876, 0.10195124],\n",
       "       [0.88295139, 0.11704861],\n",
       "       [0.86642497, 0.13357503],\n",
       "       [0.81234012, 0.18765988],\n",
       "       [0.95327108, 0.04672892],\n",
       "       [0.91154218, 0.08845782],\n",
       "       [0.92367464, 0.07632536],\n",
       "       [0.87459085, 0.12540915],\n",
       "       [0.96045562, 0.03954438],\n",
       "       [0.84929274, 0.15070726],\n",
       "       [0.77692406, 0.22307594],\n",
       "       [0.79805797, 0.20194203],\n",
       "       [0.86071627, 0.13928373],\n",
       "       [0.87059171, 0.12940829],\n",
       "       [0.89575193, 0.10424807],\n",
       "       [0.80507377, 0.19492623]])"
      ]
     },
     "execution_count": 49,
     "metadata": {},
     "output_type": "execute_result"
    }
   ],
   "source": [
    "pred_prob = logreg.predict_proba(ar_test_x)\n",
    "pred_prob"
   ]
  },
  {
   "cell_type": "code",
   "execution_count": 50,
   "id": "782e9e9a",
   "metadata": {
    "scrolled": true
   },
   "outputs": [
    {
     "data": {
      "text/plain": [
       "0.7307261607373589"
      ]
     },
     "execution_count": 50,
     "metadata": {},
     "output_type": "execute_result"
    }
   ],
   "source": [
    "roc_auc_score(ar_test_y,pred_prob[ : ,1])"
   ]
  },
  {
   "cell_type": "code",
   "execution_count": 53,
   "id": "2580d346",
   "metadata": {},
   "outputs": [],
   "source": [
    "fpr, tpr, thresh = roc_curve(ar_test_y,pred_prob[ : ,1])"
   ]
  },
  {
   "cell_type": "code",
   "execution_count": 54,
   "id": "c2ce6443",
   "metadata": {},
   "outputs": [],
   "source": [
    "import matplotlib.pyplot as plt"
   ]
  },
  {
   "cell_type": "code",
   "execution_count": 55,
   "id": "126bb2d2",
   "metadata": {},
   "outputs": [
    {
     "data": {
      "text/plain": [
       "Text(0.3, 0.5, 'Area under curve is 0.73')"
      ]
     },
     "execution_count": 55,
     "metadata": {},
     "output_type": "execute_result"
    },
    {
     "data": {
      "image/png": "[encoded data removed]",
      "text/plain": [
       "<Figure size 640x480 with 1 Axes>"
      ]
     },
     "metadata": {},
     "output_type": "display_data"
    }
   ],
   "source": [
    "plt.plot(fpr,tpr, color = 'm')\n",
    "plt.xlabel('Fpr')\n",
    "plt.ylabel('Tpr')\n",
    "plt.title('ROC curve on loan data')\n",
    "plt.grid()\n",
    "plt.text(x=.3,y=.5,s = \"Area under curve is 0.73\")"
   ]
  },
  {
   "cell_type": "markdown",
   "id": "854dfbdc",
   "metadata": {},
   "source": [
    "### for class1 model is working good but "
   ]
  },
  {
   "cell_type": "markdown",
   "id": "3a3187e5",
   "metadata": {},
   "source": [
    "### Model is not predicting those are intersted to leave the company"
   ]
  },
  {
   "cell_type": "markdown",
   "id": "ac00399b",
   "metadata": {},
   "source": [
    "### overall model is not good"
   ]
  },
  {
   "cell_type": "code",
   "execution_count": null,
   "id": "a397c035",
   "metadata": {},
   "outputs": [],
   "source": []
  }
 ],
 "metadata": {
  "kernelspec": {
   "display_name": "Python 3 (ipykernel)",
   "language": "python",
   "name": "python3"
  },
  "language_info": {
   "codemirror_mode": {
    "name": "ipython",
    "version": 3
   },
   "file_extension": ".py",
   "mimetype": "text/x-python",
   "name": "python",
   "nbconvert_exporter": "python",
   "pygments_lexer": "ipython3",
   "version": "3.9.13"
  }
 },
 "nbformat": 4,
 "nbformat_minor": 5
}

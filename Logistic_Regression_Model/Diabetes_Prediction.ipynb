{
 "cells": [
  {
   "cell_type": "code",
   "execution_count": 1,
   "id": "74a2036e",
   "metadata": {},
   "outputs": [],
   "source": [
    "import pandas as pd"
   ]
  },
  {
   "cell_type": "code",
   "execution_count": 2,
   "id": "fe9ba8e9",
   "metadata": {},
   "outputs": [],
   "source": [
    "db = pd.read_csv('diabetesLogistic.csv')"
   ]
  },
  {
   "cell_type": "code",
   "execution_count": 3,
   "id": "09a87a3b",
   "metadata": {},
   "outputs": [
    {
     "data": {
      "text/html": [
       "<div>\n",
       "<style scoped>\n",
       "    .dataframe tbody tr th:only-of-type {\n",
       "        vertical-align: middle;\n",
       "    }\n",
       "\n",
       "    .dataframe tbody tr th {\n",
       "        vertical-align: top;\n",
       "    }\n",
       "\n",
       "    .dataframe thead th {\n",
       "        text-align: right;\n",
       "    }\n",
       "</style>\n",
       "<table border=\"1\" class=\"dataframe\">\n",
       "  <thead>\n",
       "    <tr style=\"text-align: right;\">\n",
       "      <th></th>\n",
       "      <th>Pregnancies</th>\n",
       "      <th>Glucose</th>\n",
       "      <th>BloodPressure</th>\n",
       "      <th>SkinThickness</th>\n",
       "      <th>Insulin</th>\n",
       "      <th>BMI</th>\n",
       "      <th>DiabetesPedigreeFunction</th>\n",
       "      <th>Age</th>\n",
       "      <th>Outcome</th>\n",
       "    </tr>\n",
       "  </thead>\n",
       "  <tbody>\n",
       "    <tr>\n",
       "      <th>0</th>\n",
       "      <td>6</td>\n",
       "      <td>148</td>\n",
       "      <td>72</td>\n",
       "      <td>35</td>\n",
       "      <td>0</td>\n",
       "      <td>33.6</td>\n",
       "      <td>0.627</td>\n",
       "      <td>50</td>\n",
       "      <td>1</td>\n",
       "    </tr>\n",
       "    <tr>\n",
       "      <th>1</th>\n",
       "      <td>1</td>\n",
       "      <td>85</td>\n",
       "      <td>66</td>\n",
       "      <td>29</td>\n",
       "      <td>0</td>\n",
       "      <td>26.6</td>\n",
       "      <td>0.351</td>\n",
       "      <td>31</td>\n",
       "      <td>0</td>\n",
       "    </tr>\n",
       "    <tr>\n",
       "      <th>2</th>\n",
       "      <td>8</td>\n",
       "      <td>183</td>\n",
       "      <td>64</td>\n",
       "      <td>0</td>\n",
       "      <td>0</td>\n",
       "      <td>23.3</td>\n",
       "      <td>0.672</td>\n",
       "      <td>32</td>\n",
       "      <td>1</td>\n",
       "    </tr>\n",
       "    <tr>\n",
       "      <th>3</th>\n",
       "      <td>1</td>\n",
       "      <td>89</td>\n",
       "      <td>66</td>\n",
       "      <td>23</td>\n",
       "      <td>94</td>\n",
       "      <td>28.1</td>\n",
       "      <td>0.167</td>\n",
       "      <td>21</td>\n",
       "      <td>0</td>\n",
       "    </tr>\n",
       "    <tr>\n",
       "      <th>4</th>\n",
       "      <td>0</td>\n",
       "      <td>137</td>\n",
       "      <td>40</td>\n",
       "      <td>35</td>\n",
       "      <td>168</td>\n",
       "      <td>43.1</td>\n",
       "      <td>2.288</td>\n",
       "      <td>33</td>\n",
       "      <td>1</td>\n",
       "    </tr>\n",
       "  </tbody>\n",
       "</table>\n",
       "</div>"
      ],
      "text/plain": [
       "   Pregnancies  Glucose  BloodPressure  SkinThickness  Insulin   BMI  \\\n",
       "0            6      148             72             35        0  33.6   \n",
       "1            1       85             66             29        0  26.6   \n",
       "2            8      183             64              0        0  23.3   \n",
       "3            1       89             66             23       94  28.1   \n",
       "4            0      137             40             35      168  43.1   \n",
       "\n",
       "   DiabetesPedigreeFunction  Age  Outcome  \n",
       "0                     0.627   50        1  \n",
       "1                     0.351   31        0  \n",
       "2                     0.672   32        1  \n",
       "3                     0.167   21        0  \n",
       "4                     2.288   33        1  "
      ]
     },
     "execution_count": 3,
     "metadata": {},
     "output_type": "execute_result"
    }
   ],
   "source": [
    "db.head()"
   ]
  },
  {
   "cell_type": "markdown",
   "id": "0919a339",
   "metadata": {},
   "source": [
    "### Handling Null"
   ]
  },
  {
   "cell_type": "code",
   "execution_count": 4,
   "id": "eabe7c2c",
   "metadata": {},
   "outputs": [
    {
     "data": {
      "text/plain": [
       "Series([], dtype: int64)"
      ]
     },
     "execution_count": 4,
     "metadata": {},
     "output_type": "execute_result"
    }
   ],
   "source": [
    "db.isnull().sum()[db.isnull().sum()>0]"
   ]
  },
  {
   "cell_type": "code",
   "execution_count": 5,
   "id": "20b9959b",
   "metadata": {},
   "outputs": [
    {
     "name": "stdout",
     "output_type": "stream",
     "text": [
      "<class 'pandas.core.frame.DataFrame'>\n",
      "RangeIndex: 768 entries, 0 to 767\n",
      "Data columns (total 9 columns):\n",
      " #   Column                    Non-Null Count  Dtype  \n",
      "---  ------                    --------------  -----  \n",
      " 0   Pregnancies               768 non-null    int64  \n",
      " 1   Glucose                   768 non-null    int64  \n",
      " 2   BloodPressure             768 non-null    int64  \n",
      " 3   SkinThickness             768 non-null    int64  \n",
      " 4   Insulin                   768 non-null    int64  \n",
      " 5   BMI                       768 non-null    float64\n",
      " 6   DiabetesPedigreeFunction  768 non-null    float64\n",
      " 7   Age                       768 non-null    int64  \n",
      " 8   Outcome                   768 non-null    int64  \n",
      "dtypes: float64(2), int64(7)\n",
      "memory usage: 54.1 KB\n"
     ]
    }
   ],
   "source": [
    "db.info()"
   ]
  },
  {
   "cell_type": "markdown",
   "id": "842d0f33",
   "metadata": {},
   "source": [
    "### Sampling"
   ]
  },
  {
   "cell_type": "code",
   "execution_count": 6,
   "id": "ab292661",
   "metadata": {},
   "outputs": [],
   "source": [
    "from sklearn.model_selection import train_test_split"
   ]
  },
  {
   "cell_type": "code",
   "execution_count": 7,
   "id": "6a125a61",
   "metadata": {},
   "outputs": [],
   "source": [
    "train_db,test_db = train_test_split(db,test_size=0.2)"
   ]
  },
  {
   "cell_type": "code",
   "execution_count": 8,
   "id": "0e06b122",
   "metadata": {},
   "outputs": [
    {
     "name": "stdout",
     "output_type": "stream",
     "text": [
      "(768, 9)   (614, 9)   (154, 9)\n"
     ]
    }
   ],
   "source": [
    "print(db.shape,\" \",train_db.shape, \" \",test_db.shape)"
   ]
  },
  {
   "cell_type": "code",
   "execution_count": 9,
   "id": "148dba41",
   "metadata": {},
   "outputs": [],
   "source": [
    "train_db_x = train_db.iloc[ : , :-1]\n",
    "train_db_y = train_db.iloc[ : , -1]"
   ]
  },
  {
   "cell_type": "code",
   "execution_count": 10,
   "id": "87d770d7",
   "metadata": {},
   "outputs": [],
   "source": [
    "test_db_x = test_db.iloc[ : , :-1]\n",
    "test_db_y = test_db.iloc[ : , -1]"
   ]
  },
  {
   "cell_type": "markdown",
   "id": "b9f7d290",
   "metadata": {},
   "source": [
    "### Model Building"
   ]
  },
  {
   "cell_type": "code",
   "execution_count": 11,
   "id": "5bc6b4b9",
   "metadata": {},
   "outputs": [],
   "source": [
    "from sklearn.linear_model import LogisticRegression\n",
    "logreg = LogisticRegression()"
   ]
  },
  {
   "cell_type": "code",
   "execution_count": 12,
   "id": "84dc585d",
   "metadata": {},
   "outputs": [
    {
     "name": "stderr",
     "output_type": "stream",
     "text": [
      "C:\\Users\\MR.GODHADE\\anaconda3\\lib\\site-packages\\sklearn\\linear_model\\_logistic.py:814: ConvergenceWarning: lbfgs failed to converge (status=1):\n",
      "STOP: TOTAL NO. of ITERATIONS REACHED LIMIT.\n",
      "\n",
      "Increase the number of iterations (max_iter) or scale the data as shown in:\n",
      "    https://scikit-learn.org/stable/modules/preprocessing.html\n",
      "Please also refer to the documentation for alternative solver options:\n",
      "    https://scikit-learn.org/stable/modules/linear_model.html#logistic-regression\n",
      "  n_iter_i = _check_optimize_result(\n"
     ]
    },
    {
     "data": {
      "text/plain": [
       "LogisticRegression()"
      ]
     },
     "execution_count": 12,
     "metadata": {},
     "output_type": "execute_result"
    }
   ],
   "source": [
    "logreg.fit(train_db_x,train_db_y)"
   ]
  },
  {
   "cell_type": "markdown",
   "id": "1b426ed8",
   "metadata": {},
   "source": [
    "### Prediction"
   ]
  },
  {
   "cell_type": "code",
   "execution_count": 13,
   "id": "ad686057",
   "metadata": {},
   "outputs": [
    {
     "data": {
      "text/plain": [
       "array([0, 0, 1, 0, 1, 1, 1, 0, 0, 0, 0, 0, 0, 0, 0, 0, 0, 1, 1, 0, 0, 0,\n",
       "       1, 0, 0, 1, 0, 1, 0, 1, 0, 0, 0, 1, 0, 0, 0, 0, 0, 0, 0, 0, 0, 0,\n",
       "       0, 1, 0, 0, 0, 0, 1, 0, 0, 0, 1, 1, 0, 1, 0, 0, 0, 1, 0, 1, 1, 1,\n",
       "       0, 0, 0, 0, 0, 0, 0, 1, 1, 1, 0, 0, 0, 0, 0, 0, 0, 0, 1, 0, 0, 0,\n",
       "       0, 0, 0, 0, 0, 1, 1, 1, 0, 1, 0, 1, 1, 0, 1, 0, 0, 0, 1, 0, 1, 1,\n",
       "       1, 1, 0, 0, 1, 0, 1, 0, 0, 1, 0, 1, 1, 1, 0, 1, 0, 1, 0, 0, 1, 0,\n",
       "       0, 0, 0, 0, 0, 0, 0, 0, 0, 0, 0, 0, 1, 0, 0, 0, 0, 0, 0, 0, 0, 0],\n",
       "      dtype=int64)"
      ]
     },
     "execution_count": 13,
     "metadata": {},
     "output_type": "execute_result"
    }
   ],
   "source": [
    "pred = logreg.predict(test_db_x)\n",
    "pred"
   ]
  },
  {
   "cell_type": "markdown",
   "id": "41041473",
   "metadata": {},
   "source": [
    "### Confusion Matrix"
   ]
  },
  {
   "cell_type": "code",
   "execution_count": 14,
   "id": "d8b8aeb6",
   "metadata": {},
   "outputs": [],
   "source": [
    "from sklearn.metrics import confusion_matrix"
   ]
  },
  {
   "cell_type": "code",
   "execution_count": 15,
   "id": "ab8f0f32",
   "metadata": {},
   "outputs": [
    {
     "data": {
      "text/plain": [
       "array([[86,  7],\n",
       "       [22, 39]], dtype=int64)"
      ]
     },
     "execution_count": 15,
     "metadata": {},
     "output_type": "execute_result"
    }
   ],
   "source": [
    "tab = confusion_matrix(test_db_y,pred)\n",
    "tab"
   ]
  },
  {
   "cell_type": "markdown",
   "id": "edb0b5cf",
   "metadata": {},
   "source": [
    "### Accuracy"
   ]
  },
  {
   "cell_type": "code",
   "execution_count": 16,
   "id": "fe85a70b",
   "metadata": {},
   "outputs": [
    {
     "data": {
      "text/plain": [
       "81.16883116883118"
      ]
     },
     "execution_count": 16,
     "metadata": {},
     "output_type": "execute_result"
    }
   ],
   "source": [
    "Accuracy = tab.diagonal().sum()*100/tab.sum()\n",
    "Accuracy"
   ]
  },
  {
   "cell_type": "markdown",
   "id": "816a528b",
   "metadata": {},
   "source": [
    "### Recall SCore"
   ]
  },
  {
   "cell_type": "code",
   "execution_count": 17,
   "id": "da44451c",
   "metadata": {},
   "outputs": [],
   "source": [
    "from sklearn.metrics import recall_score"
   ]
  },
  {
   "cell_type": "code",
   "execution_count": 18,
   "id": "3d377680",
   "metadata": {},
   "outputs": [
    {
     "data": {
      "text/plain": [
       "63.934426229508205"
      ]
     },
     "execution_count": 18,
     "metadata": {},
     "output_type": "execute_result"
    }
   ],
   "source": [
    "recall_score(test_db_y,pred)*100"
   ]
  },
  {
   "cell_type": "markdown",
   "id": "636f9a76",
   "metadata": {},
   "source": [
    "### Precision"
   ]
  },
  {
   "cell_type": "code",
   "execution_count": 19,
   "id": "7f744215",
   "metadata": {},
   "outputs": [],
   "source": [
    "from sklearn.metrics import precision_score"
   ]
  },
  {
   "cell_type": "code",
   "execution_count": 20,
   "id": "a8ed5e92",
   "metadata": {},
   "outputs": [
    {
     "data": {
      "text/plain": [
       "84.78260869565217"
      ]
     },
     "execution_count": 20,
     "metadata": {},
     "output_type": "execute_result"
    }
   ],
   "source": [
    "precision_score(test_db_y,pred)*100"
   ]
  },
  {
   "cell_type": "markdown",
   "id": "42b29425",
   "metadata": {},
   "source": [
    "### F1 Score"
   ]
  },
  {
   "cell_type": "code",
   "execution_count": 21,
   "id": "3a9717c5",
   "metadata": {},
   "outputs": [],
   "source": [
    "from sklearn.metrics import f1_score"
   ]
  },
  {
   "cell_type": "code",
   "execution_count": 22,
   "id": "0d2f2917",
   "metadata": {},
   "outputs": [
    {
     "data": {
      "text/plain": [
       "72.89719626168225"
      ]
     },
     "execution_count": 22,
     "metadata": {},
     "output_type": "execute_result"
    }
   ],
   "source": [
    "f1_score(test_db_y,pred)*100"
   ]
  },
  {
   "cell_type": "markdown",
   "id": "89d0c5cd",
   "metadata": {},
   "source": [
    "### AuRoc"
   ]
  },
  {
   "cell_type": "code",
   "execution_count": 23,
   "id": "685ccf7c",
   "metadata": {},
   "outputs": [],
   "source": [
    "from sklearn.metrics import roc_auc_score,roc_curve"
   ]
  },
  {
   "cell_type": "code",
   "execution_count": 24,
   "id": "9e6cc298",
   "metadata": {},
   "outputs": [
    {
     "data": {
      "text/plain": [
       "array([[0.82101964, 0.17898036],\n",
       "       [0.74858835, 0.25141165],\n",
       "       [0.35454919, 0.64545081],\n",
       "       [0.96079782, 0.03920218],\n",
       "       [0.15060672, 0.84939328],\n",
       "       [0.33234737, 0.66765263],\n",
       "       [0.41095   , 0.58905   ],\n",
       "       [0.92909785, 0.07090215],\n",
       "       [0.92110634, 0.07889366],\n",
       "       [0.93056821, 0.06943179],\n",
       "       [0.72855243, 0.27144757],\n",
       "       [0.95094341, 0.04905659],\n",
       "       [0.72604006, 0.27395994],\n",
       "       [0.77438911, 0.22561089],\n",
       "       [0.7280097 , 0.2719903 ],\n",
       "       [0.97000068, 0.02999932],\n",
       "       [0.63967667, 0.36032333],\n",
       "       [0.31433896, 0.68566104],\n",
       "       [0.25876189, 0.74123811],\n",
       "       [0.98012837, 0.01987163],\n",
       "       [0.92623761, 0.07376239],\n",
       "       [0.66997653, 0.33002347],\n",
       "       [0.48957947, 0.51042053],\n",
       "       [0.91800756, 0.08199244],\n",
       "       [0.6162992 , 0.3837008 ],\n",
       "       [0.33705141, 0.66294859],\n",
       "       [0.7008124 , 0.2991876 ],\n",
       "       [0.24154497, 0.75845503],\n",
       "       [0.69166077, 0.30833923],\n",
       "       [0.07780721, 0.92219279],\n",
       "       [0.93568015, 0.06431985],\n",
       "       [0.99737587, 0.00262413],\n",
       "       [0.89234258, 0.10765742],\n",
       "       [0.15938835, 0.84061165],\n",
       "       [0.88598342, 0.11401658],\n",
       "       [0.85853668, 0.14146332],\n",
       "       [0.63708923, 0.36291077],\n",
       "       [0.88390212, 0.11609788],\n",
       "       [0.99778155, 0.00221845],\n",
       "       [0.66900942, 0.33099058],\n",
       "       [0.82701644, 0.17298356],\n",
       "       [0.92860533, 0.07139467],\n",
       "       [0.6995019 , 0.3004981 ],\n",
       "       [0.55423175, 0.44576825],\n",
       "       [0.63738701, 0.36261299],\n",
       "       [0.451135  , 0.548865  ],\n",
       "       [0.78474279, 0.21525721],\n",
       "       [0.82498504, 0.17501496],\n",
       "       [0.87520148, 0.12479852],\n",
       "       [0.84326289, 0.15673711],\n",
       "       [0.20307756, 0.79692244],\n",
       "       [0.76685705, 0.23314295],\n",
       "       [0.75386384, 0.24613616],\n",
       "       [0.79478532, 0.20521468],\n",
       "       [0.06994503, 0.93005497],\n",
       "       [0.40187349, 0.59812651],\n",
       "       [0.94792664, 0.05207336],\n",
       "       [0.2829453 , 0.7170547 ],\n",
       "       [0.90252327, 0.09747673],\n",
       "       [0.57015397, 0.42984603],\n",
       "       [0.84751673, 0.15248327],\n",
       "       [0.21018211, 0.78981789],\n",
       "       [0.89472244, 0.10527756],\n",
       "       [0.19419445, 0.80580555],\n",
       "       [0.43460931, 0.56539069],\n",
       "       [0.46595812, 0.53404188],\n",
       "       [0.91110643, 0.08889357],\n",
       "       [0.58661946, 0.41338054],\n",
       "       [0.97034235, 0.02965765],\n",
       "       [0.97533019, 0.02466981],\n",
       "       [0.91280758, 0.08719242],\n",
       "       [0.86595794, 0.13404206],\n",
       "       [0.60955524, 0.39044476],\n",
       "       [0.04014179, 0.95985821],\n",
       "       [0.2048235 , 0.7951765 ],\n",
       "       [0.13304657, 0.86695343],\n",
       "       [0.87069301, 0.12930699],\n",
       "       [0.66973203, 0.33026797],\n",
       "       [0.76707646, 0.23292354],\n",
       "       [0.6404075 , 0.3595925 ],\n",
       "       [0.73377491, 0.26622509],\n",
       "       [0.92950538, 0.07049462],\n",
       "       [0.86535422, 0.13464578],\n",
       "       [0.76992915, 0.23007085],\n",
       "       [0.21359063, 0.78640937],\n",
       "       [0.73306353, 0.26693647],\n",
       "       [0.97217371, 0.02782629],\n",
       "       [0.77399813, 0.22600187],\n",
       "       [0.73797291, 0.26202709],\n",
       "       [0.73681035, 0.26318965],\n",
       "       [0.75360667, 0.24639333],\n",
       "       [0.70834918, 0.29165082],\n",
       "       [0.80762424, 0.19237576],\n",
       "       [0.38590049, 0.61409951],\n",
       "       [0.39303385, 0.60696615],\n",
       "       [0.4137308 , 0.5862692 ],\n",
       "       [0.55893967, 0.44106033],\n",
       "       [0.49244478, 0.50755522],\n",
       "       [0.81438561, 0.18561439],\n",
       "       [0.19845847, 0.80154153],\n",
       "       [0.3736506 , 0.6263494 ],\n",
       "       [0.59742543, 0.40257457],\n",
       "       [0.3086389 , 0.6913611 ],\n",
       "       [0.86178352, 0.13821648],\n",
       "       [0.96942262, 0.03057738],\n",
       "       [0.92951986, 0.07048014],\n",
       "       [0.22849374, 0.77150626],\n",
       "       [0.79582397, 0.20417603],\n",
       "       [0.1594377 , 0.8405623 ],\n",
       "       [0.2883995 , 0.7116005 ],\n",
       "       [0.01489231, 0.98510769],\n",
       "       [0.22142   , 0.77858   ],\n",
       "       [0.89903044, 0.10096956],\n",
       "       [0.97105875, 0.02894125],\n",
       "       [0.29407018, 0.70592982],\n",
       "       [0.87841381, 0.12158619],\n",
       "       [0.34237799, 0.65762201],\n",
       "       [0.7851879 , 0.2148121 ],\n",
       "       [0.64352579, 0.35647421],\n",
       "       [0.21004022, 0.78995978],\n",
       "       [0.918132  , 0.081868  ],\n",
       "       [0.07610797, 0.92389203],\n",
       "       [0.31368363, 0.68631637],\n",
       "       [0.40025917, 0.59974083],\n",
       "       [0.70205264, 0.29794736],\n",
       "       [0.09863797, 0.90136203],\n",
       "       [0.84045207, 0.15954793],\n",
       "       [0.22951434, 0.77048566],\n",
       "       [0.94406384, 0.05593616],\n",
       "       [0.50877664, 0.49122336],\n",
       "       [0.49452984, 0.50547016],\n",
       "       [0.6606708 , 0.3393292 ],\n",
       "       [0.62947734, 0.37052266],\n",
       "       [0.7743653 , 0.2256347 ],\n",
       "       [0.7971717 , 0.2028283 ],\n",
       "       [0.53897593, 0.46102407],\n",
       "       [0.81006668, 0.18993332],\n",
       "       [0.77120913, 0.22879087],\n",
       "       [0.96815331, 0.03184669],\n",
       "       [0.82468457, 0.17531543],\n",
       "       [0.77439007, 0.22560993],\n",
       "       [0.51866828, 0.48133172],\n",
       "       [0.90641243, 0.09358757],\n",
       "       [0.76810613, 0.23189387],\n",
       "       [0.38862521, 0.61137479],\n",
       "       [0.95115753, 0.04884247],\n",
       "       [0.7445027 , 0.2554973 ],\n",
       "       [0.65922346, 0.34077654],\n",
       "       [0.69247356, 0.30752644],\n",
       "       [0.73536851, 0.26463149],\n",
       "       [0.86029197, 0.13970803],\n",
       "       [0.84447286, 0.15552714],\n",
       "       [0.62881622, 0.37118378],\n",
       "       [0.61501362, 0.38498638]])"
      ]
     },
     "execution_count": 24,
     "metadata": {},
     "output_type": "execute_result"
    }
   ],
   "source": [
    "pred_prob = logreg.predict_proba(test_db_x)\n",
    "pred_prob"
   ]
  },
  {
   "cell_type": "code",
   "execution_count": 25,
   "id": "539faf6a",
   "metadata": {},
   "outputs": [
    {
     "data": {
      "text/plain": [
       "0.8598625066102591"
      ]
     },
     "execution_count": 25,
     "metadata": {},
     "output_type": "execute_result"
    }
   ],
   "source": [
    "roc_auc_score(test_db_y,pred_prob[ : , 1])\n"
   ]
  },
  {
   "cell_type": "code",
   "execution_count": 26,
   "id": "d19f2da1",
   "metadata": {},
   "outputs": [],
   "source": [
    "fpr, tpr, thresh = roc_curve(test_db_y,pred_prob[ : ,1])"
   ]
  },
  {
   "cell_type": "code",
   "execution_count": 27,
   "id": "047eae33",
   "metadata": {},
   "outputs": [],
   "source": [
    "import matplotlib.pyplot as plt"
   ]
  },
  {
   "cell_type": "code",
   "execution_count": 28,
   "id": "5ad370cf",
   "metadata": {},
   "outputs": [
    {
     "data": {
      "text/plain": [
       "Text(0.3, 0.5, 'Area under curve is 0.82')"
      ]
     },
     "execution_count": 28,
     "metadata": {},
     "output_type": "execute_result"
    },
    {
     "data": {
      "image/png": "[encoded data removed]",
      "text/plain": [
       "<Figure size 640x480 with 1 Axes>"
      ]
     },
     "metadata": {},
     "output_type": "display_data"
    }
   ],
   "source": [
    "plt.plot(fpr,tpr, color = 'm')\n",
    "plt.xlabel('Fpr')\n",
    "plt.ylabel('Tpr')\n",
    "plt.title('ROC curve on loan data')\n",
    "plt.grid()\n",
    "plt.text(x=.3,y=.5,s = \"Area under curve is 0.82\")"
   ]
  },
  {
   "cell_type": "code",
   "execution_count": 30,
   "id": "08d7a1b5",
   "metadata": {},
   "outputs": [
    {
     "data": {
      "image/png": "[encoded data removed]",
      "text/plain": [
       "<IPython.core.display.Image object>"
      ]
     },
     "execution_count": 30,
     "metadata": {},
     "output_type": "execute_result"
    }
   ],
   "source": [
    "from IPython import display\n",
    "display.Image('db.PNG')"
   ]
  },
  {
   "cell_type": "code",
   "execution_count": null,
   "id": "4e08e71b",
   "metadata": {},
   "outputs": [],
   "source": []
  },
  {
   "cell_type": "code",
   "execution_count": null,
   "id": "a86cc036",
   "metadata": {},
   "outputs": [],
   "source": []
  }
 ],
 "metadata": {
  "kernelspec": {
   "display_name": "Python 3 (ipykernel)",
   "language": "python",
   "name": "python3"
  },
  "language_info": {
   "codemirror_mode": {
    "name": "ipython",
    "version": 3
   },
   "file_extension": ".py",
   "mimetype": "text/x-python",
   "name": "python",
   "nbconvert_exporter": "python",
   "pygments_lexer": "ipython3",
   "version": "3.9.13"
  }
 },
 "nbformat": 4,
 "nbformat_minor": 5
}

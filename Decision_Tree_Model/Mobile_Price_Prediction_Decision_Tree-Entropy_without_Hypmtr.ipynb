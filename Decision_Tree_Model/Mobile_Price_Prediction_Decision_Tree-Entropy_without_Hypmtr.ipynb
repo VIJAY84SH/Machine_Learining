{
 "cells": [
  {
   "cell_type": "code",
   "execution_count": 45,
   "id": "93e52e1b",
   "metadata": {},
   "outputs": [],
   "source": [
    "import pandas as pd"
   ]
  },
  {
   "cell_type": "code",
   "execution_count": 46,
   "id": "651b8326",
   "metadata": {},
   "outputs": [],
   "source": [
    "mp = pd.read_csv('trainRF.csv')"
   ]
  },
  {
   "cell_type": "code",
   "execution_count": 47,
   "id": "3adee2c0",
   "metadata": {},
   "outputs": [
    {
     "data": {
      "text/html": [
       "<div>\n",
       "<style scoped>\n",
       "    .dataframe tbody tr th:only-of-type {\n",
       "        vertical-align: middle;\n",
       "    }\n",
       "\n",
       "    .dataframe tbody tr th {\n",
       "        vertical-align: top;\n",
       "    }\n",
       "\n",
       "    .dataframe thead th {\n",
       "        text-align: right;\n",
       "    }\n",
       "</style>\n",
       "<table border=\"1\" class=\"dataframe\">\n",
       "  <thead>\n",
       "    <tr style=\"text-align: right;\">\n",
       "      <th></th>\n",
       "      <th>battery_power</th>\n",
       "      <th>blue</th>\n",
       "      <th>clock_speed</th>\n",
       "      <th>dual_sim</th>\n",
       "      <th>fc</th>\n",
       "      <th>four_g</th>\n",
       "      <th>int_memory</th>\n",
       "      <th>m_dep</th>\n",
       "      <th>mobile_wt</th>\n",
       "      <th>n_cores</th>\n",
       "      <th>...</th>\n",
       "      <th>px_height</th>\n",
       "      <th>px_width</th>\n",
       "      <th>ram</th>\n",
       "      <th>sc_h</th>\n",
       "      <th>sc_w</th>\n",
       "      <th>talk_time</th>\n",
       "      <th>three_g</th>\n",
       "      <th>touch_screen</th>\n",
       "      <th>wifi</th>\n",
       "      <th>price_range</th>\n",
       "    </tr>\n",
       "  </thead>\n",
       "  <tbody>\n",
       "    <tr>\n",
       "      <th>0</th>\n",
       "      <td>842</td>\n",
       "      <td>0</td>\n",
       "      <td>2.2</td>\n",
       "      <td>0</td>\n",
       "      <td>1</td>\n",
       "      <td>0</td>\n",
       "      <td>7</td>\n",
       "      <td>0.6</td>\n",
       "      <td>188</td>\n",
       "      <td>2</td>\n",
       "      <td>...</td>\n",
       "      <td>20</td>\n",
       "      <td>756</td>\n",
       "      <td>2549</td>\n",
       "      <td>9</td>\n",
       "      <td>7</td>\n",
       "      <td>19</td>\n",
       "      <td>0</td>\n",
       "      <td>0</td>\n",
       "      <td>1</td>\n",
       "      <td>1</td>\n",
       "    </tr>\n",
       "    <tr>\n",
       "      <th>1</th>\n",
       "      <td>1021</td>\n",
       "      <td>1</td>\n",
       "      <td>0.5</td>\n",
       "      <td>1</td>\n",
       "      <td>0</td>\n",
       "      <td>1</td>\n",
       "      <td>53</td>\n",
       "      <td>0.7</td>\n",
       "      <td>136</td>\n",
       "      <td>3</td>\n",
       "      <td>...</td>\n",
       "      <td>905</td>\n",
       "      <td>1988</td>\n",
       "      <td>2631</td>\n",
       "      <td>17</td>\n",
       "      <td>3</td>\n",
       "      <td>7</td>\n",
       "      <td>1</td>\n",
       "      <td>1</td>\n",
       "      <td>0</td>\n",
       "      <td>2</td>\n",
       "    </tr>\n",
       "    <tr>\n",
       "      <th>2</th>\n",
       "      <td>563</td>\n",
       "      <td>1</td>\n",
       "      <td>0.5</td>\n",
       "      <td>1</td>\n",
       "      <td>2</td>\n",
       "      <td>1</td>\n",
       "      <td>41</td>\n",
       "      <td>0.9</td>\n",
       "      <td>145</td>\n",
       "      <td>5</td>\n",
       "      <td>...</td>\n",
       "      <td>1263</td>\n",
       "      <td>1716</td>\n",
       "      <td>2603</td>\n",
       "      <td>11</td>\n",
       "      <td>2</td>\n",
       "      <td>9</td>\n",
       "      <td>1</td>\n",
       "      <td>1</td>\n",
       "      <td>0</td>\n",
       "      <td>2</td>\n",
       "    </tr>\n",
       "    <tr>\n",
       "      <th>3</th>\n",
       "      <td>615</td>\n",
       "      <td>1</td>\n",
       "      <td>2.5</td>\n",
       "      <td>0</td>\n",
       "      <td>0</td>\n",
       "      <td>0</td>\n",
       "      <td>10</td>\n",
       "      <td>0.8</td>\n",
       "      <td>131</td>\n",
       "      <td>6</td>\n",
       "      <td>...</td>\n",
       "      <td>1216</td>\n",
       "      <td>1786</td>\n",
       "      <td>2769</td>\n",
       "      <td>16</td>\n",
       "      <td>8</td>\n",
       "      <td>11</td>\n",
       "      <td>1</td>\n",
       "      <td>0</td>\n",
       "      <td>0</td>\n",
       "      <td>2</td>\n",
       "    </tr>\n",
       "    <tr>\n",
       "      <th>4</th>\n",
       "      <td>1821</td>\n",
       "      <td>1</td>\n",
       "      <td>1.2</td>\n",
       "      <td>0</td>\n",
       "      <td>13</td>\n",
       "      <td>1</td>\n",
       "      <td>44</td>\n",
       "      <td>0.6</td>\n",
       "      <td>141</td>\n",
       "      <td>2</td>\n",
       "      <td>...</td>\n",
       "      <td>1208</td>\n",
       "      <td>1212</td>\n",
       "      <td>1411</td>\n",
       "      <td>8</td>\n",
       "      <td>2</td>\n",
       "      <td>15</td>\n",
       "      <td>1</td>\n",
       "      <td>1</td>\n",
       "      <td>0</td>\n",
       "      <td>1</td>\n",
       "    </tr>\n",
       "  </tbody>\n",
       "</table>\n",
       "<p>5 rows × 21 columns</p>\n",
       "</div>"
      ],
      "text/plain": [
       "   battery_power  blue  clock_speed  dual_sim  fc  four_g  int_memory  m_dep  \\\n",
       "0            842     0          2.2         0   1       0           7    0.6   \n",
       "1           1021     1          0.5         1   0       1          53    0.7   \n",
       "2            563     1          0.5         1   2       1          41    0.9   \n",
       "3            615     1          2.5         0   0       0          10    0.8   \n",
       "4           1821     1          1.2         0  13       1          44    0.6   \n",
       "\n",
       "   mobile_wt  n_cores  ...  px_height  px_width   ram  sc_h  sc_w  talk_time  \\\n",
       "0        188        2  ...         20       756  2549     9     7         19   \n",
       "1        136        3  ...        905      1988  2631    17     3          7   \n",
       "2        145        5  ...       1263      1716  2603    11     2          9   \n",
       "3        131        6  ...       1216      1786  2769    16     8         11   \n",
       "4        141        2  ...       1208      1212  1411     8     2         15   \n",
       "\n",
       "   three_g  touch_screen  wifi  price_range  \n",
       "0        0             0     1            1  \n",
       "1        1             1     0            2  \n",
       "2        1             1     0            2  \n",
       "3        1             0     0            2  \n",
       "4        1             1     0            1  \n",
       "\n",
       "[5 rows x 21 columns]"
      ]
     },
     "execution_count": 47,
     "metadata": {},
     "output_type": "execute_result"
    }
   ],
   "source": [
    "mp.head()"
   ]
  },
  {
   "cell_type": "code",
   "execution_count": 48,
   "id": "97d2a5f7",
   "metadata": {},
   "outputs": [
    {
     "data": {
      "text/plain": [
       "battery_power    0\n",
       "blue             0\n",
       "clock_speed      0\n",
       "dual_sim         0\n",
       "fc               0\n",
       "four_g           0\n",
       "int_memory       0\n",
       "m_dep            0\n",
       "mobile_wt        0\n",
       "n_cores          0\n",
       "pc               0\n",
       "px_height        0\n",
       "px_width         0\n",
       "ram              0\n",
       "sc_h             0\n",
       "sc_w             0\n",
       "talk_time        0\n",
       "three_g          0\n",
       "touch_screen     0\n",
       "wifi             0\n",
       "price_range      0\n",
       "dtype: int64"
      ]
     },
     "execution_count": 48,
     "metadata": {},
     "output_type": "execute_result"
    }
   ],
   "source": [
    "mp.isnull().sum()"
   ]
  },
  {
   "cell_type": "code",
   "execution_count": 49,
   "id": "d0eeaa56",
   "metadata": {},
   "outputs": [
    {
     "data": {
      "text/plain": [
       "Index([], dtype='object')"
      ]
     },
     "execution_count": 49,
     "metadata": {},
     "output_type": "execute_result"
    }
   ],
   "source": [
    "mp.select_dtypes(include='object').columns"
   ]
  },
  {
   "cell_type": "markdown",
   "id": "033f0815",
   "metadata": {},
   "source": [
    "### Sampling"
   ]
  },
  {
   "cell_type": "code",
   "execution_count": 50,
   "id": "70f468aa",
   "metadata": {},
   "outputs": [],
   "source": [
    "from sklearn.model_selection import train_test_split"
   ]
  },
  {
   "cell_type": "code",
   "execution_count": 51,
   "id": "097d3c65",
   "metadata": {},
   "outputs": [],
   "source": [
    "mp_train, mp_test = train_test_split(mp,test_size=0.2)"
   ]
  },
  {
   "cell_type": "code",
   "execution_count": 52,
   "id": "09d6b68d",
   "metadata": {},
   "outputs": [],
   "source": [
    "mp_train_x = mp_train.iloc[ : , :-1]\n",
    "mp_train_y = mp_train.iloc[ : , -1]"
   ]
  },
  {
   "cell_type": "code",
   "execution_count": 53,
   "id": "90666d35",
   "metadata": {},
   "outputs": [],
   "source": [
    "mp_test_x = mp_test.iloc[ : , :-1]\n",
    "mp_test_y = mp_test.iloc[ : , -1]"
   ]
  },
  {
   "cell_type": "markdown",
   "id": "b669bd04",
   "metadata": {},
   "source": [
    "### Model building"
   ]
  },
  {
   "cell_type": "code",
   "execution_count": 54,
   "id": "763403b8",
   "metadata": {},
   "outputs": [],
   "source": [
    "from sklearn.model_selection import GridSearchCV\n",
    "\n",
    "from sklearn.tree import DecisionTreeClassifier"
   ]
  },
  {
   "cell_type": "code",
   "execution_count": 108,
   "id": "92362712",
   "metadata": {},
   "outputs": [],
   "source": [
    "dt = DecisionTreeClassifier(criterion=\"entropy\",max_depth=3)"
   ]
  },
  {
   "cell_type": "code",
   "execution_count": 109,
   "id": "09b15e2f",
   "metadata": {},
   "outputs": [
    {
     "data": {
      "text/plain": [
       "DecisionTreeClassifier(criterion='entropy', max_depth=3)"
      ]
     },
     "execution_count": 109,
     "metadata": {},
     "output_type": "execute_result"
    }
   ],
   "source": [
    "dt.fit(mp_train_x,mp_train_y)"
   ]
  },
  {
   "cell_type": "markdown",
   "id": "c74e0c80",
   "metadata": {},
   "source": [
    "### Prediction"
   ]
  },
  {
   "cell_type": "code",
   "execution_count": 110,
   "id": "c6e6d7d4",
   "metadata": {},
   "outputs": [
    {
     "data": {
      "text/plain": [
       "array([2, 3, 1, 1, 1, 2, 0, 2, 3, 2, 3, 0, 1, 3, 3, 3, 3, 0, 1, 1, 2, 2,\n",
       "       1, 2, 2, 0, 2, 1, 2, 2, 1, 0, 1, 2, 2, 3, 2, 3, 1, 1, 0, 3, 1, 2,\n",
       "       1, 2, 3, 3, 2, 2, 0, 0, 0, 1, 2, 1, 1, 2, 2, 0, 2, 2, 3, 1, 3, 3,\n",
       "       1, 1, 1, 3, 1, 0, 1, 2, 0, 3, 2, 0, 1, 0, 2, 1, 0, 3, 0, 0, 0, 0,\n",
       "       3, 2, 0, 2, 2, 3, 1, 2, 1, 3, 2, 0, 2, 0, 3, 3, 0, 2, 1, 3, 2, 2,\n",
       "       3, 1, 2, 0, 0, 3, 1, 0, 1, 3, 3, 0, 3, 2, 3, 1, 0, 1, 0, 3, 1, 3,\n",
       "       1, 3, 0, 0, 2, 1, 3, 2, 3, 0, 3, 1, 0, 2, 2, 1, 2, 0, 1, 2, 3, 0,\n",
       "       0, 3, 3, 1, 1, 0, 0, 0, 1, 1, 2, 2, 0, 0, 2, 3, 1, 2, 3, 3, 0, 1,\n",
       "       1, 1, 1, 1, 0, 0, 0, 1, 0, 1, 1, 0, 3, 1, 2, 1, 0, 0, 0, 0, 0, 0,\n",
       "       3, 0, 2, 3, 1, 3, 1, 0, 3, 3, 1, 1, 2, 0, 1, 0, 2, 2, 0, 0, 0, 2,\n",
       "       2, 0, 2, 1, 3, 3, 0, 0, 0, 1, 1, 0, 1, 1, 3, 0, 1, 1, 0, 0, 3, 2,\n",
       "       2, 2, 1, 0, 3, 3, 1, 1, 3, 1, 1, 3, 3, 1, 3, 2, 3, 3, 1, 1, 1, 3,\n",
       "       0, 1, 1, 3, 1, 1, 0, 3, 0, 0, 1, 2, 0, 2, 0, 3, 2, 1, 2, 2, 1, 3,\n",
       "       1, 3, 0, 3, 3, 2, 3, 3, 2, 1, 2, 0, 3, 2, 1, 2, 2, 2, 3, 0, 3, 1,\n",
       "       2, 3, 0, 1, 3, 2, 1, 1, 1, 0, 3, 1, 3, 3, 1, 2, 0, 2, 1, 3, 1, 1,\n",
       "       0, 1, 2, 3, 1, 2, 0, 1, 2, 1, 2, 0, 3, 1, 3, 1, 1, 3, 2, 1, 1, 2,\n",
       "       1, 3, 0, 0, 2, 1, 2, 1, 2, 3, 3, 3, 0, 3, 1, 3, 3, 0, 3, 0, 2, 0,\n",
       "       2, 0, 0, 3, 1, 3, 3, 3, 3, 1, 2, 3, 1, 2, 3, 3, 1, 2, 1, 3, 1, 0,\n",
       "       3, 1, 3, 0], dtype=int64)"
      ]
     },
     "execution_count": 110,
     "metadata": {},
     "output_type": "execute_result"
    }
   ],
   "source": [
    "pred_dt = dt.predict(mp_test_x)\n",
    "pred_dt"
   ]
  },
  {
   "cell_type": "markdown",
   "id": "27140758",
   "metadata": {},
   "source": [
    "### Confusion Matrics"
   ]
  },
  {
   "cell_type": "code",
   "execution_count": 111,
   "id": "94409616",
   "metadata": {},
   "outputs": [],
   "source": [
    "from sklearn.metrics import confusion_matrix"
   ]
  },
  {
   "cell_type": "code",
   "execution_count": 112,
   "id": "e81e7132",
   "metadata": {},
   "outputs": [
    {
     "data": {
      "text/plain": [
       "array([[79, 27,  0,  0],\n",
       "       [15, 65,  9,  0],\n",
       "       [ 0, 23, 64, 16],\n",
       "       [ 0,  0, 16, 86]], dtype=int64)"
      ]
     },
     "execution_count": 112,
     "metadata": {},
     "output_type": "execute_result"
    }
   ],
   "source": [
    "tab = confusion_matrix(mp_test_y,pred_dt)\n",
    "tab"
   ]
  },
  {
   "cell_type": "markdown",
   "id": "06a1b8f7",
   "metadata": {},
   "source": [
    "### Accuracy"
   ]
  },
  {
   "cell_type": "code",
   "execution_count": 113,
   "id": "846d28e5",
   "metadata": {},
   "outputs": [
    {
     "data": {
      "text/plain": [
       "73.5"
      ]
     },
     "execution_count": 113,
     "metadata": {},
     "output_type": "execute_result"
    }
   ],
   "source": [
    "Accuracy = tab.diagonal().sum()*100/tab.sum()\n",
    "Accuracy "
   ]
  },
  {
   "cell_type": "markdown",
   "id": "98855ae6",
   "metadata": {},
   "source": [
    "### Important Features"
   ]
  },
  {
   "cell_type": "code",
   "execution_count": 114,
   "id": "fcad6432",
   "metadata": {
    "scrolled": true
   },
   "outputs": [
    {
     "data": {
      "text/plain": [
       "array([0.05510977, 0.        , 0.        , 0.        , 0.        ,\n",
       "       0.        , 0.        , 0.        , 0.        , 0.        ,\n",
       "       0.        , 0.        , 0.01802157, 0.92686866, 0.        ,\n",
       "       0.        , 0.        , 0.        , 0.        , 0.        ])"
      ]
     },
     "execution_count": 114,
     "metadata": {},
     "output_type": "execute_result"
    }
   ],
   "source": [
    "dt.feature_importances_"
   ]
  },
  {
   "cell_type": "code",
   "execution_count": 115,
   "id": "26e55619",
   "metadata": {},
   "outputs": [
    {
     "data": {
      "text/plain": [
       "0.9999999999999999"
      ]
     },
     "execution_count": 115,
     "metadata": {},
     "output_type": "execute_result"
    }
   ],
   "source": [
    "dt.feature_importances_.sum()"
   ]
  },
  {
   "cell_type": "code",
   "execution_count": 116,
   "id": "55d6c1d9",
   "metadata": {},
   "outputs": [
    {
     "data": {
      "text/plain": [
       "Index(['battery_power', 'blue', 'clock_speed', 'dual_sim', 'fc', 'four_g',\n",
       "       'int_memory', 'm_dep', 'mobile_wt', 'n_cores', 'pc', 'px_height',\n",
       "       'px_width', 'ram', 'sc_h', 'sc_w', 'talk_time', 'three_g',\n",
       "       'touch_screen', 'wifi'],\n",
       "      dtype='object')"
      ]
     },
     "execution_count": 116,
     "metadata": {},
     "output_type": "execute_result"
    }
   ],
   "source": [
    "mp_train_x.columns"
   ]
  },
  {
   "cell_type": "code",
   "execution_count": 117,
   "id": "800e42e9",
   "metadata": {},
   "outputs": [],
   "source": [
    "feat_imp_df = pd.DataFrame()\n",
    "feat_imp_df['Features'] = mp_train_x.columns\n",
    "feat_imp_df['Imp'] = dt.feature_importances_"
   ]
  },
  {
   "cell_type": "code",
   "execution_count": 118,
   "id": "678498bf",
   "metadata": {},
   "outputs": [
    {
     "data": {
      "text/html": [
       "<div>\n",
       "<style scoped>\n",
       "    .dataframe tbody tr th:only-of-type {\n",
       "        vertical-align: middle;\n",
       "    }\n",
       "\n",
       "    .dataframe tbody tr th {\n",
       "        vertical-align: top;\n",
       "    }\n",
       "\n",
       "    .dataframe thead th {\n",
       "        text-align: right;\n",
       "    }\n",
       "</style>\n",
       "<table border=\"1\" class=\"dataframe\">\n",
       "  <thead>\n",
       "    <tr style=\"text-align: right;\">\n",
       "      <th></th>\n",
       "      <th>Features</th>\n",
       "      <th>Imp</th>\n",
       "    </tr>\n",
       "  </thead>\n",
       "  <tbody>\n",
       "    <tr>\n",
       "      <th>13</th>\n",
       "      <td>ram</td>\n",
       "      <td>0.926869</td>\n",
       "    </tr>\n",
       "    <tr>\n",
       "      <th>0</th>\n",
       "      <td>battery_power</td>\n",
       "      <td>0.055110</td>\n",
       "    </tr>\n",
       "    <tr>\n",
       "      <th>12</th>\n",
       "      <td>px_width</td>\n",
       "      <td>0.018022</td>\n",
       "    </tr>\n",
       "    <tr>\n",
       "      <th>1</th>\n",
       "      <td>blue</td>\n",
       "      <td>0.000000</td>\n",
       "    </tr>\n",
       "    <tr>\n",
       "      <th>18</th>\n",
       "      <td>touch_screen</td>\n",
       "      <td>0.000000</td>\n",
       "    </tr>\n",
       "    <tr>\n",
       "      <th>17</th>\n",
       "      <td>three_g</td>\n",
       "      <td>0.000000</td>\n",
       "    </tr>\n",
       "    <tr>\n",
       "      <th>16</th>\n",
       "      <td>talk_time</td>\n",
       "      <td>0.000000</td>\n",
       "    </tr>\n",
       "    <tr>\n",
       "      <th>15</th>\n",
       "      <td>sc_w</td>\n",
       "      <td>0.000000</td>\n",
       "    </tr>\n",
       "    <tr>\n",
       "      <th>14</th>\n",
       "      <td>sc_h</td>\n",
       "      <td>0.000000</td>\n",
       "    </tr>\n",
       "    <tr>\n",
       "      <th>11</th>\n",
       "      <td>px_height</td>\n",
       "      <td>0.000000</td>\n",
       "    </tr>\n",
       "    <tr>\n",
       "      <th>10</th>\n",
       "      <td>pc</td>\n",
       "      <td>0.000000</td>\n",
       "    </tr>\n",
       "    <tr>\n",
       "      <th>9</th>\n",
       "      <td>n_cores</td>\n",
       "      <td>0.000000</td>\n",
       "    </tr>\n",
       "    <tr>\n",
       "      <th>8</th>\n",
       "      <td>mobile_wt</td>\n",
       "      <td>0.000000</td>\n",
       "    </tr>\n",
       "    <tr>\n",
       "      <th>7</th>\n",
       "      <td>m_dep</td>\n",
       "      <td>0.000000</td>\n",
       "    </tr>\n",
       "    <tr>\n",
       "      <th>6</th>\n",
       "      <td>int_memory</td>\n",
       "      <td>0.000000</td>\n",
       "    </tr>\n",
       "    <tr>\n",
       "      <th>5</th>\n",
       "      <td>four_g</td>\n",
       "      <td>0.000000</td>\n",
       "    </tr>\n",
       "    <tr>\n",
       "      <th>4</th>\n",
       "      <td>fc</td>\n",
       "      <td>0.000000</td>\n",
       "    </tr>\n",
       "    <tr>\n",
       "      <th>3</th>\n",
       "      <td>dual_sim</td>\n",
       "      <td>0.000000</td>\n",
       "    </tr>\n",
       "    <tr>\n",
       "      <th>2</th>\n",
       "      <td>clock_speed</td>\n",
       "      <td>0.000000</td>\n",
       "    </tr>\n",
       "    <tr>\n",
       "      <th>19</th>\n",
       "      <td>wifi</td>\n",
       "      <td>0.000000</td>\n",
       "    </tr>\n",
       "  </tbody>\n",
       "</table>\n",
       "</div>"
      ],
      "text/plain": [
       "         Features       Imp\n",
       "13            ram  0.926869\n",
       "0   battery_power  0.055110\n",
       "12       px_width  0.018022\n",
       "1            blue  0.000000\n",
       "18   touch_screen  0.000000\n",
       "17        three_g  0.000000\n",
       "16      talk_time  0.000000\n",
       "15           sc_w  0.000000\n",
       "14           sc_h  0.000000\n",
       "11      px_height  0.000000\n",
       "10             pc  0.000000\n",
       "9         n_cores  0.000000\n",
       "8       mobile_wt  0.000000\n",
       "7           m_dep  0.000000\n",
       "6      int_memory  0.000000\n",
       "5          four_g  0.000000\n",
       "4              fc  0.000000\n",
       "3        dual_sim  0.000000\n",
       "2     clock_speed  0.000000\n",
       "19           wifi  0.000000"
      ]
     },
     "execution_count": 118,
     "metadata": {},
     "output_type": "execute_result"
    }
   ],
   "source": [
    "feat_imp_df.sort_values('Imp',ascending=False)"
   ]
  },
  {
   "cell_type": "code",
   "execution_count": null,
   "id": "ca6ec483",
   "metadata": {},
   "outputs": [],
   "source": []
  },
  {
   "cell_type": "markdown",
   "id": "46d442a0",
   "metadata": {},
   "source": [
    "### Tree"
   ]
  },
  {
   "cell_type": "code",
   "execution_count": 39,
   "id": "310fae21",
   "metadata": {},
   "outputs": [
    {
     "name": "stdout",
     "output_type": "stream",
     "text": [
      "Requirement already satisfied: pydotplus in c:\\users\\mr.godhade\\anaconda3\\lib\\site-packages (2.0.2)\n",
      "Requirement already satisfied: pyparsing>=2.0.1 in c:\\users\\mr.godhade\\anaconda3\\lib\\site-packages (from pydotplus) (3.0.9)\n",
      "Note: you may need to restart the kernel to use updated packages.\n"
     ]
    }
   ],
   "source": [
    "pip install pydotplus"
   ]
  },
  {
   "cell_type": "code",
   "execution_count": 23,
   "id": "09137d77",
   "metadata": {},
   "outputs": [
    {
     "name": "stdout",
     "output_type": "stream",
     "text": [
      "Requirement already satisfied: pydot in c:\\users\\mr.godhade\\anaconda3\\lib\\site-packages (1.4.2)\n",
      "Requirement already satisfied: pyparsing>=2.1.4 in c:\\users\\mr.godhade\\anaconda3\\lib\\site-packages (from pydot) (3.0.9)\n",
      "Note: you may need to restart the kernel to use updated packages.\n"
     ]
    }
   ],
   "source": [
    "pip install pydot"
   ]
  },
  {
   "cell_type": "code",
   "execution_count": 119,
   "id": "d1bd34a3",
   "metadata": {},
   "outputs": [],
   "source": [
    "from IPython.display import Image  \n",
    "from sklearn.tree import export_graphviz\n",
    "import pydotplus\n",
    "import pydot\n",
    "from IPython.display import Image \n",
    "from six import StringIO\n"
   ]
  },
  {
   "cell_type": "code",
   "execution_count": 26,
   "id": "084c06c4",
   "metadata": {},
   "outputs": [
    {
     "name": "stdout",
     "output_type": "stream",
     "text": [
      "Collecting package metadata (current_repodata.json): ...working... done\n",
      "Solving environment: ...working... done\n",
      "\n",
      "## Package Plan ##\n",
      "\n",
      "  environment location: C:\\Users\\MR.GODHADE\\anaconda3\n",
      "\n",
      "  added / updated specs:\n",
      "    - graphviz\n",
      "\n",
      "\n",
      "The following packages will be downloaded:\n",
      "\n",
      "    package                    |            build\n",
      "    ---------------------------|-----------------\n",
      "    cairo-1.16.0               |       he04af86_2         1.5 MB\n",
      "    expat-2.4.9                |       h6c2663c_0         207 KB\n",
      "    fribidi-1.0.10             |       h62dcd97_0          63 KB\n",
      "    getopt-win32-0.1           |       h2bbff1b_0          19 KB\n",
      "    glib-2.69.1                |       h5dc1a3c_1         1.6 MB\n",
      "    graphite2-1.3.14           |       hd77b12b_1          91 KB\n",
      "    graphviz-2.50.0            |       hdb8b0d4_0         903 KB\n",
      "    gts-0.7.6                  |       h63ab5a1_3         181 KB\n",
      "    harfbuzz-4.3.0             |       hb646838_1         855 KB\n",
      "    libffi-3.4.4               |       hd77b12b_0         113 KB\n",
      "    libgd-2.3.3                |       ha43c60c_1         314 KB\n",
      "    pango-1.50.7               |       h78c2152_0         279 KB\n",
      "    pcre-8.45                  |       hd77b12b_0         382 KB\n",
      "    pixman-0.40.0              |       h2bbff1b_1         402 KB\n",
      "    ------------------------------------------------------------\n",
      "                                           Total:         6.8 MB\n",
      "\n",
      "The following NEW packages will be INSTALLED:\n",
      "\n",
      "  cairo              pkgs/main/win-64::cairo-1.16.0-he04af86_2 None\n",
      "  expat              pkgs/main/win-64::expat-2.4.9-h6c2663c_0 None\n",
      "  fribidi            pkgs/main/win-64::fribidi-1.0.10-h62dcd97_0 None\n",
      "  getopt-win32       pkgs/main/win-64::getopt-win32-0.1-h2bbff1b_0 None\n",
      "  glib               pkgs/main/win-64::glib-2.69.1-h5dc1a3c_1 None\n",
      "  graphite2          pkgs/main/win-64::graphite2-1.3.14-hd77b12b_1 None\n",
      "  graphviz           pkgs/main/win-64::graphviz-2.50.0-hdb8b0d4_0 None\n",
      "  gts                pkgs/main/win-64::gts-0.7.6-h63ab5a1_3 None\n",
      "  harfbuzz           pkgs/main/win-64::harfbuzz-4.3.0-hb646838_1 None\n",
      "  libffi             pkgs/main/win-64::libffi-3.4.4-hd77b12b_0 None\n",
      "  libgd              pkgs/main/win-64::libgd-2.3.3-ha43c60c_1 None\n",
      "  pango              pkgs/main/win-64::pango-1.50.7-h78c2152_0 None\n",
      "  pcre               pkgs/main/win-64::pcre-8.45-hd77b12b_0 None\n",
      "  pixman             pkgs/main/win-64::pixman-0.40.0-h2bbff1b_1 None\n",
      "\n",
      "\n",
      "\n",
      "Downloading and Extracting Packages\n",
      "\n",
      "getopt-win32-0.1     | 19 KB     |            |   0% \n",
      "getopt-win32-0.1     | 19 KB     | ########6  |  86% \n",
      "getopt-win32-0.1     | 19 KB     | ########## | 100% \n",
      "\n",
      "harfbuzz-4.3.0       | 855 KB    |            |   0% \n",
      "harfbuzz-4.3.0       | 855 KB    | 1          |   2% \n",
      "harfbuzz-4.3.0       | 855 KB    | #6         |  17% \n",
      "harfbuzz-4.3.0       | 855 KB    | ###7       |  37% \n",
      "harfbuzz-4.3.0       | 855 KB    | #####      |  51% \n",
      "harfbuzz-4.3.0       | 855 KB    | #######4   |  75% \n",
      "harfbuzz-4.3.0       | 855 KB    | #########9 |  99% \n",
      "harfbuzz-4.3.0       | 855 KB    | ########## | 100% \n",
      "\n",
      "cairo-1.16.0         | 1.5 MB    |            |   0% \n",
      "cairo-1.16.0         | 1.5 MB    | 3          |   3% \n",
      "cairo-1.16.0         | 1.5 MB    | #4         |  14% \n",
      "cairo-1.16.0         | 1.5 MB    | ##4        |  25% \n",
      "cairo-1.16.0         | 1.5 MB    | ###3       |  34% \n",
      "cairo-1.16.0         | 1.5 MB    | ####4      |  44% \n",
      "cairo-1.16.0         | 1.5 MB    | #####3     |  53% \n",
      "cairo-1.16.0         | 1.5 MB    | ######2    |  63% \n",
      "cairo-1.16.0         | 1.5 MB    | #######    |  71% \n",
      "cairo-1.16.0         | 1.5 MB    | #######8   |  78% \n",
      "cairo-1.16.0         | 1.5 MB    | ########4  |  84% \n",
      "cairo-1.16.0         | 1.5 MB    | #########  |  90% \n",
      "cairo-1.16.0         | 1.5 MB    | #########6 |  97% \n",
      "cairo-1.16.0         | 1.5 MB    | ########## | 100% \n",
      "\n",
      "pango-1.50.7         | 279 KB    |            |   0% \n",
      "pango-1.50.7         | 279 KB    | #7         |  17% \n",
      "pango-1.50.7         | 279 KB    | ######3    |  63% \n",
      "pango-1.50.7         | 279 KB    | #########1 |  92% \n",
      "pango-1.50.7         | 279 KB    | ########## | 100% \n",
      "\n",
      "graphite2-1.3.14     | 91 KB     |            |   0% \n",
      "graphite2-1.3.14     | 91 KB     | ###5       |  35% \n",
      "graphite2-1.3.14     | 91 KB     | ########## | 100% \n",
      "graphite2-1.3.14     | 91 KB     | ########## | 100% \n",
      "\n",
      "expat-2.4.9          | 207 KB    |            |   0% \n",
      "expat-2.4.9          | 207 KB    | ###        |  31% \n",
      "expat-2.4.9          | 207 KB    | ######1    |  62% \n",
      "expat-2.4.9          | 207 KB    | #########2 |  93% \n",
      "expat-2.4.9          | 207 KB    | ########## | 100% \n",
      "\n",
      "libffi-3.4.4         | 113 KB    |            |   0% \n",
      "libffi-3.4.4         | 113 KB    | #####6     |  57% \n",
      "libffi-3.4.4         | 113 KB    | ########## | 100% \n",
      "\n",
      "pixman-0.40.0        | 402 KB    |            |   0% \n",
      "pixman-0.40.0        | 402 KB    | 3          |   4% \n",
      "pixman-0.40.0        | 402 KB    | ##3        |  24% \n",
      "pixman-0.40.0        | 402 KB    | #######9   |  80% \n",
      "pixman-0.40.0        | 402 KB    | ########## | 100% \n",
      "\n",
      "fribidi-1.0.10       | 63 KB     |            |   0% \n",
      "fribidi-1.0.10       | 63 KB     | #####      |  51% \n",
      "fribidi-1.0.10       | 63 KB     | ########## | 100% \n",
      "fribidi-1.0.10       | 63 KB     | ########## | 100% \n",
      "\n",
      "graphviz-2.50.0      | 903 KB    |            |   0% \n",
      "graphviz-2.50.0      | 903 KB    | 5          |   5% \n",
      "graphviz-2.50.0      | 903 KB    | #9         |  19% \n",
      "graphviz-2.50.0      | 903 KB    | ###        |  30% \n",
      "graphviz-2.50.0      | 903 KB    | ####9      |  50% \n",
      "graphviz-2.50.0      | 903 KB    | ######2    |  62% \n",
      "graphviz-2.50.0      | 903 KB    | #######2   |  73% \n",
      "graphviz-2.50.0      | 903 KB    | ########3  |  83% \n",
      "graphviz-2.50.0      | 903 KB    | #########5 |  96% \n",
      "graphviz-2.50.0      | 903 KB    | ########## | 100% \n",
      "\n",
      "gts-0.7.6            | 181 KB    |            |   0% \n",
      "gts-0.7.6            | 181 KB    | #7         |  18% \n",
      "gts-0.7.6            | 181 KB    | #######9   |  80% \n",
      "gts-0.7.6            | 181 KB    | ########## | 100% \n",
      "\n",
      "libgd-2.3.3          | 314 KB    |            |   0% \n",
      "libgd-2.3.3          | 314 KB    | #5         |  15% \n",
      "libgd-2.3.3          | 314 KB    | ####       |  41% \n",
      "libgd-2.3.3          | 314 KB    | #######1   |  71% \n",
      "libgd-2.3.3          | 314 KB    | ########## | 100% \n",
      "libgd-2.3.3          | 314 KB    | ########## | 100% \n",
      "\n",
      "pcre-8.45            | 382 KB    |            |   0% \n",
      "pcre-8.45            | 382 KB    | #2         |  13% \n",
      "pcre-8.45            | 382 KB    | ##9        |  29% \n",
      "pcre-8.45            | 382 KB    | ####6      |  46% \n",
      "pcre-8.45            | 382 KB    | #######1   |  71% \n",
      "pcre-8.45            | 382 KB    | #########2 |  92% \n",
      "pcre-8.45            | 382 KB    | ########## | 100% \n",
      "\n",
      "glib-2.69.1          | 1.6 MB    |            |   0% \n",
      "glib-2.69.1          | 1.6 MB    |            |   1% \n",
      "glib-2.69.1          | 1.6 MB    | #          |  11% \n",
      "glib-2.69.1          | 1.6 MB    | #8         |  19% \n",
      "glib-2.69.1          | 1.6 MB    | ##7        |  28% \n",
      "glib-2.69.1          | 1.6 MB    | ###6       |  37% \n",
      "glib-2.69.1          | 1.6 MB    | ####4      |  45% \n",
      "glib-2.69.1          | 1.6 MB    | #####3     |  53% \n",
      "glib-2.69.1          | 1.6 MB    | ######2    |  62% \n",
      "glib-2.69.1          | 1.6 MB    | #######1   |  71% \n",
      "glib-2.69.1          | 1.6 MB    | ########1  |  81% \n",
      "glib-2.69.1          | 1.6 MB    | #########  |  90% \n",
      "glib-2.69.1          | 1.6 MB    | #########9 |  99% \n",
      "glib-2.69.1          | 1.6 MB    | ########## | 100% \n",
      "Preparing transaction: ...working... done\n",
      "Verifying transaction: ...working... done\n",
      "Executing transaction: ...working... done\n",
      "Retrieving notices: ...working... done\n",
      "\n",
      "Note: you may need to restart the kernel to use updated packages.\n"
     ]
    },
    {
     "name": "stderr",
     "output_type": "stream",
     "text": [
      "\n",
      "\n",
      "==> WARNING: A newer version of conda exists. <==\n",
      "  current version: 22.9.0\n",
      "  latest version: 23.5.0\n",
      "\n",
      "Please update conda by running\n",
      "\n",
      "    $ conda update -n base -c defaults conda\n",
      "\n",
      "\n"
     ]
    }
   ],
   "source": [
    "conda install graphviz"
   ]
  },
  {
   "cell_type": "code",
   "execution_count": 120,
   "id": "af33eb6c",
   "metadata": {
    "scrolled": true
   },
   "outputs": [
    {
     "data": {
      "image/png": "[encoded data removed]",
      "text/plain": [
       "<IPython.core.display.Image object>"
      ]
     },
     "execution_count": 120,
     "metadata": {},
     "output_type": "execute_result"
    },
    {
     "data": {
      "text/plain": [
       "<Figure size 1200x1200 with 0 Axes>"
      ]
     },
     "metadata": {},
     "output_type": "display_data"
    }
   ],
   "source": [
    "dot_data = StringIO()  ## creating a empty  file \n",
    "import matplotlib.pyplot as plt\n",
    "fig= plt.figure(figsize=(12,12))\n",
    "\n",
    "export_graphviz(dt, out_file=dot_data,  \n",
    "                filled=True, rounded=True,\n",
    "                special_characters=True , feature_names=mp_train_x.columns  )\n",
    "#graph = pydotplus.graph_from_dot_data(dot_data.getvalue())  \n",
    "\n",
    "(graph,) = pydot.graph_from_dot_data(dot_data.getvalue())\n",
    "Image(graph.create_png())"
   ]
  },
  {
   "cell_type": "markdown",
   "id": "f577f503",
   "metadata": {},
   "source": [
    "### Conclusion"
   ]
  },
  {
   "cell_type": "markdown",
   "id": "34c2cbac",
   "metadata": {},
   "source": [
    "### RAM is the most important features to select mobile"
   ]
  },
  {
   "cell_type": "markdown",
   "id": "3b109ea5",
   "metadata": {},
   "source": [
    "### Then Battery power, px_width and so on.."
   ]
  },
  {
   "cell_type": "code",
   "execution_count": null,
   "id": "eac2c5bb",
   "metadata": {},
   "outputs": [],
   "source": []
  }
 ],
 "metadata": {
  "kernelspec": {
   "display_name": "Python 3 (ipykernel)",
   "language": "python",
   "name": "python3"
  },
  "language_info": {
   "codemirror_mode": {
    "name": "ipython",
    "version": 3
   },
   "file_extension": ".py",
   "mimetype": "text/x-python",
   "name": "python",
   "nbconvert_exporter": "python",
   "pygments_lexer": "ipython3",
   "version": "3.9.13"
  }
 },
 "nbformat": 4,
 "nbformat_minor": 5
}

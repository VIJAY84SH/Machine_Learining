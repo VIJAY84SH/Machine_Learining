{
 "cells": [
  {
   "cell_type": "code",
   "execution_count": 1,
   "id": "346b739c",
   "metadata": {},
   "outputs": [],
   "source": [
    "import pandas as pd\n",
    "import numpy as np\n",
    "import matplotlib.pyplot as plt\n",
    "import seaborn as sns"
   ]
  },
  {
   "cell_type": "code",
   "execution_count": 2,
   "id": "a8c4c590",
   "metadata": {},
   "outputs": [],
   "source": [
    "data = pd.read_csv('Property_Price_Train.csv')"
   ]
  },
  {
   "cell_type": "code",
   "execution_count": 3,
   "id": "0d6306fa",
   "metadata": {},
   "outputs": [
    {
     "data": {
      "text/html": [
       "<div>\n",
       "<style scoped>\n",
       "    .dataframe tbody tr th:only-of-type {\n",
       "        vertical-align: middle;\n",
       "    }\n",
       "\n",
       "    .dataframe tbody tr th {\n",
       "        vertical-align: top;\n",
       "    }\n",
       "\n",
       "    .dataframe thead th {\n",
       "        text-align: right;\n",
       "    }\n",
       "</style>\n",
       "<table border=\"1\" class=\"dataframe\">\n",
       "  <thead>\n",
       "    <tr style=\"text-align: right;\">\n",
       "      <th></th>\n",
       "      <th>Id</th>\n",
       "      <th>Building_Class</th>\n",
       "      <th>Zoning_Class</th>\n",
       "      <th>Lot_Extent</th>\n",
       "      <th>Lot_Size</th>\n",
       "      <th>Road_Type</th>\n",
       "      <th>Lane_Type</th>\n",
       "      <th>Property_Shape</th>\n",
       "      <th>Land_Outline</th>\n",
       "      <th>Utility_Type</th>\n",
       "      <th>...</th>\n",
       "      <th>Pool_Area</th>\n",
       "      <th>Pool_Quality</th>\n",
       "      <th>Fence_Quality</th>\n",
       "      <th>Miscellaneous_Feature</th>\n",
       "      <th>Miscellaneous_Value</th>\n",
       "      <th>Month_Sold</th>\n",
       "      <th>Year_Sold</th>\n",
       "      <th>Sale_Type</th>\n",
       "      <th>Sale_Condition</th>\n",
       "      <th>Sale_Price</th>\n",
       "    </tr>\n",
       "  </thead>\n",
       "  <tbody>\n",
       "    <tr>\n",
       "      <th>0</th>\n",
       "      <td>1</td>\n",
       "      <td>60</td>\n",
       "      <td>RLD</td>\n",
       "      <td>65.0</td>\n",
       "      <td>8450</td>\n",
       "      <td>Paved</td>\n",
       "      <td>NaN</td>\n",
       "      <td>Reg</td>\n",
       "      <td>Lvl</td>\n",
       "      <td>AllPub</td>\n",
       "      <td>...</td>\n",
       "      <td>0</td>\n",
       "      <td>NaN</td>\n",
       "      <td>NaN</td>\n",
       "      <td>NaN</td>\n",
       "      <td>0</td>\n",
       "      <td>2</td>\n",
       "      <td>2008</td>\n",
       "      <td>WD</td>\n",
       "      <td>Normal</td>\n",
       "      <td>208500</td>\n",
       "    </tr>\n",
       "    <tr>\n",
       "      <th>1</th>\n",
       "      <td>2</td>\n",
       "      <td>20</td>\n",
       "      <td>RLD</td>\n",
       "      <td>80.0</td>\n",
       "      <td>9600</td>\n",
       "      <td>Paved</td>\n",
       "      <td>NaN</td>\n",
       "      <td>Reg</td>\n",
       "      <td>Lvl</td>\n",
       "      <td>AllPub</td>\n",
       "      <td>...</td>\n",
       "      <td>0</td>\n",
       "      <td>NaN</td>\n",
       "      <td>NaN</td>\n",
       "      <td>NaN</td>\n",
       "      <td>0</td>\n",
       "      <td>5</td>\n",
       "      <td>2007</td>\n",
       "      <td>WD</td>\n",
       "      <td>Normal</td>\n",
       "      <td>181500</td>\n",
       "    </tr>\n",
       "    <tr>\n",
       "      <th>2</th>\n",
       "      <td>3</td>\n",
       "      <td>60</td>\n",
       "      <td>RLD</td>\n",
       "      <td>68.0</td>\n",
       "      <td>11250</td>\n",
       "      <td>Paved</td>\n",
       "      <td>NaN</td>\n",
       "      <td>IR1</td>\n",
       "      <td>Lvl</td>\n",
       "      <td>AllPub</td>\n",
       "      <td>...</td>\n",
       "      <td>0</td>\n",
       "      <td>NaN</td>\n",
       "      <td>NaN</td>\n",
       "      <td>NaN</td>\n",
       "      <td>0</td>\n",
       "      <td>9</td>\n",
       "      <td>2008</td>\n",
       "      <td>WD</td>\n",
       "      <td>Normal</td>\n",
       "      <td>223500</td>\n",
       "    </tr>\n",
       "    <tr>\n",
       "      <th>3</th>\n",
       "      <td>4</td>\n",
       "      <td>70</td>\n",
       "      <td>RLD</td>\n",
       "      <td>60.0</td>\n",
       "      <td>9550</td>\n",
       "      <td>Paved</td>\n",
       "      <td>NaN</td>\n",
       "      <td>IR1</td>\n",
       "      <td>Lvl</td>\n",
       "      <td>AllPub</td>\n",
       "      <td>...</td>\n",
       "      <td>0</td>\n",
       "      <td>NaN</td>\n",
       "      <td>NaN</td>\n",
       "      <td>NaN</td>\n",
       "      <td>0</td>\n",
       "      <td>2</td>\n",
       "      <td>2006</td>\n",
       "      <td>WD</td>\n",
       "      <td>Abnorml</td>\n",
       "      <td>140000</td>\n",
       "    </tr>\n",
       "    <tr>\n",
       "      <th>4</th>\n",
       "      <td>5</td>\n",
       "      <td>60</td>\n",
       "      <td>RLD</td>\n",
       "      <td>84.0</td>\n",
       "      <td>14260</td>\n",
       "      <td>Paved</td>\n",
       "      <td>NaN</td>\n",
       "      <td>IR1</td>\n",
       "      <td>Lvl</td>\n",
       "      <td>AllPub</td>\n",
       "      <td>...</td>\n",
       "      <td>0</td>\n",
       "      <td>NaN</td>\n",
       "      <td>NaN</td>\n",
       "      <td>NaN</td>\n",
       "      <td>0</td>\n",
       "      <td>12</td>\n",
       "      <td>2008</td>\n",
       "      <td>WD</td>\n",
       "      <td>Normal</td>\n",
       "      <td>250000</td>\n",
       "    </tr>\n",
       "  </tbody>\n",
       "</table>\n",
       "<p>5 rows × 81 columns</p>\n",
       "</div>"
      ],
      "text/plain": [
       "   Id  Building_Class Zoning_Class  Lot_Extent  Lot_Size Road_Type Lane_Type  \\\n",
       "0   1              60          RLD        65.0      8450     Paved       NaN   \n",
       "1   2              20          RLD        80.0      9600     Paved       NaN   \n",
       "2   3              60          RLD        68.0     11250     Paved       NaN   \n",
       "3   4              70          RLD        60.0      9550     Paved       NaN   \n",
       "4   5              60          RLD        84.0     14260     Paved       NaN   \n",
       "\n",
       "  Property_Shape Land_Outline Utility_Type  ... Pool_Area Pool_Quality  \\\n",
       "0            Reg          Lvl       AllPub  ...         0          NaN   \n",
       "1            Reg          Lvl       AllPub  ...         0          NaN   \n",
       "2            IR1          Lvl       AllPub  ...         0          NaN   \n",
       "3            IR1          Lvl       AllPub  ...         0          NaN   \n",
       "4            IR1          Lvl       AllPub  ...         0          NaN   \n",
       "\n",
       "  Fence_Quality Miscellaneous_Feature Miscellaneous_Value Month_Sold  \\\n",
       "0           NaN                   NaN                   0          2   \n",
       "1           NaN                   NaN                   0          5   \n",
       "2           NaN                   NaN                   0          9   \n",
       "3           NaN                   NaN                   0          2   \n",
       "4           NaN                   NaN                   0         12   \n",
       "\n",
       "  Year_Sold  Sale_Type  Sale_Condition  Sale_Price  \n",
       "0      2008         WD          Normal      208500  \n",
       "1      2007         WD          Normal      181500  \n",
       "2      2008         WD          Normal      223500  \n",
       "3      2006         WD         Abnorml      140000  \n",
       "4      2008         WD          Normal      250000  \n",
       "\n",
       "[5 rows x 81 columns]"
      ]
     },
     "execution_count": 3,
     "metadata": {},
     "output_type": "execute_result"
    }
   ],
   "source": [
    "data.head()"
   ]
  },
  {
   "cell_type": "code",
   "execution_count": 4,
   "id": "ae9a128b",
   "metadata": {
    "scrolled": false
   },
   "outputs": [
    {
     "data": {
      "text/plain": [
       "Index(['Lane_Type', 'Fireplace_Quality', 'Pool_Quality', 'Fence_Quality',\n",
       "       'Miscellaneous_Feature'],\n",
       "      dtype='object')"
      ]
     },
     "execution_count": 4,
     "metadata": {},
     "output_type": "execute_result"
    }
   ],
   "source": [
    "# Percetage of null\n",
    "pd.DataFrame(data.isnull().sum()[data.isnull().sum()*100/data.shape[0]>40]).index"
   ]
  },
  {
   "cell_type": "code",
   "execution_count": 5,
   "id": "988c69f3",
   "metadata": {},
   "outputs": [],
   "source": [
    "# lets removed those columns have high % of nulls...and taken ID column as well which is not significant\n",
    "data =data.drop(['Lane_Type', 'Fireplace_Quality', 'Pool_Quality', 'Fence_Quality',\n",
    "       'Miscellaneous_Feature','Id'],axis=1)"
   ]
  },
  {
   "cell_type": "code",
   "execution_count": 6,
   "id": "537164ca",
   "metadata": {},
   "outputs": [
    {
     "data": {
      "text/plain": [
       "(1459, 75)"
      ]
     },
     "execution_count": 6,
     "metadata": {},
     "output_type": "execute_result"
    }
   ],
   "source": [
    "data.shape"
   ]
  },
  {
   "cell_type": "code",
   "execution_count": 7,
   "id": "8f53454f",
   "metadata": {},
   "outputs": [
    {
     "data": {
      "text/plain": [
       "Lot_Extent            259\n",
       "Brick_Veneer_Type       8\n",
       "Brick_Veneer_Area       8\n",
       "Basement_Height        37\n",
       "Basement_Condition     37\n",
       "Exposure_Level         38\n",
       "BsmtFinType1           37\n",
       "BsmtFinType2           38\n",
       "Electrical_System       1\n",
       "Garage                 81\n",
       "Garage_Built_Year      81\n",
       "Garage_Finish_Year     81\n",
       "Garage_Quality         81\n",
       "Garage_Condition       81\n",
       "dtype: int64"
      ]
     },
     "execution_count": 7,
     "metadata": {},
     "output_type": "execute_result"
    }
   ],
   "source": [
    "data.isnull().sum()[data.isnull().sum()>0]"
   ]
  },
  {
   "cell_type": "code",
   "execution_count": 8,
   "id": "b10409ac",
   "metadata": {},
   "outputs": [],
   "source": [
    "data.Lot_Extent.fillna(data.Lot_Extent.mean(), inplace = True)\n",
    "data.Brick_Veneer_Type.fillna(\"None\", inplace = True)\n",
    "data.Brick_Veneer_Area.fillna(data.Brick_Veneer_Area.mean(), inplace = True)\n",
    "data.Basement_Height.fillna(\"TA\", inplace = True)\n",
    "data.Basement_Condition.fillna(\"TA\", inplace = True)\n",
    "data.Exposure_Level.fillna(\"No\", inplace = True)\n",
    "data.BsmtFinType1.fillna('Unf', inplace = True)\n",
    "data.BsmtFinType2.fillna(\"Unf\", inplace = True)\n",
    "data.Garage.fillna(\"Attchd\", inplace = True)\n",
    "data.Garage.fillna(\"Attchd\", inplace = True)\n",
    "data.Garage_Built_Year.fillna(data.Garage_Built_Year.mean(), inplace = True)\n",
    "data.Garage_Finish_Year.fillna(\"RFn\", inplace = True)\n",
    "data.Garage_Quality.fillna(\"TA\", inplace = True)\n",
    "data.Garage_Condition.fillna(\"TA\", inplace = True)"
   ]
  },
  {
   "cell_type": "code",
   "execution_count": 9,
   "id": "2e61949a",
   "metadata": {
    "scrolled": false
   },
   "outputs": [
    {
     "data": {
      "text/plain": [
       "Electrical_System    1\n",
       "dtype: int64"
      ]
     },
     "execution_count": 9,
     "metadata": {},
     "output_type": "execute_result"
    }
   ],
   "source": [
    "data.isnull().sum()[data.isnull().sum()>0]"
   ]
  },
  {
   "cell_type": "code",
   "execution_count": 10,
   "id": "6fddffca",
   "metadata": {},
   "outputs": [],
   "source": [
    "data = data.dropna()"
   ]
  },
  {
   "cell_type": "markdown",
   "id": "c28b03af",
   "metadata": {},
   "source": [
    "### Label Encoder"
   ]
  },
  {
   "cell_type": "code",
   "execution_count": 11,
   "id": "7f05a8d9",
   "metadata": {},
   "outputs": [],
   "source": [
    "from sklearn.preprocessing import LabelEncoder\n",
    "le = LabelEncoder()"
   ]
  },
  {
   "cell_type": "code",
   "execution_count": 12,
   "id": "dd81b894",
   "metadata": {},
   "outputs": [],
   "source": [
    "data[data.select_dtypes('object').columns]=data[data.select_dtypes('object').columns].apply(le.fit_transform)"
   ]
  },
  {
   "cell_type": "code",
   "execution_count": 13,
   "id": "5da625e9",
   "metadata": {
    "scrolled": false
   },
   "outputs": [
    {
     "data": {
      "text/html": [
       "<div>\n",
       "<style scoped>\n",
       "    .dataframe tbody tr th:only-of-type {\n",
       "        vertical-align: middle;\n",
       "    }\n",
       "\n",
       "    .dataframe tbody tr th {\n",
       "        vertical-align: top;\n",
       "    }\n",
       "\n",
       "    .dataframe thead th {\n",
       "        text-align: right;\n",
       "    }\n",
       "</style>\n",
       "<table border=\"1\" class=\"dataframe\">\n",
       "  <thead>\n",
       "    <tr style=\"text-align: right;\">\n",
       "      <th></th>\n",
       "      <th>Building_Class</th>\n",
       "      <th>Zoning_Class</th>\n",
       "      <th>Lot_Extent</th>\n",
       "      <th>Lot_Size</th>\n",
       "      <th>Road_Type</th>\n",
       "      <th>Property_Shape</th>\n",
       "      <th>Land_Outline</th>\n",
       "      <th>Utility_Type</th>\n",
       "      <th>Lot_Configuration</th>\n",
       "      <th>Property_Slope</th>\n",
       "      <th>...</th>\n",
       "      <th>Enclosed_Lobby_Area</th>\n",
       "      <th>Three_Season_Lobby_Area</th>\n",
       "      <th>Screen_Lobby_Area</th>\n",
       "      <th>Pool_Area</th>\n",
       "      <th>Miscellaneous_Value</th>\n",
       "      <th>Month_Sold</th>\n",
       "      <th>Year_Sold</th>\n",
       "      <th>Sale_Type</th>\n",
       "      <th>Sale_Condition</th>\n",
       "      <th>Sale_Price</th>\n",
       "    </tr>\n",
       "  </thead>\n",
       "  <tbody>\n",
       "    <tr>\n",
       "      <th>0</th>\n",
       "      <td>60</td>\n",
       "      <td>3</td>\n",
       "      <td>65.0</td>\n",
       "      <td>8450</td>\n",
       "      <td>1</td>\n",
       "      <td>3</td>\n",
       "      <td>3</td>\n",
       "      <td>0</td>\n",
       "      <td>4</td>\n",
       "      <td>0</td>\n",
       "      <td>...</td>\n",
       "      <td>20.337934</td>\n",
       "      <td>0</td>\n",
       "      <td>0</td>\n",
       "      <td>0</td>\n",
       "      <td>0</td>\n",
       "      <td>2</td>\n",
       "      <td>2008</td>\n",
       "      <td>8</td>\n",
       "      <td>4</td>\n",
       "      <td>208500</td>\n",
       "    </tr>\n",
       "    <tr>\n",
       "      <th>1</th>\n",
       "      <td>20</td>\n",
       "      <td>3</td>\n",
       "      <td>80.0</td>\n",
       "      <td>9600</td>\n",
       "      <td>1</td>\n",
       "      <td>3</td>\n",
       "      <td>3</td>\n",
       "      <td>0</td>\n",
       "      <td>2</td>\n",
       "      <td>0</td>\n",
       "      <td>...</td>\n",
       "      <td>15.039392</td>\n",
       "      <td>0</td>\n",
       "      <td>0</td>\n",
       "      <td>0</td>\n",
       "      <td>0</td>\n",
       "      <td>5</td>\n",
       "      <td>2007</td>\n",
       "      <td>8</td>\n",
       "      <td>4</td>\n",
       "      <td>181500</td>\n",
       "    </tr>\n",
       "    <tr>\n",
       "      <th>2</th>\n",
       "      <td>60</td>\n",
       "      <td>3</td>\n",
       "      <td>68.0</td>\n",
       "      <td>11250</td>\n",
       "      <td>1</td>\n",
       "      <td>0</td>\n",
       "      <td>3</td>\n",
       "      <td>0</td>\n",
       "      <td>4</td>\n",
       "      <td>0</td>\n",
       "      <td>...</td>\n",
       "      <td>-46.232198</td>\n",
       "      <td>0</td>\n",
       "      <td>0</td>\n",
       "      <td>0</td>\n",
       "      <td>0</td>\n",
       "      <td>9</td>\n",
       "      <td>2008</td>\n",
       "      <td>8</td>\n",
       "      <td>4</td>\n",
       "      <td>223500</td>\n",
       "    </tr>\n",
       "    <tr>\n",
       "      <th>3</th>\n",
       "      <td>70</td>\n",
       "      <td>3</td>\n",
       "      <td>60.0</td>\n",
       "      <td>9550</td>\n",
       "      <td>1</td>\n",
       "      <td>0</td>\n",
       "      <td>3</td>\n",
       "      <td>0</td>\n",
       "      <td>0</td>\n",
       "      <td>0</td>\n",
       "      <td>...</td>\n",
       "      <td>60.921821</td>\n",
       "      <td>0</td>\n",
       "      <td>0</td>\n",
       "      <td>0</td>\n",
       "      <td>0</td>\n",
       "      <td>2</td>\n",
       "      <td>2006</td>\n",
       "      <td>8</td>\n",
       "      <td>0</td>\n",
       "      <td>140000</td>\n",
       "    </tr>\n",
       "    <tr>\n",
       "      <th>4</th>\n",
       "      <td>60</td>\n",
       "      <td>3</td>\n",
       "      <td>84.0</td>\n",
       "      <td>14260</td>\n",
       "      <td>1</td>\n",
       "      <td>0</td>\n",
       "      <td>3</td>\n",
       "      <td>0</td>\n",
       "      <td>2</td>\n",
       "      <td>0</td>\n",
       "      <td>...</td>\n",
       "      <td>21.788818</td>\n",
       "      <td>0</td>\n",
       "      <td>0</td>\n",
       "      <td>0</td>\n",
       "      <td>0</td>\n",
       "      <td>12</td>\n",
       "      <td>2008</td>\n",
       "      <td>8</td>\n",
       "      <td>4</td>\n",
       "      <td>250000</td>\n",
       "    </tr>\n",
       "  </tbody>\n",
       "</table>\n",
       "<p>5 rows × 75 columns</p>\n",
       "</div>"
      ],
      "text/plain": [
       "   Building_Class  Zoning_Class  Lot_Extent  Lot_Size  Road_Type  \\\n",
       "0              60             3        65.0      8450          1   \n",
       "1              20             3        80.0      9600          1   \n",
       "2              60             3        68.0     11250          1   \n",
       "3              70             3        60.0      9550          1   \n",
       "4              60             3        84.0     14260          1   \n",
       "\n",
       "   Property_Shape  Land_Outline  Utility_Type  Lot_Configuration  \\\n",
       "0               3             3             0                  4   \n",
       "1               3             3             0                  2   \n",
       "2               0             3             0                  4   \n",
       "3               0             3             0                  0   \n",
       "4               0             3             0                  2   \n",
       "\n",
       "   Property_Slope  ...  Enclosed_Lobby_Area  Three_Season_Lobby_Area  \\\n",
       "0               0  ...            20.337934                        0   \n",
       "1               0  ...            15.039392                        0   \n",
       "2               0  ...           -46.232198                        0   \n",
       "3               0  ...            60.921821                        0   \n",
       "4               0  ...            21.788818                        0   \n",
       "\n",
       "   Screen_Lobby_Area  Pool_Area  Miscellaneous_Value  Month_Sold  Year_Sold  \\\n",
       "0                  0          0                    0           2       2008   \n",
       "1                  0          0                    0           5       2007   \n",
       "2                  0          0                    0           9       2008   \n",
       "3                  0          0                    0           2       2006   \n",
       "4                  0          0                    0          12       2008   \n",
       "\n",
       "   Sale_Type  Sale_Condition  Sale_Price  \n",
       "0          8               4      208500  \n",
       "1          8               4      181500  \n",
       "2          8               4      223500  \n",
       "3          8               0      140000  \n",
       "4          8               4      250000  \n",
       "\n",
       "[5 rows x 75 columns]"
      ]
     },
     "execution_count": 13,
     "metadata": {},
     "output_type": "execute_result"
    }
   ],
   "source": [
    "data.head()"
   ]
  },
  {
   "cell_type": "code",
   "execution_count": 14,
   "id": "be130cfa",
   "metadata": {},
   "outputs": [
    {
     "data": {
      "text/plain": [
       "Index([], dtype='object')"
      ]
     },
     "execution_count": 14,
     "metadata": {},
     "output_type": "execute_result"
    }
   ],
   "source": [
    "data.select_dtypes(include='object').columns"
   ]
  },
  {
   "cell_type": "markdown",
   "id": "5e72846d",
   "metadata": {},
   "source": [
    "### Corr of Xn variable with y"
   ]
  },
  {
   "cell_type": "markdown",
   "id": "773fbb39",
   "metadata": {},
   "source": [
    "### sorting significant variable only"
   ]
  },
  {
   "cell_type": "code",
   "execution_count": 15,
   "id": "232ad13e",
   "metadata": {},
   "outputs": [],
   "source": [
    "#As of now we build the model using all x variable(74)\n",
    "\n",
    "# lets build the model using ONLY sifnificant variable--> \n",
    "# correlation btwn x variables and y variable"
   ]
  },
  {
   "cell_type": "code",
   "execution_count": 16,
   "id": "5c449b1f",
   "metadata": {},
   "outputs": [],
   "source": [
    "y = data.Sale_Price\n",
    "x = data.drop(['Sale_Price'],axis = 1)"
   ]
  },
  {
   "cell_type": "code",
   "execution_count": 17,
   "id": "97a58a34",
   "metadata": {},
   "outputs": [],
   "source": [
    "corr_list = []\n",
    "for col in x.columns:\n",
    "    corr_list.append(y.corr(x[col]))\n",
    "    "
   ]
  },
  {
   "cell_type": "code",
   "execution_count": 18,
   "id": "37480730",
   "metadata": {},
   "outputs": [],
   "source": [
    "feat_imp = pd.DataFrame()"
   ]
  },
  {
   "cell_type": "code",
   "execution_count": 19,
   "id": "3b0da286",
   "metadata": {},
   "outputs": [],
   "source": [
    "feat_imp['Features'] = x.columns\n",
    "feat_imp['Imp'] = corr_list"
   ]
  },
  {
   "cell_type": "code",
   "execution_count": 20,
   "id": "cf0dffaf",
   "metadata": {},
   "outputs": [],
   "source": [
    "significant_list = list(feat_imp[(feat_imp.Imp < - 0.2) | (feat_imp.Imp > 0.2)].Features)\n"
   ]
  },
  {
   "cell_type": "code",
   "execution_count": 21,
   "id": "9d98f9b3",
   "metadata": {},
   "outputs": [],
   "source": [
    "significant_list.append('Sale_Price')"
   ]
  },
  {
   "cell_type": "code",
   "execution_count": 22,
   "id": "9d06ff77",
   "metadata": {},
   "outputs": [],
   "source": [
    "data1 = data.loc[ : ,significant_list]"
   ]
  },
  {
   "cell_type": "code",
   "execution_count": 23,
   "id": "3cae01c5",
   "metadata": {},
   "outputs": [],
   "source": [
    "#data1['Sale_Price'] = y.values"
   ]
  },
  {
   "cell_type": "code",
   "execution_count": 24,
   "id": "3bdcadcb",
   "metadata": {},
   "outputs": [],
   "source": [
    "data = data1"
   ]
  },
  {
   "cell_type": "markdown",
   "id": "10372b1f",
   "metadata": {},
   "source": [
    "### Remove Outliers"
   ]
  },
  {
   "cell_type": "code",
   "execution_count": 25,
   "id": "f0690fb5",
   "metadata": {},
   "outputs": [],
   "source": [
    "def remove_outliers(df,col,k):   # k is num of sd\n",
    "    mean = df[col].mean()\n",
    "    global df1              # data frame after removing outliers\n",
    "    sd = df[col].std()\n",
    "    final_list = [x for x in df[col] if (x > mean - k*sd)]\n",
    "    final_list = [x for x in final_list if (x < mean +k*sd)]\n",
    "    df1 = df.loc[df[col].isin(final_list)]\n",
    "    print(df1.shape)\n",
    "    print(\"Number of outliers removed==>\",df.shape[0]- df1.shape[0])\n",
    "    "
   ]
  },
  {
   "cell_type": "code",
   "execution_count": 26,
   "id": "90594f1e",
   "metadata": {
    "scrolled": true
   },
   "outputs": [
    {
     "name": "stdout",
     "output_type": "stream",
     "text": [
      "(1395, 35)\n",
      "Number of outliers removed==> 63\n"
     ]
    }
   ],
   "source": [
    "remove_outliers(data,'Sale_Price',2)"
   ]
  },
  {
   "cell_type": "code",
   "execution_count": 27,
   "id": "2ef3b72f",
   "metadata": {},
   "outputs": [],
   "source": [
    "data = df1"
   ]
  },
  {
   "cell_type": "markdown",
   "id": "d610ea45",
   "metadata": {},
   "source": [
    "### Sampling"
   ]
  },
  {
   "cell_type": "code",
   "execution_count": 28,
   "id": "df7736e0",
   "metadata": {},
   "outputs": [],
   "source": [
    "from sklearn.model_selection import train_test_split"
   ]
  },
  {
   "cell_type": "code",
   "execution_count": 29,
   "id": "e81648a1",
   "metadata": {},
   "outputs": [],
   "source": [
    "#data = df1"
   ]
  },
  {
   "cell_type": "code",
   "execution_count": 30,
   "id": "c92ffbe5",
   "metadata": {},
   "outputs": [],
   "source": [
    "train_data,test_data = train_test_split(data,test_size=.2)"
   ]
  },
  {
   "cell_type": "code",
   "execution_count": 31,
   "id": "bc315206",
   "metadata": {},
   "outputs": [
    {
     "data": {
      "text/plain": [
       "(1395, 35)"
      ]
     },
     "execution_count": 31,
     "metadata": {},
     "output_type": "execute_result"
    }
   ],
   "source": [
    "data.shape           # original Data size"
   ]
  },
  {
   "cell_type": "code",
   "execution_count": 32,
   "id": "8a3c8f8f",
   "metadata": {},
   "outputs": [
    {
     "data": {
      "text/plain": [
       "(1116, 35)"
      ]
     },
     "execution_count": 32,
     "metadata": {},
     "output_type": "execute_result"
    }
   ],
   "source": [
    "train_data.shape     # Train data size 80%"
   ]
  },
  {
   "cell_type": "code",
   "execution_count": 33,
   "id": "96e70f77",
   "metadata": {},
   "outputs": [
    {
     "data": {
      "text/plain": [
       "(279, 35)"
      ]
     },
     "execution_count": 33,
     "metadata": {},
     "output_type": "execute_result"
    }
   ],
   "source": [
    "test_data.shape      # Test Data size"
   ]
  },
  {
   "cell_type": "code",
   "execution_count": 34,
   "id": "7c84d40e",
   "metadata": {},
   "outputs": [],
   "source": [
    "train_data_x = train_data.iloc[ : , :-1]\n",
    "train_data_y = train_data.iloc[ : ,-1]"
   ]
  },
  {
   "cell_type": "code",
   "execution_count": 35,
   "id": "8557641e",
   "metadata": {},
   "outputs": [],
   "source": [
    "test_data_x = test_data.iloc[ : , :-1]\n",
    "test_data_y = test_data.iloc[ : ,-1]"
   ]
  },
  {
   "cell_type": "markdown",
   "id": "036798fe",
   "metadata": {},
   "source": [
    "### Model Building"
   ]
  },
  {
   "cell_type": "markdown",
   "id": "d578c72d",
   "metadata": {},
   "source": [
    "#### Liner Regression"
   ]
  },
  {
   "cell_type": "code",
   "execution_count": 36,
   "id": "1e2a8c7e",
   "metadata": {},
   "outputs": [],
   "source": [
    "from sklearn.linear_model import LinearRegression\n",
    "lr = LinearRegression()"
   ]
  },
  {
   "cell_type": "code",
   "execution_count": 37,
   "id": "8708795e",
   "metadata": {},
   "outputs": [
    {
     "data": {
      "text/plain": [
       "LinearRegression()"
      ]
     },
     "execution_count": 37,
     "metadata": {},
     "output_type": "execute_result"
    }
   ],
   "source": [
    "lr.fit(train_data_x,train_data_y)"
   ]
  },
  {
   "cell_type": "markdown",
   "id": "111ff169",
   "metadata": {},
   "source": [
    "#### Rsquare"
   ]
  },
  {
   "cell_type": "code",
   "execution_count": 38,
   "id": "5d73808f",
   "metadata": {},
   "outputs": [
    {
     "data": {
      "text/plain": [
       "0.8547642103738042"
      ]
     },
     "execution_count": 38,
     "metadata": {},
     "output_type": "execute_result"
    }
   ],
   "source": [
    "Rsquare = lr.score(train_data_x,train_data_y)\n",
    "Rsquare"
   ]
  },
  {
   "cell_type": "markdown",
   "id": "1eeda2a9",
   "metadata": {},
   "source": [
    "#### Adjusted Rsquare"
   ]
  },
  {
   "cell_type": "code",
   "execution_count": 39,
   "id": "6a048d1c",
   "metadata": {},
   "outputs": [
    {
     "data": {
      "text/plain": [
       "0.8501962021894466"
      ]
     },
     "execution_count": 39,
     "metadata": {},
     "output_type": "execute_result"
    }
   ],
   "source": [
    "N = train_data_x.shape[0]\n",
    "K =  train_data_x.shape[1]\n",
    "\n",
    "AdjRsqure = 1-((1-Rsquare)*(N-1)/(N-K-1))\n",
    "AdjRsqure"
   ]
  },
  {
   "cell_type": "code",
   "execution_count": 40,
   "id": "956399c2",
   "metadata": {},
   "outputs": [],
   "source": [
    "Rsquare = 0.8749150931779194\n",
    "\n",
    "AdjRsqure = 0.8658242857823863\n"
   ]
  },
  {
   "cell_type": "code",
   "execution_count": 41,
   "id": "34388331",
   "metadata": {},
   "outputs": [],
   "source": [
    "#Prediction, Error, Check the Assumption. MSE, RMSE"
   ]
  },
  {
   "cell_type": "markdown",
   "id": "283285e2",
   "metadata": {},
   "source": [
    "#### Prediction"
   ]
  },
  {
   "cell_type": "code",
   "execution_count": 42,
   "id": "224e8274",
   "metadata": {},
   "outputs": [],
   "source": [
    "pred_train = lr.predict(train_data_x)    # prediction for each row...x vlaues(Featres)\n",
    "pred_test = lr.predict(test_data_x)\n",
    "\n",
    "err_train = train_data_y - pred_train\n",
    "err_test =  test_data_y - pred_test"
   ]
  },
  {
   "cell_type": "markdown",
   "id": "b0af922b",
   "metadata": {},
   "source": [
    "### Assumptions"
   ]
  },
  {
   "cell_type": "code",
   "execution_count": 43,
   "id": "3ca9937e",
   "metadata": {},
   "outputs": [
    {
     "data": {
      "text/plain": [
       "1.4291128217105798e-10"
      ]
     },
     "execution_count": 43,
     "metadata": {},
     "output_type": "execute_result"
    }
   ],
   "source": [
    "np.mean(err_train  )"
   ]
  },
  {
   "cell_type": "code",
   "execution_count": 44,
   "id": "b8fe0c9f",
   "metadata": {},
   "outputs": [
    {
     "data": {
      "text/plain": [
       "(array([  1.,   0.,   0.,   0.,   0.,   0.,   0.,   0.,   0.,   0.,   0.,\n",
       "          0.,   0.,   0.,   0.,   0.,   0.,   0.,   0.,   1.,   1.,   0.,\n",
       "          0.,   1.,   5.,   6.,  24.,  52., 106., 183., 247., 224., 126.,\n",
       "         76.,  34.,  18.,   4.,   4.,   2.,   1.]),\n",
       " array([-300720.23972913, -290930.62275599, -281141.00578285,\n",
       "        -271351.38880971, -261561.77183657, -251772.15486343,\n",
       "        -241982.53789029, -232192.92091715, -222403.30394401,\n",
       "        -212613.68697087, -202824.06999773, -193034.45302459,\n",
       "        -183244.83605145, -173455.21907831, -163665.60210517,\n",
       "        -153875.98513203, -144086.36815889, -134296.75118575,\n",
       "        -124507.13421261, -114717.51723947, -104927.90026633,\n",
       "         -95138.28329319,  -85348.66632005,  -75559.04934691,\n",
       "         -65769.43237377,  -55979.81540063,  -46190.19842749,\n",
       "         -36400.58145435,  -26610.96448121,  -16821.34750807,\n",
       "          -7031.73053493,    2757.88643821,   12547.50341135,\n",
       "          22337.12038448,   32126.73735762,   41916.35433076,\n",
       "          51705.9713039 ,   61495.58827704,   71285.20525018,\n",
       "          81074.82222332,   90864.43919646]),\n",
       " <BarContainer object of 40 artists>)"
      ]
     },
     "execution_count": 44,
     "metadata": {},
     "output_type": "execute_result"
    },
    {
     "data": {
      "image/png": "[encoded data removed]",
      "text/plain": [
       "<Figure size 640x480 with 1 Axes>"
      ]
     },
     "metadata": {},
     "output_type": "display_data"
    }
   ],
   "source": [
    "plt.hist(err_train, bins = 40)  # its not normally distributed"
   ]
  },
  {
   "cell_type": "code",
   "execution_count": 45,
   "id": "fe34ef32",
   "metadata": {},
   "outputs": [
    {
     "name": "stderr",
     "output_type": "stream",
     "text": [
      "C:\\Users\\MR.GODHADE\\anaconda3\\lib\\site-packages\\seaborn\\_decorators.py:36: FutureWarning: Pass the following variable as a keyword arg: x. From version 0.12, the only valid positional argument will be `data`, and passing other arguments without an explicit keyword will result in an error or misinterpretation.\n",
      "  warnings.warn(\n"
     ]
    },
    {
     "data": {
      "text/plain": [
       "<AxesSubplot:xlabel='Sale_Price'>"
      ]
     },
     "execution_count": 45,
     "metadata": {},
     "output_type": "execute_result"
    },
    {
     "data": {
      "image/png": "[encoded data removed]",
      "text/plain": [
       "<Figure size 640x480 with 1 Axes>"
      ]
     },
     "metadata": {},
     "output_type": "display_data"
    }
   ],
   "source": [
    "sns.boxplot(err_train)"
   ]
  },
  {
   "cell_type": "code",
   "execution_count": 46,
   "id": "bb2ceb23",
   "metadata": {},
   "outputs": [
    {
     "data": {
      "text/plain": [
       "<matplotlib.lines.Line2D at 0x1fd09f63730>"
      ]
     },
     "execution_count": 46,
     "metadata": {},
     "output_type": "execute_result"
    },
    {
     "data": {
      "image/png": "[encoded data removed]",
      "text/plain": [
       "<Figure size 640x480 with 1 Axes>"
      ]
     },
     "metadata": {},
     "output_type": "display_data"
    }
   ],
   "source": [
    "plt.plot(err_train,\"*\")\n",
    "plt.axhline(y = np.mean(err_train),color = 'r')\n",
    "#if u want horizontal line to x axis give y only\n",
    "plt.axhline(y = 50000,color = 'y')\n",
    "plt.axhline(y = -50000,color = 'y')"
   ]
  },
  {
   "cell_type": "code",
   "execution_count": 47,
   "id": "169e0180",
   "metadata": {},
   "outputs": [],
   "source": [
    "actual_pred = pd.DataFrame()"
   ]
  },
  {
   "cell_type": "code",
   "execution_count": 48,
   "id": "68f3b6b2",
   "metadata": {},
   "outputs": [],
   "source": [
    "actual_pred['Actual'] = train_data_y\n",
    "actual_pred['Predicted'] = pred_train"
   ]
  },
  {
   "cell_type": "code",
   "execution_count": 49,
   "id": "5fedbd70",
   "metadata": {},
   "outputs": [
    {
     "data": {
      "text/plain": [
       "<AxesSubplot:xlabel='Actual', ylabel='Predicted'>"
      ]
     },
     "execution_count": 49,
     "metadata": {},
     "output_type": "execute_result"
    },
    {
     "data": {
      "image/png": "[encoded data removed]",
      "text/plain": [
       "<Figure size 640x480 with 1 Axes>"
      ]
     },
     "metadata": {},
     "output_type": "display_data"
    }
   ],
   "source": [
    "sns.regplot(x = 'Actual',y = 'Predicted',data = actual_pred)"
   ]
  },
  {
   "cell_type": "code",
   "execution_count": 50,
   "id": "8221f282",
   "metadata": {},
   "outputs": [
    {
     "data": {
      "text/plain": [
       "-2.1859233379335175"
      ]
     },
     "execution_count": 50,
     "metadata": {},
     "output_type": "execute_result"
    }
   ],
   "source": [
    "err_train.skew()"
   ]
  },
  {
   "cell_type": "code",
   "execution_count": 51,
   "id": "0694012d",
   "metadata": {},
   "outputs": [
    {
     "data": {
      "text/plain": [
       "30.183026584382002"
      ]
     },
     "execution_count": 51,
     "metadata": {},
     "output_type": "execute_result"
    }
   ],
   "source": [
    "err_train.kurtosis()"
   ]
  },
  {
   "cell_type": "markdown",
   "id": "8af63969",
   "metadata": {},
   "source": [
    "_____________________________________________________"
   ]
  },
  {
   "cell_type": "markdown",
   "id": "c8e5e130",
   "metadata": {},
   "source": [
    "### to check the mape,mse,rmse on the test data"
   ]
  },
  {
   "cell_type": "code",
   "execution_count": 52,
   "id": "05837fdc",
   "metadata": {},
   "outputs": [],
   "source": [
    "mse = np.mean(np.square(err_test))  # mean---Squre---Error\n",
    "rmse = np.sqrt(mse)\n",
    "mape =  np.mean(np.abs((err_test *100/test_data_y)))"
   ]
  },
  {
   "cell_type": "code",
   "execution_count": 53,
   "id": "e59780cd",
   "metadata": {},
   "outputs": [
    {
     "data": {
      "text/plain": [
       "1353211374.8953521"
      ]
     },
     "execution_count": 53,
     "metadata": {},
     "output_type": "execute_result"
    }
   ],
   "source": [
    "mse"
   ]
  },
  {
   "cell_type": "code",
   "execution_count": 54,
   "id": "0da07644",
   "metadata": {},
   "outputs": [
    {
     "data": {
      "text/plain": [
       "36786.02146054058"
      ]
     },
     "execution_count": 54,
     "metadata": {},
     "output_type": "execute_result"
    }
   ],
   "source": [
    "rmse"
   ]
  },
  {
   "cell_type": "code",
   "execution_count": 55,
   "id": "22c865cf",
   "metadata": {},
   "outputs": [
    {
     "data": {
      "text/plain": [
       "11.914023981997182"
      ]
     },
     "execution_count": 55,
     "metadata": {},
     "output_type": "execute_result"
    }
   ],
   "source": [
    "mape"
   ]
  },
  {
   "cell_type": "code",
   "execution_count": 56,
   "id": "bc40249d",
   "metadata": {
    "scrolled": true
   },
   "outputs": [
    {
     "data": {
      "text/plain": [
       "88.08597601800281"
      ]
     },
     "execution_count": 56,
     "metadata": {},
     "output_type": "execute_result"
    }
   ],
   "source": [
    "acc = 100 - mape\n",
    "acc"
   ]
  },
  {
   "cell_type": "markdown",
   "id": "6b1cffb9",
   "metadata": {},
   "source": [
    "### MSE, MAPE By using sklearn"
   ]
  },
  {
   "cell_type": "code",
   "execution_count": 57,
   "id": "6fd92758",
   "metadata": {},
   "outputs": [],
   "source": [
    "from sklearn.metrics import mean_squared_error,mean_absolute_percentage_error"
   ]
  },
  {
   "cell_type": "code",
   "execution_count": 58,
   "id": "3fdff6fe",
   "metadata": {},
   "outputs": [
    {
     "data": {
      "text/plain": [
       "1353211374.895352"
      ]
     },
     "execution_count": 58,
     "metadata": {},
     "output_type": "execute_result"
    }
   ],
   "source": [
    "mean_squared_error(test_data_y,pred_test)"
   ]
  },
  {
   "cell_type": "code",
   "execution_count": 59,
   "id": "72d70fb3",
   "metadata": {},
   "outputs": [
    {
     "data": {
      "text/plain": [
       "11.914023981997186"
      ]
     },
     "execution_count": 59,
     "metadata": {},
     "output_type": "execute_result"
    }
   ],
   "source": [
    "mean_absolute_percentage_error(test_data_y,pred_test)*100"
   ]
  },
  {
   "cell_type": "code",
   "execution_count": null,
   "id": "6a008648",
   "metadata": {},
   "outputs": [],
   "source": []
  },
  {
   "cell_type": "code",
   "execution_count": null,
   "id": "5aef0c66",
   "metadata": {},
   "outputs": [],
   "source": []
  },
  {
   "cell_type": "code",
   "execution_count": null,
   "id": "85bb873f",
   "metadata": {},
   "outputs": [],
   "source": []
  },
  {
   "cell_type": "code",
   "execution_count": null,
   "id": "37f3f4e9",
   "metadata": {},
   "outputs": [],
   "source": []
  },
  {
   "cell_type": "code",
   "execution_count": null,
   "id": "22e67d08",
   "metadata": {},
   "outputs": [],
   "source": []
  }
 ],
 "metadata": {
  "kernelspec": {
   "display_name": "Python 3 (ipykernel)",
   "language": "python",
   "name": "python3"
  },
  "language_info": {
   "codemirror_mode": {
    "name": "ipython",
    "version": 3
   },
   "file_extension": ".py",
   "mimetype": "text/x-python",
   "name": "python",
   "nbconvert_exporter": "python",
   "pygments_lexer": "ipython3",
   "version": "3.9.13"
  }
 },
 "nbformat": 4,
 "nbformat_minor": 5
}
